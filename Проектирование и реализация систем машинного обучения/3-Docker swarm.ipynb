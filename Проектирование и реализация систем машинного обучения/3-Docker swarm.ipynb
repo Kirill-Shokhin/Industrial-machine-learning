{
 "cells": [
  {
   "cell_type": "markdown",
   "metadata": {},
   "source": [
    "# Задание\n",
    "\n",
    "Необходимо объединить три машины в кластер. \n",
    "На главной машине запустить специальный сервис проверки. Этот сервис будет следить за происходящим на кластере и если заданнная в этом задании конфигурация будет выставлена корректно, то он выдаст правильный ответ.\n",
    "Этот правильный ответ необходимо будет записать здесь в файл `result.txt`. \n",
    "\n",
    "Комада для запуска сервиса\n",
    "\n",
    "```bash\n",
    "docker service create \\\n",
    "  --name=supervisor \\\n",
    "  --publish=9090:9090/tcp \\\n",
    "  --constraint=node.role==manager \\\n",
    "  --mount=type=bind,src=/var/run/docker.sock,dst=/var/run/docker.sock \\\n",
    "  adkosmos/supervisor:latest\n",
    "```\n",
    "\n",
    "После этого можно открыть порт 9090 и посмотреть, что покажет этот сервис. Как только корректная конфигурация будет запущена, по этому порту можно будет получить правильный ответ. Если в конфигурации ошибка или чего-то не хватает, то он покажет эту информацию.\n",
    "\n",
    "\n",
    "Требуемая конфигурация кластера - необходимо запустить два сервиса\n",
    "* Сервисы должны называться `database` и `application`. \n",
    "* Для `database` необходимо использовать образ `mongo:4.2`, а для `application` - `adicom/admin-mongo:latest`.\n",
    "* Для `application` должны быть проброшен порт `1234` -> `1234`\n",
    "* Для `application` должна быть подключена конфигурация через инструмент `configs` по пути `/config/app.json`. Само содержимое этого файла конфигурации указано ниже\n",
    "* `application` должен быть запущен в двух копиях - то есть параметр репликации выставлен в 2.\n",
    "\n",
    "Файл конфигурации для `application`\n",
    "```json\n",
    "{\n",
    "    \"app\": {\n",
    "        \"host\": \"database\",\n",
    "        \"port\": 27017\n",
    "    }\n",
    "}\n",
    "```"
   ]
  },
  {
   "cell_type": "markdown",
   "metadata": {},
   "source": [
    "## Решение"
   ]
  },
  {
   "cell_type": "markdown",
   "metadata": {},
   "source": [
    "**docker-compose.yaml**\n",
    "```yaml\n",
    "version: \"3.7\"\n",
    "\n",
    "services:\n",
    "  database:\n",
    "    image: mongo:4.2  \n",
    "  application:\n",
    "    image: adicom/admin-mongo:latest\n",
    "    deploy:\n",
    "      mode: replicated\n",
    "      replicas: 2  # Добавляем 2 реплики этого сервиса\n",
    "    configs:\n",
    "      - source: file-server-config\n",
    "        target: /config/app.json\n",
    "    ports:\n",
    "      - 1234:1234\n",
    "\n",
    "configs:  # Задаем файлы конфигураций, которые необходимо распределить по кластеру\n",
    "  file-server-config:\n",
    "    file: ./config/app.json\n",
    "```"
   ]
  },
  {
   "cell_type": "code",
   "execution_count": 1,
   "metadata": {},
   "outputs": [
    {
     "name": "stdout",
     "output_type": "stream",
     "text": [
      "Writing result.txt\n"
     ]
    }
   ],
   "source": [
    "%%writefile result.txt\n",
    "I’m a dumb teen boy I eat sticks and rocks and mud I don’t care about the government And I really need a hug"
   ]
  },
  {
   "cell_type": "code",
   "execution_count": 2,
   "metadata": {},
   "outputs": [
    {
     "name": "stdout",
     "output_type": "stream",
     "text": [
      "I’m a dumb teen boy I eat sticks and rocks and mud I don’t care about the government And I really need a hug"
     ]
    }
   ],
   "source": [
    "!cat result.txt"
   ]
  }
 ],
 "metadata": {
  "coursera": {
   "schema_names": [
    "3-swarm-task-c6566b"
   ]
  },
  "kernelspec": {
   "display_name": "Python 3",
   "language": "python",
   "name": "python3"
  },
  "language_info": {
   "codemirror_mode": {
    "name": "ipython",
    "version": 3
   },
   "file_extension": ".py",
   "mimetype": "text/x-python",
   "name": "python",
   "nbconvert_exporter": "python",
   "pygments_lexer": "ipython3",
   "version": "3.6.5"
  }
 },
 "nbformat": 4,
 "nbformat_minor": 1
}

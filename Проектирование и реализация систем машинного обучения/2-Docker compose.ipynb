{
 "cells": [
  {
   "cell_type": "markdown",
   "metadata": {},
   "source": [
    "# Задача\n",
    "\n",
    "Необходимо создать и запустить docker-compose с двумя контейнерами.\n",
    "\n",
    "Первый контейнер должен быть запущен с образом `adkosmos/vault:latest` и называться `vault`. Внутри этого контейнера запускается веб-сервер который работает на порту `9090`. При запросе он отдает строку, в которой зашифрован текст.\n",
    "\n",
    "Второй контейнер должен быть запущен с образом `adkosmos/decryptor-http:latest` и называться `server`. Внутри этого конейтнера также запускается веб-сервер на порту `9090`. При запросе он делает свой запрос на адрес `http://vault:9090/`, получает данные и возвращает декодированную информацию. Если у него не получилось сделать запрос или декодировать полученную информацию он напишет ошибку.\n",
    "\n",
    "Ваша задача - написать docker-compose с этими контейнерами, сделать запрос к `adkosmos/decryptor-http:latest` и получить декодированную строку. Эту декодированную строку необходимо записать в файл `result.txt`"
   ]
  },
  {
   "cell_type": "markdown",
   "metadata": {},
   "source": [
    "## Решение"
   ]
  },
  {
   "cell_type": "markdown",
   "metadata": {},
   "source": [
    "**docker-compose.yaml**\n",
    "```yaml\n",
    "version: \"3.7\"\n",
    "\n",
    "services:\n",
    "  vault:\n",
    "    image: adkosmos/vault:latest\n",
    "  server:\n",
    "    image: adkosmos/decryptor-http:latest\n",
    "  proxy:\n",
    "    image: nginx:1.17\n",
    "    volumes:\n",
    "      - ./configuration.nginx:/etc/nginx/nginx.conf:ro\n",
    "    ports:\n",
    "      - 8888:8888\n",
    "```\n",
    "\n",
    "**configuration.nginx**\n",
    "```\n",
    "user root;\n",
    "worker_processes  4;\n",
    "\n",
    "error_log  /var/log/nginx/error.log warn;\n",
    "pid        /var/run/nginx.pid;\n",
    "\n",
    "events {\n",
    "    worker_connections  4096;\n",
    "}\n",
    "\n",
    "http {\n",
    "    include       /etc/nginx/mime.types;\n",
    "    default_type  application/octet-stream;\n",
    "    log_format  main  '$remote_addr - $remote_user [$time_local] \"$request\" '\n",
    "                      '$status $body_bytes_sent \"$http_referer\" '\n",
    "                      '\"$http_user_agent\" \"$http_x_forwarded_for\"';\n",
    "\n",
    "    access_log  /var/log/nginx/access.log  main;\n",
    "\n",
    "    sendfile            on;\n",
    "    tcp_nopush          on;\n",
    "    keepalive_timeout   65;\n",
    "\n",
    "    server {\n",
    "        listen  8888;\n",
    "\n",
    "        location /vault {\n",
    "            proxy_pass http://vault:9090/;   # Перенаправляем в соседний контейнер по именно контейнера!\n",
    "            rewrite ^/vault/(.*) /$1 break;  # Удаляем префикс /web-server-1\n",
    "        }\n",
    "\n",
    "        location /server {\n",
    "            proxy_pass http://server:9090/;\n",
    "            rewrite ^/server/(.*) /$1 break;\n",
    "        }\n",
    "    }\n",
    "}\n",
    "```"
   ]
  },
  {
   "cell_type": "code",
   "execution_count": 1,
   "metadata": {},
   "outputs": [
    {
     "name": "stdout",
     "output_type": "stream",
     "text": [
      "Writing result.txt\n"
     ]
    }
   ],
   "source": [
    "%%writefile result.txt\n",
    "I need some sleep, you can't go on like this"
   ]
  },
  {
   "cell_type": "code",
   "execution_count": 2,
   "metadata": {},
   "outputs": [
    {
     "name": "stdout",
     "output_type": "stream",
     "text": [
      "I need some sleep, you can't go on like this"
     ]
    }
   ],
   "source": [
    "!cat result.txt"
   ]
  }
 ],
 "metadata": {
  "coursera": {
   "schema_names": [
    "2-docker-compose-task-884551"
   ]
  },
  "kernelspec": {
   "display_name": "Python 3",
   "language": "python",
   "name": "python3"
  },
  "language_info": {
   "codemirror_mode": {
    "name": "ipython",
    "version": 3
   },
   "file_extension": ".py",
   "mimetype": "text/x-python",
   "name": "python",
   "nbconvert_exporter": "python",
   "pygments_lexer": "ipython3",
   "version": "3.6.5"
  }
 },
 "nbformat": 4,
 "nbformat_minor": 2
}

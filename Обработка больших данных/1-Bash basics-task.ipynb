{
 "cells": [
  {
   "cell_type": "markdown",
   "metadata": {},
   "source": [
    "**Задание**\n",
    "\n",
    "Где-то в глубине директории `catch` находится один файл, который нужно найти. Понять, что это тот самый файл, можно посмотрев его содержание. Ваша задача найти этот файл и скопировать его в текущую корневую директорию под названием `result.txt`."
   ]
  },
  {
   "cell_type": "code",
   "execution_count": 1,
   "metadata": {},
   "outputs": [
    {
     "name": "stdout",
     "output_type": "stream",
     "text": [
      "here.txt  or-here.txt  or-maybe-here.txt\r\n"
     ]
    }
   ],
   "source": [
    "! ls catch/me/if/you/can"
   ]
  },
  {
   "cell_type": "code",
   "execution_count": 2,
   "metadata": {},
   "outputs": [
    {
     "name": "stdout",
     "output_type": "stream",
     "text": [
      "Нет, я не тот файл, который ты ищешь."
     ]
    }
   ],
   "source": [
    "! cat catch/me/if/you/can/here.txt"
   ]
  },
  {
   "cell_type": "code",
   "execution_count": 3,
   "metadata": {},
   "outputs": [
    {
     "name": "stdout",
     "output_type": "stream",
     "text": [
      "Нет, я тоже не тот файл, увы. Ищи дальше."
     ]
    }
   ],
   "source": [
    "! cat catch/me/if/you/can/or-maybe-here.txt"
   ]
  },
  {
   "cell_type": "code",
   "execution_count": 4,
   "metadata": {},
   "outputs": [
    {
     "name": "stdout",
     "output_type": "stream",
     "text": [
      "Да! Я тот файл, который ты ищешь! Копируй меня!\r\n"
     ]
    }
   ],
   "source": [
    "! cat catch/me/if/you/can/or-here.txt"
   ]
  },
  {
   "cell_type": "code",
   "execution_count": 5,
   "metadata": {},
   "outputs": [],
   "source": [
    "! cp catch/me/if/you/can/or-here.txt ./result.txt"
   ]
  }
 ],
 "metadata": {
  "coursera": {
   "schema_names": [
    "week-2-task-bash-basics"
   ]
  },
  "kernelspec": {
   "display_name": "Python 3",
   "language": "python",
   "name": "python3"
  },
  "language_info": {
   "codemirror_mode": {
    "name": "ipython",
    "version": 3
   },
   "file_extension": ".py",
   "mimetype": "text/x-python",
   "name": "python",
   "nbconvert_exporter": "python",
   "pygments_lexer": "ipython3",
   "version": "3.6.5"
  }
 },
 "nbformat": 4,
 "nbformat_minor": 2
}

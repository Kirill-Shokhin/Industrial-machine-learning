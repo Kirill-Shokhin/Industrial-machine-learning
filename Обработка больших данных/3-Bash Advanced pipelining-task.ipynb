{
 "cells": [
  {
   "cell_type": "markdown",
   "metadata": {},
   "source": [
    "**Задача**\n",
    "\n",
    "Скрипт `task.py` принимает один аргумент командной строки - PUPA или LUPA. В качестве результата работы скрипт печатает на экран строку. Строка считается правильным ответом, если статус-код программы равен 0. Если же статус-код программы отличен от 0, то тогда напечатанная строка правильным ответом не является. \n",
    "\n",
    "Только один аргумент - PUPA или LUPA - является корректным, то есть при котором статус-код программы равен 0. \n",
    "\n",
    "В качестве результата работы необходимо в файл `result.txt` правильную строку. Например, если PUPA является правильным аргументом, то тогда `python3 task.py PUPA > result.txt` является решением."
   ]
  },
  {
   "cell_type": "code",
   "execution_count": 4,
   "metadata": {},
   "outputs": [],
   "source": [
    "! ((python3 task.py $(echo PUPA)) || (python3 task.py $(echo LUPA))) > result.txt"
   ]
  },
  {
   "cell_type": "code",
   "execution_count": 5,
   "metadata": {},
   "outputs": [
    {
     "name": "stdout",
     "output_type": "stream",
     "text": [
      "Pay your surgeon very well to break the spell of aging\r\n"
     ]
    }
   ],
   "source": [
    "!cat result.txt"
   ]
  }
 ],
 "metadata": {
  "coursera": {
   "schema_names": [
    "week-2-bash-advanced-pipelining"
   ]
  },
  "kernelspec": {
   "display_name": "Python 3",
   "language": "python",
   "name": "python3"
  },
  "language_info": {
   "codemirror_mode": {
    "name": "ipython",
    "version": 3
   },
   "file_extension": ".py",
   "mimetype": "text/x-python",
   "name": "python",
   "nbconvert_exporter": "python",
   "pygments_lexer": "ipython3",
   "version": "3.6.5"
  }
 },
 "nbformat": 4,
 "nbformat_minor": 2
}

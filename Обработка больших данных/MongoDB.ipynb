{
 "cells": [
  {
   "cell_type": "markdown",
   "metadata": {},
   "source": [
    "**Задание**\n",
    "\n",
    "Для каждой страны необходимо подсчитать количество дней, когда количество умерших было больше, чем в среднем по миру за все время наблюдений. Ответом к задаче будет топ-10 стран с наибольшим показателем количества таких дней.\n",
    "\n",
    "Важные моменты\n",
    "* Считаются дни, когда было строго больше среднего\n",
    "* Разные регионы страны вначале необходимо совместить, чтобы статистика считалась верно (смотри последний запрос выше)\n",
    "* Доработка данных уже после запроса на Python вполне возможна, если это требуется\n",
    "* Не обязательно делать ровно один агрегационный запрос - можно сделать серию запросов. Главное, чтобы по итогу был подсчитан запрашиваемый набор данных\n",
    "\n",
    "Результатом должен быть файл `result.json` в следующем формате:\n",
    "```\n",
    "{\n",
    "    \"<country 1>\": \"<number of days>\",\n",
    "    \"<country 2>\": \"<number of days>\",\n",
    "    ...\n",
    "    \"<country 10>\": \"<number of days>\"\n",
    "}\n",
    "```"
   ]
  },
  {
   "cell_type": "code",
   "execution_count": 3,
   "metadata": {},
   "outputs": [],
   "source": [
    "from pymongo import MongoClient\n",
    "import json\n",
    "import pandas as pd\n",
    "client = MongoClient('localhost', 27017)\n",
    "world = client.covid.world  # коллекция world внутри базы covid\n",
    "\n",
    "# Функция, чтобы красиво печатать результаты:\n",
    "\n",
    "def p(x):\n",
    "    from pprint import pprint\n",
    "    pprint(list(x))\n",
    "    \n",
    "def df(x):\n",
    "    return pd.DataFrame(list(x))"
   ]
  },
  {
   "cell_type": "code",
   "execution_count": 12,
   "metadata": {},
   "outputs": [
    {
     "data": {
      "text/html": [
       "<div>\n",
       "<style scoped>\n",
       "    .dataframe tbody tr th:only-of-type {\n",
       "        vertical-align: middle;\n",
       "    }\n",
       "\n",
       "    .dataframe tbody tr th {\n",
       "        vertical-align: top;\n",
       "    }\n",
       "\n",
       "    .dataframe thead th {\n",
       "        text-align: right;\n",
       "    }\n",
       "</style>\n",
       "<table border=\"1\" class=\"dataframe\">\n",
       "  <thead>\n",
       "    <tr style=\"text-align: right;\">\n",
       "      <th></th>\n",
       "      <th>_id</th>\n",
       "      <th>avg_deaths</th>\n",
       "      <th>std_deaths</th>\n",
       "    </tr>\n",
       "  </thead>\n",
       "  <tbody>\n",
       "    <tr>\n",
       "      <th>0</th>\n",
       "      <td>None</td>\n",
       "      <td>1027.956109</td>\n",
       "      <td>6531.177153</td>\n",
       "    </tr>\n",
       "  </tbody>\n",
       "</table>\n",
       "</div>"
      ],
      "text/plain": [
       "    _id   avg_deaths   std_deaths\n",
       "0  None  1027.956109  6531.177153"
      ]
     },
     "execution_count": 12,
     "metadata": {},
     "output_type": "execute_result"
    }
   ],
   "source": [
    "df(world.aggregate([\n",
    "    {  # Важно вначале сгрупировать по странам, чтобы среднее по стране считалось честно\n",
    "        '$group': {\n",
    "            \"_id\": {\n",
    "                \"country\": \"$country\",\n",
    "                \"date\": \"$date\"  # группируем сразу по двум полям\n",
    "            },\n",
    "            \"deaths\": {'$sum': \"$deaths\"},  # для каждой группы складыаем все показатели \n",
    "        }\n",
    "    },\n",
    "    {\n",
    "        '$group': {\n",
    "            \"_id\": None,\n",
    "            \"avg_deaths\": {\"$avg\": \"$deaths\"},\n",
    "            \"std_deaths\": {\"$stdDevPop\": \"$deaths\"}\n",
    "        }\n",
    "    }\n",
    "]))"
   ]
  },
  {
   "cell_type": "code",
   "execution_count": 60,
   "metadata": {},
   "outputs": [
    {
     "data": {
      "text/html": [
       "<div>\n",
       "<style scoped>\n",
       "    .dataframe tbody tr th:only-of-type {\n",
       "        vertical-align: middle;\n",
       "    }\n",
       "\n",
       "    .dataframe tbody tr th {\n",
       "        vertical-align: top;\n",
       "    }\n",
       "\n",
       "    .dataframe thead th {\n",
       "        text-align: right;\n",
       "    }\n",
       "</style>\n",
       "<table border=\"1\" class=\"dataframe\">\n",
       "  <thead>\n",
       "    <tr style=\"text-align: right;\">\n",
       "      <th></th>\n",
       "      <th>_id</th>\n",
       "      <th>count_days</th>\n",
       "    </tr>\n",
       "  </thead>\n",
       "  <tbody>\n",
       "    <tr>\n",
       "      <th>0</th>\n",
       "      <td>China</td>\n",
       "      <td>151</td>\n",
       "    </tr>\n",
       "    <tr>\n",
       "      <th>1</th>\n",
       "      <td>Italy</td>\n",
       "      <td>120</td>\n",
       "    </tr>\n",
       "    <tr>\n",
       "      <th>2</th>\n",
       "      <td>Iran</td>\n",
       "      <td>115</td>\n",
       "    </tr>\n",
       "    <tr>\n",
       "      <th>3</th>\n",
       "      <td>Spain</td>\n",
       "      <td>113</td>\n",
       "    </tr>\n",
       "    <tr>\n",
       "      <th>4</th>\n",
       "      <td>France</td>\n",
       "      <td>109</td>\n",
       "    </tr>\n",
       "    <tr>\n",
       "      <th>5</th>\n",
       "      <td>US</td>\n",
       "      <td>108</td>\n",
       "    </tr>\n",
       "    <tr>\n",
       "      <th>6</th>\n",
       "      <td>United Kingdom</td>\n",
       "      <td>106</td>\n",
       "    </tr>\n",
       "    <tr>\n",
       "      <th>7</th>\n",
       "      <td>Netherlands</td>\n",
       "      <td>102</td>\n",
       "    </tr>\n",
       "    <tr>\n",
       "      <th>8</th>\n",
       "      <td>Germany</td>\n",
       "      <td>100</td>\n",
       "    </tr>\n",
       "    <tr>\n",
       "      <th>9</th>\n",
       "      <td>Belgium</td>\n",
       "      <td>99</td>\n",
       "    </tr>\n",
       "  </tbody>\n",
       "</table>\n",
       "</div>"
      ],
      "text/plain": [
       "              _id  count_days\n",
       "0           China         151\n",
       "1           Italy         120\n",
       "2            Iran         115\n",
       "3           Spain         113\n",
       "4          France         109\n",
       "5              US         108\n",
       "6  United Kingdom         106\n",
       "7     Netherlands         102\n",
       "8         Germany         100\n",
       "9         Belgium          99"
      ]
     },
     "execution_count": 60,
     "metadata": {},
     "output_type": "execute_result"
    }
   ],
   "source": [
    "result = df(world.aggregate([\n",
    "    {  # Важно вначале сгрупировать по странам, чтобы среднее по стране считалось честно\n",
    "        '$group': {\n",
    "            \"_id\": {\n",
    "                \"country\": \"$country\",\n",
    "                \"date\": \"$date\"  # группируем сразу по двум полям\n",
    "            },\n",
    "            \"deaths\": {'$sum': \"$deaths\"},  # для каждой группы складыаем все показатели \n",
    "        }\n",
    "    },\n",
    "    {\n",
    "        \"$match\": {\n",
    "            \"deaths\": {\"$gt\": 1027.956109},\n",
    "        }\n",
    "    },\n",
    "    {\n",
    "        \"$group\": {\n",
    "            \"_id\": {\n",
    "                \"country\": \"$_id.country\"  # ВАЖНО - date лежит теперь внутри _id. Доступ к нему идет через точку\n",
    "            },\n",
    "            \"count_days\": {\"$sum\": 1}\n",
    "        }\n",
    "    },    \n",
    "    {\n",
    "        \"$sort\": {'count_days': -1} # -1 - в порядке убывания, 1 - в порядке возрастания\n",
    "    }\n",
    "]))\n",
    "result._id = pd.DataFrame(result._id.values.tolist()).country\n",
    "answer = result.head(10)\n",
    "answer"
   ]
  },
  {
   "cell_type": "code",
   "execution_count": 73,
   "metadata": {},
   "outputs": [
    {
     "data": {
      "text/plain": [
       "{'China': 151,\n",
       " 'Italy': 120,\n",
       " 'Iran': 115,\n",
       " 'Spain': 113,\n",
       " 'France': 109,\n",
       " 'US': 108,\n",
       " 'United Kingdom': 106,\n",
       " 'Netherlands': 102,\n",
       " 'Germany': 100,\n",
       " 'Belgium': 99}"
      ]
     },
     "execution_count": 73,
     "metadata": {},
     "output_type": "execute_result"
    }
   ],
   "source": [
    "answer = answer.set_index('_id').to_dict()['count_days']\n",
    "answer"
   ]
  },
  {
   "cell_type": "code",
   "execution_count": 74,
   "metadata": {},
   "outputs": [],
   "source": [
    "# Пример\n",
    "\n",
    "with open(\"result.json\", 'w') as f:\n",
    "    f.write(\n",
    "        json.dumps(answer)\n",
    "    )"
   ]
  },
  {
   "cell_type": "code",
   "execution_count": 75,
   "metadata": {},
   "outputs": [
    {
     "name": "stdout",
     "output_type": "stream",
     "text": [
      "{\"China\": 151, \"Italy\": 120, \"Iran\": 115, \"Spain\": 113, \"France\": 109, \"US\": 108, \"United Kingdom\": 106, \"Netherlands\": 102, \"Germany\": 100, \"Belgium\": 99}"
     ]
    }
   ],
   "source": [
    "! cat result.json"
   ]
  },
  {
   "cell_type": "markdown",
   "metadata": {},
   "source": [
    "Более подробную информацию про составление агрегационных пайплайнов в MongoDB можно найти в [официальной документации](https://docs.mongodb.com/manual/core/aggregation-pipeline/)."
   ]
  }
 ],
 "metadata": {
  "coursera": {
   "schema_names": [
    "week-1-mongo-homework-ab"
   ]
  },
  "kernelspec": {
   "display_name": "Python 3",
   "language": "python",
   "name": "python3"
  },
  "language_info": {
   "codemirror_mode": {
    "name": "ipython",
    "version": 3
   },
   "file_extension": ".py",
   "mimetype": "text/x-python",
   "name": "python",
   "nbconvert_exporter": "python",
   "pygments_lexer": "ipython3",
   "version": "3.6.5"
  }
 },
 "nbformat": 4,
 "nbformat_minor": 2
}

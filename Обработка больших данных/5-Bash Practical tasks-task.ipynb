{
 "cells": [
  {
   "cell_type": "markdown",
   "metadata": {},
   "source": [
    "**Задание**\n",
    "\n",
    "В файле `measures.json` содержатся наблюдения о новых заболевших коронавирусом. Каждая запись соответствует одному дню наблюдения. Для каждой записи в поле country указана страна , где производились измерения. В поле data указаны сами измерения в формате csv. В каждой строке этой таблицы csv лежат два числа - заболевшие женщины и заболевшие мужчины. Каждая строка относится к своему региону в стране, где производились измерения.\n",
    "\n",
    "1. Необходимо выяснить, в какой стране было наибольшее количество дней измерений.\n",
    "2. Для этой страны необходимо подсчитать суммарное количество заболевших во все дни наблюдений.\n",
    "\n",
    "Это число (итоговое количество заболевших) необходимо сохранить в файл `result.txt`.\n",
    "\n",
    "Подсказка: для того, чтобы восстановить привычный вид csv таблицы, воспользуйтесь `sed`, чтобы подправить переносы строк и кавычки. \n",
    "Можно использовать любые средства, описанные в стандартной документации инструментов, которые мы разбирали."
   ]
  },
  {
   "cell_type": "code",
   "execution_count": 53,
   "metadata": {},
   "outputs": [
    {
     "name": "stdout",
     "output_type": "stream",
     "text": [
      "1862\r\n"
     ]
    }
   ],
   "source": [
    "! cat measures.json | jq '.measures[0].data' | sed 's/\\\"//g' | sed 's/\\\\n/\\n/g' | awk -F, '{sum1 += $1; sum2 += $2} END {print sum1 + sum2}'"
   ]
  },
  {
   "cell_type": "code",
   "execution_count": 58,
   "metadata": {},
   "outputs": [
    {
     "name": "stdout",
     "output_type": "stream",
     "text": [
      "     74 \"Canada\"\r\n",
      "     95 \"Russia\"\r\n",
      "     81 \"USA\"\r\n"
     ]
    }
   ],
   "source": [
    "! cat measures.json | jq '.measures[].country' | sort | uniq -c"
   ]
  },
  {
   "cell_type": "code",
   "execution_count": 65,
   "metadata": {},
   "outputs": [],
   "source": [
    "! cat measures.json | jq '.measures[] | select(.country == \"Russia\") | .data' | sed 's/\\\"//g' | sed 's/\\\\n/\\n/g' | awk -F, '{sum1 += $1; sum2 += $2} END {print sum1 + sum2}' > result.txt"
   ]
  }
 ],
 "metadata": {
  "coursera": {
   "schema_names": [
    "week-2-bash-practical-tasks"
   ]
  },
  "kernelspec": {
   "display_name": "Python 3",
   "language": "python",
   "name": "python3"
  },
  "language_info": {
   "codemirror_mode": {
    "name": "ipython",
    "version": 3
   },
   "file_extension": ".py",
   "mimetype": "text/x-python",
   "name": "python",
   "nbconvert_exporter": "python",
   "pygments_lexer": "ipython3",
   "version": "3.6.5"
  }
 },
 "nbformat": 4,
 "nbformat_minor": 2
}

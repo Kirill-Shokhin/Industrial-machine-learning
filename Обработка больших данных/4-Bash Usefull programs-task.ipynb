{
 "cells": [
  {
   "cell_type": "markdown",
   "metadata": {
    "pycharm": {
     "name": "#%% md\n"
    }
   },
   "source": [
    "**Задание**\n",
    "\n",
    "Выбрать из cities.csv названия городов (City) и штатов (State), где город содержит или `San` или `Saint` в какой-то части названия. Сохранить результат в формате csv в файл `result.csv`. У этого csv файла дожен быть заголовок из двух колонок `City` и `State`. Кавычки необходимо удалить из названий городов. Итоговый файл необходимо заархивировать в файл `result.zip`."
   ]
  },
  {
   "cell_type": "code",
   "execution_count": 8,
   "metadata": {},
   "outputs": [
    {
     "name": "stdout",
     "output_type": "stream",
     "text": [
      "\"LatD\", \"LatM\", \"LatS\", \"NS\", \"LonD\", \"LonM\", \"LonS\", \"EW\", \"City\", \"State\"\r\n",
      "   41,    5,   59, \"N\",     80,   39,    0, \"W\", \"Youngstown\", OH\r\n",
      "   42,   52,   48, \"N\",     97,   23,   23, \"W\", \"Yankton\", SD\r\n",
      "   46,   35,   59, \"N\",    120,   30,   36, \"W\", \"Yakima\", WA\r\n",
      "   42,   16,   12, \"N\",     71,   48,    0, \"W\", \"Worcester\", MA\r\n",
      "   43,   37,   48, \"N\",     89,   46,   11, \"W\", \"Wisconsin Dells\", WI\r\n",
      "   36,    5,   59, \"N\",     80,   15,    0, \"W\", \"Winston-Salem\", NC\r\n",
      "   49,   52,   48, \"N\",     97,    9,    0, \"W\", \"Winnipeg\", MB\r\n",
      "   39,   11,   23, \"N\",     78,    9,   36, \"W\", \"Winchester\", VA\r\n",
      "   34,   14,   24, \"N\",     77,   55,   11, \"W\", \"Wilmington\", NC\r\n",
      "   39,   45,    0, \"N\",     75,   33,    0, \"W\", \"Wilmington\", DE\r\n",
      "   48,    9,    0, \"N\",    103,   37,   12, \"W\", \"Williston\", ND\r\n",
      "   41,   15,    0, \"N\",     77,    0,    0, \"W\", \"Williamsport\", PA\r\n",
      "   37,   40,   48, \"N\",     82,   16,   47, \"W\", \"Williamson\", WV\r\n",
      "   33,   54,    0, \"N\",     98,   29,   23, \"W\", \"Wichita Falls\", TX\r\n",
      "   37,   41,   23, \"N\",     97,   20,   23, \"W\", \"Wichita\", KS\r\n",
      "   40,    4,   11, \"N\",     80,   43,   12, \"W\", \"Wheeling\", WV\r\n",
      "   26,   43,   11, \"N\",     80,    3,    0, \"W\", \"West Palm Beach\", FL\r\n",
      "   47,   25,   11, \"N\",    120,   19,   11, \"W\", \"Wenatchee\", WA\r\n",
      "   41,   25,   11, \"N\",    122,   23,   23, \"W\", \"Weed\", CA\r\n",
      "   31,   13,   11, \"N\",     82,   20,   59, \"W\", \"Waycross\", GA\r\n",
      "   44,   57,   35, \"N\",     89,   38,   23, \"W\", \"Wausau\", WI\r\n",
      "   42,   21,   36, \"N\",     87,   49,   48, \"W\", \"Waukegan\", IL\r\n",
      "   44,   54,    0, \"N\",     97,    6,   36, \"W\", \"Watertown\", SD\r\n",
      "   43,   58,   47, \"N\",     75,   55,   11, \"W\", \"Watertown\", NY\r\n",
      "   42,   30,    0, \"N\",     92,   20,   23, \"W\", \"Waterloo\", IA\r\n",
      "   41,   32,   59, \"N\",     73,    3,    0, \"W\", \"Waterbury\", CT\r\n",
      "   38,   53,   23, \"N\",     77,    1,   47, \"W\", \"Washington\", DC\r\n",
      "   41,   50,   59, \"N\",     79,    8,   23, \"W\", \"Warren\", PA\r\n",
      "   46,    4,   11, \"N\",    118,   19,   48, \"W\", \"Walla Walla\", WA\r\n",
      "   31,   32,   59, \"N\",     97,    8,   23, \"W\", \"Waco\", TX\r\n",
      "   38,   40,   48, \"N\",     87,   31,   47, \"W\", \"Vincennes\", IN\r\n",
      "   28,   48,   35, \"N\",     97,    0,   36, \"W\", \"Victoria\", TX\r\n",
      "   32,   20,   59, \"N\",     90,   52,   47, \"W\", \"Vicksburg\", MS\r\n",
      "   49,   16,   12, \"N\",    123,    7,   12, \"W\", \"Vancouver\", BC\r\n",
      "   46,   55,   11, \"N\",     98,    0,   36, \"W\", \"Valley City\", ND\r\n",
      "   30,   49,   47, \"N\",     83,   16,   47, \"W\", \"Valdosta\", GA\r\n",
      "   43,    6,   36, \"N\",     75,   13,   48, \"W\", \"Utica\", NY\r\n",
      "   39,   54,    0, \"N\",     79,   43,   48, \"W\", \"Uniontown\", PA\r\n",
      "   32,   20,   59, \"N\",     95,   18,    0, \"W\", \"Tyler\", TX\r\n",
      "   42,   33,   36, \"N\",    114,   28,   12, \"W\", \"Twin Falls\", ID\r\n",
      "   33,   12,   35, \"N\",     87,   34,   11, \"W\", \"Tuscaloosa\", AL\r\n",
      "   34,   15,   35, \"N\",     88,   42,   35, \"W\", \"Tupelo\", MS\r\n",
      "   36,    9,   35, \"N\",     95,   54,   36, \"W\", \"Tulsa\", OK\r\n",
      "   32,   13,   12, \"N\",    110,   58,   12, \"W\", \"Tucson\", AZ\r\n",
      "   37,   10,   11, \"N\",    104,   30,   36, \"W\", \"Trinidad\", CO\r\n",
      "   40,   13,   47, \"N\",     74,   46,   11, \"W\", \"Trenton\", NJ\r\n",
      "   44,   45,   35, \"N\",     85,   37,   47, \"W\", \"Traverse City\", MI\r\n",
      "   43,   39,    0, \"N\",     79,   22,   47, \"W\", \"Toronto\", ON\r\n",
      "   39,    2,   59, \"N\",     95,   40,   11, \"W\", \"Topeka\", KS\r\n",
      "   41,   39,    0, \"N\",     83,   32,   24, \"W\", \"Toledo\", OH\r\n",
      "   33,   25,   48, \"N\",     94,    3,    0, \"W\", \"Texarkana\", TX\r\n",
      "   39,   28,   12, \"N\",     87,   24,   36, \"W\", \"Terre Haute\", IN\r\n",
      "   27,   57,    0, \"N\",     82,   26,   59, \"W\", \"Tampa\", FL\r\n",
      "   30,   27,    0, \"N\",     84,   16,   47, \"W\", \"Tallahassee\", FL\r\n",
      "   47,   14,   24, \"N\",    122,   25,   48, \"W\", \"Tacoma\", WA\r\n",
      "   43,    2,   59, \"N\",     76,    9,    0, \"W\", \"Syracuse\", NY\r\n",
      "   32,   35,   59, \"N\",     82,   20,   23, \"W\", \"Swainsboro\", GA\r\n",
      "   33,   55,   11, \"N\",     80,   20,   59, \"W\", \"Sumter\", SC\r\n",
      "   40,   59,   24, \"N\",     75,   11,   24, \"W\", \"Stroudsburg\", PA\r\n",
      "   37,   57,   35, \"N\",    121,   17,   24, \"W\", \"Stockton\", CA\r\n",
      "   44,   31,   12, \"N\",     89,   34,   11, \"W\", \"Stevens Point\", WI\r\n",
      "   40,   21,   36, \"N\",     80,   37,   12, \"W\", \"Steubenville\", OH\r\n",
      "   40,   37,   11, \"N\",    103,   13,   12, \"W\", \"Sterling\", CO\r\n",
      "   38,    9,    0, \"N\",     79,    4,   11, \"W\", \"Staunton\", VA\r\n",
      "   39,   55,   11, \"N\",     83,   48,   35, \"W\", \"Springfield\", OH\r\n",
      "   37,   13,   12, \"N\",     93,   17,   24, \"W\", \"Springfield\", MO\r\n",
      "   42,    5,   59, \"N\",     72,   35,   23, \"W\", \"Springfield\", MA\r\n",
      "   39,   47,   59, \"N\",     89,   39,    0, \"W\", \"Springfield\", IL\r\n",
      "   47,   40,   11, \"N\",    117,   24,   36, \"W\", \"Spokane\", WA\r\n",
      "   41,   40,   48, \"N\",     86,   15,    0, \"W\", \"South Bend\", IN\r\n",
      "   43,   32,   24, \"N\",     96,   43,   48, \"W\", \"Sioux Falls\", SD\r\n",
      "   42,   29,   24, \"N\",     96,   23,   23, \"W\", \"Sioux City\", IA\r\n",
      "   32,   30,   35, \"N\",     93,   45,    0, \"W\", \"Shreveport\", LA\r\n",
      "   33,   38,   23, \"N\",     96,   36,   36, \"W\", \"Sherman\", TX\r\n",
      "   44,   47,   59, \"N\",    106,   57,   35, \"W\", \"Sheridan\", WY\r\n",
      "   35,   13,   47, \"N\",     96,   40,   48, \"W\", \"Seminole\", OK\r\n",
      "   32,   25,   11, \"N\",     87,    1,   11, \"W\", \"Selma\", AL\r\n",
      "   38,   42,   35, \"N\",     93,   13,   48, \"W\", \"Sedalia\", MO\r\n",
      "   47,   35,   59, \"N\",    122,   19,   48, \"W\", \"Seattle\", WA\r\n",
      "   41,   24,   35, \"N\",     75,   40,   11, \"W\", \"Scranton\", PA\r\n",
      "   41,   52,   11, \"N\",    103,   39,   36, \"W\", \"Scottsbluff\", NB\r\n",
      "   42,   49,   11, \"N\",     73,   56,   59, \"W\", \"Schenectady\", NY\r\n",
      "   32,    4,   48, \"N\",     81,    5,   23, \"W\", \"Savannah\", GA\r\n",
      "   46,   29,   24, \"N\",     84,   20,   59, \"W\", \"Sault Sainte Marie\", MI\r\n",
      "   27,   20,   24, \"N\",     82,   31,   47, \"W\", \"Sarasota\", FL\r\n",
      "   38,   26,   23, \"N\",    122,   43,   12, \"W\", \"Santa Rosa\", CA\r\n",
      "   35,   40,   48, \"N\",    105,   56,   59, \"W\", \"Santa Fe\", NM\r\n",
      "   34,   25,   11, \"N\",    119,   41,   59, \"W\", \"Santa Barbara\", CA\r\n",
      "   33,   45,   35, \"N\",    117,   52,   12, \"W\", \"Santa Ana\", CA\r\n",
      "   37,   20,   24, \"N\",    121,   52,   47, \"W\", \"San Jose\", CA\r\n",
      "   37,   46,   47, \"N\",    122,   25,   11, \"W\", \"San Francisco\", CA\r\n",
      "   41,   27,    0, \"N\",     82,   42,   35, \"W\", \"Sandusky\", OH\r\n",
      "   32,   42,   35, \"N\",    117,    9,    0, \"W\", \"San Diego\", CA\r\n",
      "   34,    6,   36, \"N\",    117,   18,   35, \"W\", \"San Bernardino\", CA\r\n",
      "   29,   25,   12, \"N\",     98,   30,    0, \"W\", \"San Antonio\", TX\r\n",
      "   31,   27,   35, \"N\",    100,   26,   24, \"W\", \"San Angelo\", TX\r\n",
      "   40,   45,   35, \"N\",    111,   52,   47, \"W\", \"Salt Lake City\", UT\r\n",
      "   38,   22,   11, \"N\",     75,   35,   59, \"W\", \"Salisbury\", MD\r\n",
      "   36,   40,   11, \"N\",    121,   39,    0, \"W\", \"Salinas\", CA\r\n",
      "   38,   50,   24, \"N\",     97,   36,   36, \"W\", \"Salina\", KS\r\n",
      "   38,   31,   47, \"N\",    106,    0,    0, \"W\", \"Salida\", CO\r\n",
      "   44,   56,   23, \"N\",    123,    1,   47, \"W\", \"Salem\", OR\r\n",
      "   44,   57,    0, \"N\",     93,    5,   59, \"W\", \"Saint Paul\", MN\r\n",
      "   38,   37,   11, \"N\",     90,   11,   24, \"W\", \"Saint Louis\", MO\r\n",
      "   39,   46,   12, \"N\",     94,   50,   23, \"W\", \"Saint Joseph\", MO\r\n",
      "   42,    5,   59, \"N\",     86,   28,   48, \"W\", \"Saint Joseph\", MI\r\n",
      "   44,   25,   11, \"N\",     72,    1,   11, \"W\", \"Saint Johnsbury\", VT\r\n",
      "   45,   34,   11, \"N\",     94,   10,   11, \"W\", \"Saint Cloud\", MN\r\n",
      "   29,   53,   23, \"N\",     81,   19,   11, \"W\", \"Saint Augustine\", FL\r\n",
      "   43,   25,   48, \"N\",     83,   56,   24, \"W\", \"Saginaw\", MI\r\n",
      "   38,   35,   24, \"N\",    121,   29,   23, \"W\", \"Sacramento\", CA\r\n",
      "   43,   36,   36, \"N\",     72,   58,   12, \"W\", \"Rutland\", VT\r\n",
      "   33,   24,    0, \"N\",    104,   31,   47, \"W\", \"Roswell\", NM\r\n",
      "   35,   56,   23, \"N\",     77,   48,    0, \"W\", \"Rocky Mount\", NC\r\n",
      "   41,   35,   24, \"N\",    109,   13,   48, \"W\", \"Rock Springs\", WY\r\n",
      "   42,   16,   12, \"N\",     89,    5,   59, \"W\", \"Rockford\", IL\r\n",
      "   43,    9,   35, \"N\",     77,   36,   36, \"W\", \"Rochester\", NY\r\n",
      "   44,    1,   12, \"N\",     92,   27,   35, \"W\", \"Rochester\", MN\r\n",
      "   37,   16,   12, \"N\",     79,   56,   24, \"W\", \"Roanoke\", VA\r\n",
      "   37,   32,   24, \"N\",     77,   26,   59, \"W\", \"Richmond\", VA\r\n",
      "   39,   49,   48, \"N\",     84,   53,   23, \"W\", \"Richmond\", IN\r\n",
      "   38,   46,   12, \"N\",    112,    5,   23, \"W\", \"Richfield\", UT\r\n",
      "   45,   38,   23, \"N\",     89,   25,   11, \"W\", \"Rhinelander\", WI\r\n",
      "   39,   31,   12, \"N\",    119,   48,   35, \"W\", \"Reno\", NV\r\n",
      "   50,   25,   11, \"N\",    104,   39,    0, \"W\", \"Regina\", SA\r\n",
      "   40,   10,   48, \"N\",    122,   14,   23, \"W\", \"Red Bluff\", CA\r\n",
      "   40,   19,   48, \"N\",     75,   55,   48, \"W\", \"Reading\", PA\r\n",
      "   41,    9,   35, \"N\",     81,   14,   23, \"W\", \"Ravenna\", OH \r\n"
     ]
    }
   ],
   "source": [
    "!cat cities.csv "
   ]
  },
  {
   "cell_type": "code",
   "execution_count": 20,
   "metadata": {},
   "outputs": [],
   "source": [
    "! cat cities.csv | cut -d',' -f9,10 | sed -n -e \"/San\\|Saint\\|State/\"p | sed 's/\\\"//g' > result.csv"
   ]
  },
  {
   "cell_type": "code",
   "execution_count": 22,
   "metadata": {},
   "outputs": [
    {
     "name": "stdout",
     "output_type": "stream",
     "text": [
      "  adding: result.csv (deflated 49%)\r\n"
     ]
    }
   ],
   "source": [
    "! zip result.zip result.csv"
   ]
  },
  {
   "cell_type": "code",
   "execution_count": 23,
   "metadata": {},
   "outputs": [
    {
     "name": "stdout",
     "output_type": "stream",
     "text": [
      "PK\u0003\u0004\u0014\u0000\u0000\u0000\b\u0000�^\r\n",
      "S$k���\u0000\u0000\u0000X\u0001\u0000\u0000\r\n",
      "\u0000\u001c",
      "\u0000result.csvUT\t\u0000\u0003\u001c",
      "i\u0012a\u001c",
      "i\u0012aux\u000b",
      "\u0000\u0001\u0004�\u0003\u0000\u0000\u0004d\u0000\u0000\u0000m�[\r\n",
      "�@\f",
      "E�]E\u0016�&�\"��(UJ�\u000e\u001a*�2��2j�?�s\u0012½��{��:t*�\u0016��d\u0012;\u0005\u0015\u001aR1T���!ܴ�\u0018�$p.ۺ\r\n",
      "�����\u001c",
      "$�#\\�U;�\u0006y ;�M��>%Is�\u001e",
      "�HM�\u0012Re\u0018�H|p\t;�$�{\u00041�ec)\u0001W)$\u0015����dE4A��^�_S�ff�{#��]�٢�x|���[G,%�2�\u0000PK\u0001\u0002\u001e",
      "\u0003\u0014\u0000\u0000\u0000\b\u0000�^\r\n",
      "S$k���\u0000\u0000\u0000X\u0001\u0000\u0000\r\n",
      "\u0000\u0018\u0000\u0000\u0000\u0000\u0000\u0001\u0000\u0000\u0000��\u0000\u0000\u0000\u0000result.csvUT\u0005\u0000\u0003\u001c",
      "i\u0012aux\u000b",
      "\u0000\u0001\u0004�\u0003\u0000\u0000\u0004d\u0000\u0000\u0000PK\u0005\u0006\u0000\u0000\u0000\u0000\u0001\u0000\u0001\u0000P\u0000\u0000\u0000�\u0000\u0000\u0000\u0000\u0000"
     ]
    }
   ],
   "source": [
    "! cat result.zip"
   ]
  }
 ],
 "metadata": {
  "coursera": {
   "schema_names": [
    "week-2-homework-4-bash-progs"
   ]
  },
  "kernelspec": {
   "display_name": "Python 3",
   "language": "python",
   "name": "python3"
  },
  "language_info": {
   "codemirror_mode": {
    "name": "ipython",
    "version": 3
   },
   "file_extension": ".py",
   "mimetype": "text/x-python",
   "name": "python",
   "nbconvert_exporter": "python",
   "pygments_lexer": "ipython3",
   "version": "3.6.5"
  }
 },
 "nbformat": 4,
 "nbformat_minor": 2
}

{
 "cells": [
  {
   "cell_type": "markdown",
   "metadata": {},
   "source": [
    "# Задание\n",
    "\n",
    "\n",
    "Пользуясь тем, что схема связей между пользователями сервиса по адресу `/app` представляет собой социальный граф, в котором не более `10000` пользователей, и используя библиотеку `networkx`, найдите кратчайший путь по рёбрам графа между пользователями с `from_id=1577` и `to_id=1999`.\n",
    "\n",
    "Рёбрами считать связь через подписку в сервисе (follows, followers), рёбра считать неориентированными.\n",
    "\n",
    "Вам предстоит получить из сервиса данные о пользователях, построить по ним граф (мы рекомендуем использовать библиотеку `networkx`), найти кратчайший путь и записать его в файл.\n",
    "\n",
    "Не забывайте, что некоторые аккаунты требуют авторизации (узнать об этом можно по статусу ответа, для авторизации используйте Basic auth с парой `login`, `password`).\n",
    "\n",
    "Ответ представьте в виде массива узлов (идентификаторов), отсортированного по порядку входа, где начальной точкой является узел `from_id`; ответ запишите в файл `result.json`. Ниже вы найдёте пример работы с `networkx` и формат ответа."
   ]
  },
  {
   "cell_type": "markdown",
   "metadata": {},
   "source": [
    "### Пример использования networkx\n",
    "\n",
    "Пусть есть граф с 10 вершинами (0..9), и рёбрами (i, i+1) для i = 0 до 8, и ребром (9, 0).\n",
    "\n",
    "Найдём путь между вершинами 1 и 4:"
   ]
  },
  {
   "cell_type": "code",
   "execution_count": 54,
   "metadata": {},
   "outputs": [],
   "source": [
    "import networkx as nx\n",
    "import requests\n",
    "import json\n",
    "import base64\n",
    "from bs4 import BeautifulSoup\n",
    "import pandas as pd\n",
    "\n",
    "\n",
    "HOST = 'http://localhost:5000/app' # запрос внутри контейнера, поэтому localhost\n",
    "USERS = f'{HOST}/users'\n",
    "USER = lambda user_id: f'{USERS}/{user_id}'\n",
    "PROTECTED_USER = lambda user_id: f'{HOST}/protected/users/{user_id}' # тут все требуют авторизации"
   ]
  },
  {
   "cell_type": "code",
   "execution_count": 2,
   "metadata": {},
   "outputs": [],
   "source": [
    "g = nx.Graph()\n",
    "g.add_nodes_from(range(10))\n",
    "for i in range(9):\n",
    "    g.add_edge(i, i+1)\n",
    "g.add_edge(9, 0)"
   ]
  },
  {
   "cell_type": "code",
   "execution_count": 3,
   "metadata": {},
   "outputs": [
    {
     "data": {
      "text/plain": [
       "(10, 10)"
      ]
     },
     "execution_count": 3,
     "metadata": {},
     "output_type": "execute_result"
    }
   ],
   "source": [
    "g.number_of_nodes(), g.number_of_edges() # проверим граф"
   ]
  },
  {
   "cell_type": "code",
   "execution_count": 4,
   "metadata": {},
   "outputs": [],
   "source": [
    "answer = nx.shortest_path(g, 1, 4) # искомый кратчайший путь"
   ]
  },
  {
   "cell_type": "code",
   "execution_count": 5,
   "metadata": {},
   "outputs": [],
   "source": [
    "json.dump(answer, open('result.json', 'w'))"
   ]
  },
  {
   "cell_type": "code",
   "execution_count": 6,
   "metadata": {},
   "outputs": [
    {
     "name": "stdout",
     "output_type": "stream",
     "text": [
      "[1, 2, 3, 4]"
     ]
    }
   ],
   "source": [
    "! cat result.json"
   ]
  },
  {
   "cell_type": "code",
   "execution_count": 7,
   "metadata": {},
   "outputs": [],
   "source": [
    "FROM_ID = 1577\n",
    "TO_ID = 1999\n",
    "# Your code goes here!"
   ]
  },
  {
   "cell_type": "code",
   "execution_count": 41,
   "metadata": {},
   "outputs": [],
   "source": [
    "def user_json(num):\n",
    "    token = base64.standard_b64encode(b'login:password').decode('utf-8')\n",
    "    response = requests.get(PROTECTED_USER(num), \n",
    "                            headers={'Accept': 'application/json',\n",
    "                                     'Authorization': f\"Basic {token}\"})\n",
    "    return response.json()"
   ]
  },
  {
   "cell_type": "code",
   "execution_count": 55,
   "metadata": {
    "scrolled": true
   },
   "outputs": [],
   "source": [
    "g = nx.Graph()\n",
    "g.add_nodes_from(range(10000))\n",
    "for i in range(10000):\n",
    "    [g.add_edge(i, j) for j in user_json(i)['followers']]"
   ]
  },
  {
   "cell_type": "code",
   "execution_count": 57,
   "metadata": {},
   "outputs": [],
   "source": [
    "answer = nx.shortest_path(g, FROM_ID, TO_ID) # искомый кратчайший путь, используйте свой граф!"
   ]
  },
  {
   "cell_type": "markdown",
   "metadata": {},
   "source": [
    "## Не забудьте записать ответ!"
   ]
  },
  {
   "cell_type": "code",
   "execution_count": 58,
   "metadata": {},
   "outputs": [],
   "source": [
    "json.dump(answer, open('result.json', 'w'))"
   ]
  },
  {
   "cell_type": "code",
   "execution_count": 59,
   "metadata": {},
   "outputs": [
    {
     "name": "stdout",
     "output_type": "stream",
     "text": [
      "[1577, 484, 2926, 8072, 1999]"
     ]
    }
   ],
   "source": [
    "! cat result.json"
   ]
  }
 ],
 "metadata": {
  "coursera": {
   "schema_names": [
    "week1-web-lab-scrap-ab"
   ]
  },
  "kernelspec": {
   "display_name": "Python 3",
   "language": "python",
   "name": "python3"
  },
  "language_info": {
   "codemirror_mode": {
    "name": "ipython",
    "version": 3
   },
   "file_extension": ".py",
   "mimetype": "text/x-python",
   "name": "python",
   "nbconvert_exporter": "python",
   "pygments_lexer": "ipython3",
   "version": "3.6.5"
  }
 },
 "nbformat": 4,
 "nbformat_minor": 2
}

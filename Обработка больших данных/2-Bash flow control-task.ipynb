{
 "cells": [
  {
   "cell_type": "markdown",
   "metadata": {
    "pycharm": {
     "name": "#%% md\n"
    }
   },
   "source": [
    "**Задание**\n",
    "\n",
    "В текущей директории лежит зашифрованный файл `secret.txt` и скрипт `task.py`, который этот файл умеет дешифровать. \n",
    "\n",
    "Однако этот скрипт хочет удостовериться, что вы действительно хотите провести дешифровку, поэтому вначале спрашивает вас 1000 раз, уверены ли вы. \n",
    "\n",
    "Если все 1000 раз ответить `y`, то тогда этот скрипт дешифрует тот файл, который будет указан в первом аргументе командной строки. Результат дешифровки он напечатает на экран. \n",
    "\n",
    "Ваша задача - дешифровать файл `secret.txt` и положить результат в файл `result.txt`."
   ]
  },
  {
   "cell_type": "code",
   "execution_count": 8,
   "metadata": {},
   "outputs": [
    {
     "name": "stdout",
     "output_type": "stream",
     "text": [
      "yes: standard output: Broken pipe\r\n"
     ]
    }
   ],
   "source": [
    "! yes | python3 task.py secret.txt > result.txt"
   ]
  },
  {
   "cell_type": "code",
   "execution_count": 10,
   "metadata": {},
   "outputs": [
    {
     "name": "stdout",
     "output_type": "stream",
     "text": [
      "Pupa and Lupa went to get their salary, but bookkeeping made a mistake\r\n"
     ]
    }
   ],
   "source": [
    "! cat result.txt"
   ]
  }
 ],
 "metadata": {
  "coursera": {
   "schema_names": [
    "week-2-bash-flow-control"
   ]
  },
  "kernelspec": {
   "display_name": "Python 3",
   "language": "python",
   "name": "python3"
  },
  "language_info": {
   "codemirror_mode": {
    "name": "ipython",
    "version": 3
   },
   "file_extension": ".py",
   "mimetype": "text/x-python",
   "name": "python",
   "nbconvert_exporter": "python",
   "pygments_lexer": "ipython3",
   "version": "3.6.5"
  }
 },
 "nbformat": 4,
 "nbformat_minor": 2
}

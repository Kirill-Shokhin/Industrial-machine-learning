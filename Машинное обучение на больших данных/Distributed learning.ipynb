{
 "cells": [
  {
   "cell_type": "markdown",
   "metadata": {},
   "source": [
    "# Задача \n",
    "\n",
    "Задача практически аналогичная тому, что было в предыдущей лабораторной.\n",
    "\n",
    "В файлах `airlines.train-1.tsv`, `airlines.train-2.tsv` и `airlines.test.tsv` находятся данные о пользовательских оценках различных авиакомпаний. Полноценный набор данных доступен <a href=\"https://github.com/quankiquanki/skytrax-reviews-dataset\"> по ссылке </a>.\n",
    "\n",
    "В данных есть информация про название авиакомпании, страну того, кто оставляет отзыв, класс, которым он летел, текстовое сообщение и итоговая оценка от 0 до 10.\n",
    "\n",
    "Задача - по первым 4 параметрам (авиакомпания, страна, класс, текстовое сообщение) предсказать оценку, которую поставил пользователь. Для этого необходимо дополнительно превратить данные в формат vw. Про формат, в котором нужно предоставить решения будет написано ниже.\n",
    "\n",
    "В качестве ответа необходимо сдать обученные веса модели vowpal wabbit. Для оценки решения на тестовых данных будет запущен vw с этими весами и будет подсчитана метрика R2. Решения, которые получили качество больше `0.35` будут оцениваться в 100%. Решения с меньшим качеством будут оценены ниже в соответствии с полученных качеством. Саму модель (веса) необходимо сохранить в файл `result.vw`.\n",
    "\n",
    "Формат vw:\n",
    "* Целевая переменная - пользовательская оценка\n",
    "* 4 неймспейса - name, country, cabin, review\n",
    "* Значения в name, country, cabin приведены в монолитный формат - все символы, не являющиеся буквой или цифрой (то есть подходящие под регулярное выражение `\\W`) заменены на `_`, а также вся строка приведена к нижнему регистру.\n",
    "* В review оставлены только корректные элементы (то есть подходящие под регулярное выражение `[a-zA-Z0-9_]+`).\n",
    "\n",
    "Для демонстрации того, как выглядит этот формат, в файле `airlines.test.sample.vw` лежат 10 первых элементов из тестовой выборки, которые закодированны соответствующим образом.\n",
    "\n",
    "\n",
    "В отличии от предыдущей задачи, необходимо обучить модель распределенно, используюя два рабочих, как было показано выше в лабораторной. Для этих двух рабочих необходимо использовать части `airlines.train-1.tsv` и `airlines.train-2.tsv` соответственно."
   ]
  },
  {
   "cell_type": "code",
   "execution_count": 1,
   "metadata": {},
   "outputs": [],
   "source": [
    "import pandas as pd\n",
    "import numpy as np"
   ]
  },
  {
   "cell_type": "code",
   "execution_count": 2,
   "metadata": {},
   "outputs": [],
   "source": [
    "df_train_1 = pd.read_csv('airlines.train-1.tsv', sep='\\t')\n",
    "df_train_2 = pd.read_csv('airlines.train-2.tsv', sep='\\t')\n",
    "df_test = pd.read_csv('airlines.test.tsv', sep='\\t')"
   ]
  },
  {
   "cell_type": "code",
   "execution_count": 3,
   "metadata": {},
   "outputs": [
    {
     "data": {
      "text/html": [
       "<div>\n",
       "<style scoped>\n",
       "    .dataframe tbody tr th:only-of-type {\n",
       "        vertical-align: middle;\n",
       "    }\n",
       "\n",
       "    .dataframe tbody tr th {\n",
       "        vertical-align: top;\n",
       "    }\n",
       "\n",
       "    .dataframe thead th {\n",
       "        text-align: right;\n",
       "    }\n",
       "</style>\n",
       "<table border=\"1\" class=\"dataframe\">\n",
       "  <thead>\n",
       "    <tr style=\"text-align: right;\">\n",
       "      <th></th>\n",
       "      <th>airline_name</th>\n",
       "      <th>author_country</th>\n",
       "      <th>cabin_flown</th>\n",
       "      <th>content</th>\n",
       "      <th>rating</th>\n",
       "    </tr>\n",
       "  </thead>\n",
       "  <tbody>\n",
       "    <tr>\n",
       "      <th>0</th>\n",
       "      <td>sunwing-airlines</td>\n",
       "      <td>Canada</td>\n",
       "      <td>Economy</td>\n",
       "      <td>March 5th 2014 from Ottawa Canada to Cuba WG 6...</td>\n",
       "      <td>9.0</td>\n",
       "    </tr>\n",
       "    <tr>\n",
       "      <th>1</th>\n",
       "      <td>lufthansa</td>\n",
       "      <td>United Kingdom</td>\n",
       "      <td>Economy</td>\n",
       "      <td>SIN-FRA-BHX in Economy. First leg from Singapo...</td>\n",
       "      <td>7.0</td>\n",
       "    </tr>\n",
       "    <tr>\n",
       "      <th>2</th>\n",
       "      <td>spirit-airlines</td>\n",
       "      <td>United States</td>\n",
       "      <td>Economy</td>\n",
       "      <td>Spirit does what they state on their web site,...</td>\n",
       "      <td>7.0</td>\n",
       "    </tr>\n",
       "    <tr>\n",
       "      <th>3</th>\n",
       "      <td>sunwing-airlines</td>\n",
       "      <td>Canada</td>\n",
       "      <td>Premium Economy</td>\n",
       "      <td>My fiancé and I were booked to fly to Cayo San...</td>\n",
       "      <td>1.0</td>\n",
       "    </tr>\n",
       "    <tr>\n",
       "      <th>4</th>\n",
       "      <td>british-airways</td>\n",
       "      <td>United States</td>\n",
       "      <td>First Class</td>\n",
       "      <td>DXB-LHR B777-200ER BA0108 August 18 First Clas...</td>\n",
       "      <td>9.0</td>\n",
       "    </tr>\n",
       "  </tbody>\n",
       "</table>\n",
       "</div>"
      ],
      "text/plain": [
       "       airline_name  author_country      cabin_flown  \\\n",
       "0  sunwing-airlines          Canada          Economy   \n",
       "1         lufthansa  United Kingdom          Economy   \n",
       "2   spirit-airlines   United States          Economy   \n",
       "3  sunwing-airlines          Canada  Premium Economy   \n",
       "4   british-airways   United States      First Class   \n",
       "\n",
       "                                             content  rating  \n",
       "0  March 5th 2014 from Ottawa Canada to Cuba WG 6...     9.0  \n",
       "1  SIN-FRA-BHX in Economy. First leg from Singapo...     7.0  \n",
       "2  Spirit does what they state on their web site,...     7.0  \n",
       "3  My fiancé and I were booked to fly to Cayo San...     1.0  \n",
       "4  DXB-LHR B777-200ER BA0108 August 18 First Clas...     9.0  "
      ]
     },
     "execution_count": 3,
     "metadata": {},
     "output_type": "execute_result"
    }
   ],
   "source": [
    "df_train_1.head()"
   ]
  },
  {
   "cell_type": "code",
   "execution_count": 4,
   "metadata": {},
   "outputs": [
    {
     "data": {
      "text/html": [
       "<div>\n",
       "<style scoped>\n",
       "    .dataframe tbody tr th:only-of-type {\n",
       "        vertical-align: middle;\n",
       "    }\n",
       "\n",
       "    .dataframe tbody tr th {\n",
       "        vertical-align: top;\n",
       "    }\n",
       "\n",
       "    .dataframe thead th {\n",
       "        text-align: right;\n",
       "    }\n",
       "</style>\n",
       "<table border=\"1\" class=\"dataframe\">\n",
       "  <thead>\n",
       "    <tr style=\"text-align: right;\">\n",
       "      <th></th>\n",
       "      <th>airline_name</th>\n",
       "      <th>author_country</th>\n",
       "      <th>cabin_flown</th>\n",
       "      <th>content</th>\n",
       "      <th>rating</th>\n",
       "    </tr>\n",
       "  </thead>\n",
       "  <tbody>\n",
       "    <tr>\n",
       "      <th>0</th>\n",
       "      <td>ryanair</td>\n",
       "      <td>France</td>\n",
       "      <td>Economy</td>\n",
       "      <td>Unusually this was my first trip with FR for 4...</td>\n",
       "      <td>8.0</td>\n",
       "    </tr>\n",
       "    <tr>\n",
       "      <th>1</th>\n",
       "      <td>united-airlines</td>\n",
       "      <td>United States</td>\n",
       "      <td>Business Class</td>\n",
       "      <td>AMS-ORD 11 Jul. I had a most wonderful flight ...</td>\n",
       "      <td>10.0</td>\n",
       "    </tr>\n",
       "    <tr>\n",
       "      <th>2</th>\n",
       "      <td>hawaiian-airlines</td>\n",
       "      <td>United States</td>\n",
       "      <td>Economy</td>\n",
       "      <td>LAS-HNL-LIH. Midnight madness flight out of La...</td>\n",
       "      <td>7.0</td>\n",
       "    </tr>\n",
       "    <tr>\n",
       "      <th>3</th>\n",
       "      <td>china-eastern-airlines</td>\n",
       "      <td>India</td>\n",
       "      <td>Business Class</td>\n",
       "      <td>MU563 Shanghai to Delhi July 5. They boarded t...</td>\n",
       "      <td>1.0</td>\n",
       "    </tr>\n",
       "    <tr>\n",
       "      <th>4</th>\n",
       "      <td>lan-airlines</td>\n",
       "      <td>Ecuador</td>\n",
       "      <td>Economy</td>\n",
       "      <td>UIO-GYE-UIO. First leg: Web check-in worked pe...</td>\n",
       "      <td>8.0</td>\n",
       "    </tr>\n",
       "  </tbody>\n",
       "</table>\n",
       "</div>"
      ],
      "text/plain": [
       "             airline_name author_country     cabin_flown  \\\n",
       "0                 ryanair         France         Economy   \n",
       "1         united-airlines  United States  Business Class   \n",
       "2       hawaiian-airlines  United States         Economy   \n",
       "3  china-eastern-airlines          India  Business Class   \n",
       "4            lan-airlines        Ecuador         Economy   \n",
       "\n",
       "                                             content  rating  \n",
       "0  Unusually this was my first trip with FR for 4...     8.0  \n",
       "1  AMS-ORD 11 Jul. I had a most wonderful flight ...    10.0  \n",
       "2  LAS-HNL-LIH. Midnight madness flight out of La...     7.0  \n",
       "3  MU563 Shanghai to Delhi July 5. They boarded t...     1.0  \n",
       "4  UIO-GYE-UIO. First leg: Web check-in worked pe...     8.0  "
      ]
     },
     "execution_count": 4,
     "metadata": {},
     "output_type": "execute_result"
    }
   ],
   "source": [
    "df_train_2.head()"
   ]
  },
  {
   "cell_type": "code",
   "execution_count": 5,
   "metadata": {},
   "outputs": [
    {
     "data": {
      "text/html": [
       "<div>\n",
       "<style scoped>\n",
       "    .dataframe tbody tr th:only-of-type {\n",
       "        vertical-align: middle;\n",
       "    }\n",
       "\n",
       "    .dataframe tbody tr th {\n",
       "        vertical-align: top;\n",
       "    }\n",
       "\n",
       "    .dataframe thead th {\n",
       "        text-align: right;\n",
       "    }\n",
       "</style>\n",
       "<table border=\"1\" class=\"dataframe\">\n",
       "  <thead>\n",
       "    <tr style=\"text-align: right;\">\n",
       "      <th></th>\n",
       "      <th>airline_name</th>\n",
       "      <th>author_country</th>\n",
       "      <th>cabin_flown</th>\n",
       "      <th>content</th>\n",
       "      <th>rating</th>\n",
       "    </tr>\n",
       "  </thead>\n",
       "  <tbody>\n",
       "    <tr>\n",
       "      <th>0</th>\n",
       "      <td>south-african-airways</td>\n",
       "      <td>United Kingdom</td>\n",
       "      <td>Economy</td>\n",
       "      <td>JNB-LHR on the new airbus. Seats were roomy an...</td>\n",
       "      <td>8.0</td>\n",
       "    </tr>\n",
       "    <tr>\n",
       "      <th>1</th>\n",
       "      <td>jet-airways</td>\n",
       "      <td>Qatar</td>\n",
       "      <td>Business Class</td>\n",
       "      <td>Flew Business Class DOH-BOM-DOH. Outbound: Use...</td>\n",
       "      <td>6.0</td>\n",
       "    </tr>\n",
       "    <tr>\n",
       "      <th>2</th>\n",
       "      <td>american-airlines</td>\n",
       "      <td>United States</td>\n",
       "      <td>First Class</td>\n",
       "      <td>This is a rough review because we flew first b...</td>\n",
       "      <td>5.0</td>\n",
       "    </tr>\n",
       "    <tr>\n",
       "      <th>3</th>\n",
       "      <td>flybe</td>\n",
       "      <td>United Kingdom</td>\n",
       "      <td>Economy</td>\n",
       "      <td>Am thoroughly fed up with Flybe customer servi...</td>\n",
       "      <td>1.0</td>\n",
       "    </tr>\n",
       "    <tr>\n",
       "      <th>4</th>\n",
       "      <td>american-airlines</td>\n",
       "      <td>United Arab Emirates</td>\n",
       "      <td>Economy</td>\n",
       "      <td>I have flown MIA-JFK on an old B767-300. Fligh...</td>\n",
       "      <td>5.0</td>\n",
       "    </tr>\n",
       "  </tbody>\n",
       "</table>\n",
       "</div>"
      ],
      "text/plain": [
       "            airline_name        author_country     cabin_flown  \\\n",
       "0  south-african-airways        United Kingdom         Economy   \n",
       "1            jet-airways                 Qatar  Business Class   \n",
       "2      american-airlines         United States     First Class   \n",
       "3                  flybe        United Kingdom         Economy   \n",
       "4      american-airlines  United Arab Emirates         Economy   \n",
       "\n",
       "                                             content  rating  \n",
       "0  JNB-LHR on the new airbus. Seats were roomy an...     8.0  \n",
       "1  Flew Business Class DOH-BOM-DOH. Outbound: Use...     6.0  \n",
       "2  This is a rough review because we flew first b...     5.0  \n",
       "3  Am thoroughly fed up with Flybe customer servi...     1.0  \n",
       "4  I have flown MIA-JFK on an old B767-300. Fligh...     5.0  "
      ]
     },
     "execution_count": 5,
     "metadata": {},
     "output_type": "execute_result"
    }
   ],
   "source": [
    "df_test.head()"
   ]
  },
  {
   "cell_type": "code",
   "execution_count": 6,
   "metadata": {},
   "outputs": [],
   "source": [
    "import re\n",
    "def formating(text):\n",
    "    return re.sub('\\W', '_', text).lower()\n",
    "formating('United Kingdom')\n",
    "\n",
    "def cleaning(text):\n",
    "    word_pattern = re.compile(r\"[a-zA-Z0-9_]+\")\n",
    "    words = []\n",
    "    for match in re.finditer(word_pattern, text.lower()):\n",
    "        words.append(match.group(0))\n",
    "    \n",
    "    if not words: \n",
    "        return None\n",
    "    return \" \".join(words)\n",
    "\n",
    "def df_format(df):\n",
    "    for column in df.columns[:3]:\n",
    "        df[column] = df[column].apply(formating)\n",
    "    \n",
    "    df[df.columns[3]] = df[df.columns[3]].apply(cleaning)\n",
    "    return df\n",
    "\n",
    "def write_vw(df, filename):\n",
    "    with open(filename, \"w\") as f:\n",
    "        for name, country, cabin, review, rating in df.values:\n",
    "            vw_object = \"{} |name {} |country {} |cabin {} |review {}\".format(rating, name, country, cabin, review)\n",
    "            if not vw_object:\n",
    "                continue\n",
    "            f.write(vw_object + '\\n')"
   ]
  },
  {
   "cell_type": "code",
   "execution_count": 7,
   "metadata": {},
   "outputs": [],
   "source": [
    "write_vw(df_format(df_train_1), \"airlines_train_1.vw\")\n",
    "write_vw(df_format(df_train_2), \"airlines_train_2.vw\")\n",
    "write_vw(df_format(df_test), \"airlines_test.vw\")"
   ]
  },
  {
   "cell_type": "code",
   "execution_count": 8,
   "metadata": {},
   "outputs": [
    {
     "name": "stdout",
     "output_type": "stream",
     "text": [
      "8.0 |name south_african_airways |country united_kingdom |cabin economy |review jnb lhr on the new airbus seats were roomy and comfy staff polite and friendly and inflight entertainment system outstanding we had terrible turbulence throughout the flight but the captain was informative and reassuring and everyone remained calm food not great but otherwise excellent\r\n",
      "6.0 |name jet_airways |country qatar |cabin business_class |review flew business class doh bom doh outbound used the oryx lounge at doha airport which was nice cabin was nearly empty seats are similar to those on jet s domestic business class found it difficult to sleep with the recline provided at 6 3 legrests did not help as my legs overshot it the light sandwich was passable service was attentive and cheerful inbound evening flight so looked forward to meal and wine same cheap french table wine indian non veg meal was not great cabin crew were attentive and friendly ife was limited one negative was that my bag was one of the last off both flights with a priority tag\r\n"
     ]
    }
   ],
   "source": [
    "! head -n 2 airlines_test.vw"
   ]
  },
  {
   "cell_type": "code",
   "execution_count": 9,
   "metadata": {},
   "outputs": [
    {
     "name": "stdout",
     "output_type": "stream",
     "text": [
      "8.0 |name south_african_airways |country united_kingdom |cabin economy |review jnb lhr on the new airbus seats were roomy and comfy staff polite and friendly and inflight entertainment system outstanding we had terrible turbulence throughout the flight but the captain was informative and reassuring and everyone remained calm food not great but otherwise excellent\r\n",
      "6.0 |name jet_airways |country qatar |cabin business_class |review flew business class doh bom doh outbound used the oryx lounge at doha airport which was nice cabin was nearly empty seats are similar to those on jet s domestic business class found it difficult to sleep with the recline provided at 6 3 legrests did not help as my legs overshot it the light sandwich was passable service was attentive and cheerful inbound evening flight so looked forward to meal and wine same cheap french table wine indian non veg meal was not great cabin crew were attentive and friendly ife was limited one negative was that my bag was one of the last off both flights with a priority tag\r\n"
     ]
    }
   ],
   "source": [
    "! head -n 2 airlines.test.sample.vw"
   ]
  },
  {
   "cell_type": "code",
   "execution_count": 10,
   "metadata": {},
   "outputs": [],
   "source": [
    "%%bash --bg --out OUT --err ERR\n",
    "spanning_tree --nondaemon"
   ]
  },
  {
   "cell_type": "code",
   "execution_count": 11,
   "metadata": {},
   "outputs": [
    {
     "name": "stdout",
     "output_type": "stream",
     "text": [
      "jovyan       186  0.0  0.0   6064  1244 ?        S    10:18   0:00 spanning_tree --nondaemon\r\n",
      "jovyan       187  0.0  0.0   6892  2096 pts/0    Ss+  10:18   0:00 /bin/bash -c  ps aux | grep spanning_tree\r\n",
      "jovyan       189  0.0  0.0   6432   548 pts/0    S+   10:18   0:00 grep spanning_tree\r\n"
     ]
    }
   ],
   "source": [
    "! ps aux | grep spanning_tree"
   ]
  },
  {
   "cell_type": "code",
   "execution_count": 12,
   "metadata": {},
   "outputs": [],
   "source": [
    "%%bash --bg --out OUT --err ERR\n",
    "vw --span_server localhost --total 2 --node 0 --unique_id 1 -d airlines_train_1.vw --learning_rate 0.1 --bit_precision 22 --passes 129 --cache_file vw.cache1"
   ]
  },
  {
   "cell_type": "code",
   "execution_count": 13,
   "metadata": {},
   "outputs": [
    {
     "name": "stdout",
     "output_type": "stream",
     "text": [
      "final_regressor = result.vw\n",
      "Num weight bits = 22\n",
      "learning rate = 0.1\n",
      "initial_t = 0\n",
      "power_t = 0.5\n",
      "decay_learning_rate = 1\n",
      "using cache_file = vw.cache2\n",
      "ignoring text input in favor of cache input\n",
      "num sources = 1\n",
      "Enabled reductions: gd, scorer\n",
      "average  since         example        example  current  current  current\n",
      "loss     last          counter         weight    label  predict features\n",
      "64.000000 64.000000            1            1.0   8.0000   0.0000      237\n",
      "76.161049 88.322098            2            2.0  10.0000   0.6020      111\n",
      "46.230893 16.300738            4            4.0   1.0000   1.1863      117\n",
      "47.609640 48.988387            8            8.0   6.0000   5.0694      334\n",
      "32.047484 16.485328           16           16.0   1.0000   8.5656      477\n",
      "30.549394 29.051304           32           32.0   7.0000   2.2265       96\n",
      "27.594156 24.638918           64           64.0   1.0000   0.9866       45\n",
      "24.422146 21.250137          128          128.0   5.0000   4.7411      115\n",
      "22.064454 19.706762          256          256.0   3.0000   2.4408       86\n",
      "21.003869 19.943284          512          512.0   1.0000   5.0072      176\n",
      "19.474797 17.945725         1024         1024.0   3.0000   2.5822       96\n",
      "16.668336 13.861876         2048         2048.0   1.0000   2.2296       58\n",
      "14.661523 12.654709         4096         4096.0   2.0000   5.4917      122\n",
      "12.338537 10.015551         8192         8192.0   8.0000   8.5500      117\n",
      "connecting to 127.0.0.1 = localhost:26543\n",
      "wrote unique_id=1\n",
      "wrote total=2\n",
      "wrote node=1\n",
      "read ok=1\n",
      "read kid_count=1\n",
      "read parent_ip=255.255.255.255\n",
      "read parent_port=65535\n",
      "11.015606 11.015606        16384        16384.0   9.0000   9.7355      185 h\n",
      "9.335240 7.654875        32768        32768.0   1.0000   3.2311       39 h\n",
      "7.938317 6.541394        65536        65536.0   4.0000   4.3228      102 h\n",
      "6.727379 5.516440       131072       131072.0   5.0000   4.2841      209 h\n",
      "5.756670 4.786027       262144       262144.0   8.0000   5.4681       85 h\n",
      "5.023162 4.289680       524288       524288.0   4.0000   3.8952       39 h\n",
      "4.509191 3.995219      1048576      1048576.0   3.0000   1.7517       95 h\n",
      "\n",
      "finished run\n",
      "number of examples per pass = 20990\n",
      "passes used = 129\n",
      "weighted example sum = 2707710.000000\n",
      "weighted label sum = 16692858.000000\n",
      "average loss = 7.162043 h\n",
      "best constant = 6.164936\n",
      "total feature number = 327172768\n",
      "CPU times: user 289 ms, sys: 79.1 ms, total: 369 ms\n",
      "Wall time: 24.2 s\n"
     ]
    }
   ],
   "source": [
    "%%time\n",
    "! vw --span_server localhost --total 2 --node 1 --unique_id 1 -d airlines_train_2.vw -f result.vw --learning_rate 0.1 --bit_precision 22 --passes 129 --cache_file vw.cache2"
   ]
  },
  {
   "cell_type": "code",
   "execution_count": 14,
   "metadata": {},
   "outputs": [
    {
     "name": "stdout",
     "output_type": "stream",
     "text": [
      "only testing\n",
      "predictions = predictions.txt\n",
      "Num weight bits = 22\n",
      "learning rate = 0.5\n",
      "initial_t = 0\n",
      "power_t = 0.5\n",
      "using no cache\n",
      "Reading datafile = airlines_test.vw\n",
      "num sources = 1\n",
      "Enabled reductions: gd, scorer\n",
      "average  since         example        example  current  current  current\n",
      "loss     last          counter         weight    label  predict features\n",
      "2.331803 2.331803            1            1.0   8.0000   9.5270       48\n",
      "2.023103 1.714402            2            2.0   6.0000   7.3094      116\n",
      "7.635035 13.246968            4            4.0   1.0000   4.2069       92\n",
      "4.807511 1.979987            8            8.0   8.0000   6.6038      152\n",
      "4.000725 3.193938           16           16.0   8.0000   5.4146       53\n",
      "3.356973 2.713221           32           32.0   8.0000   7.3259       56\n",
      "3.264257 3.171542           64           64.0   8.0000   6.6515       37\n",
      "3.083323 2.902389          128          128.0   8.0000   9.5909      200\n",
      "3.593154 4.102986          256          256.0   2.0000   3.6572      107\n",
      "3.639179 3.685204          512          512.0   2.0000   2.7759      259\n",
      "3.508852 3.378525         1024         1024.0   7.0000   8.4152      115\n",
      "3.560667 3.612483         2048         2048.0   8.0000   5.8153       34\n",
      "3.580659 3.600652         4096         4096.0   9.0000   5.5251      129\n",
      "3.586780 3.592901         8192         8192.0   1.0000   6.5779       62\n",
      "\n",
      "finished run\n",
      "number of examples = 11487\n",
      "weighted example sum = 11487.000000\n",
      "weighted label sum = 70128.000000\n",
      "average loss = 3.556526\n",
      "best constant = 6.104988\n",
      "total feature number = 1392670\n"
     ]
    }
   ],
   "source": [
    "# При проверки будет запущена примерно следующая команда. \n",
    "# Вместо airlines.test.sample.vw будет использоваться целиком airlines.test.tsv переведенный в указанный выше формат\n",
    "# Так как файл airlines.test.tsv присутствует у вас целиком, после преобразования в vw формат можно использовать его\n",
    "# для самопроверки\n",
    "\n",
    "! vw --testonly --initial_regressor result.vw --predictions predictions.txt airlines_test.vw"
   ]
  },
  {
   "cell_type": "code",
   "execution_count": 15,
   "metadata": {},
   "outputs": [],
   "source": [
    "from sklearn.metrics import r2_score\n",
    "\n",
    "def read_target_from_vw(vw_object):\n",
    "    return float(vw_object.split(' ')[0])\n",
    "\n",
    "\n",
    "def calc_r2(predictions_path, answers_path):\n",
    "    with open(predictions_path, 'r') as f:\n",
    "        y_pred = np.array([float(value) for value in f.readlines()])\n",
    "        \n",
    "    with open(answers_path, 'r') as f:\n",
    "        y_expected = np.array([read_target_from_vw(value) for value in f.readlines()])\n",
    "        \n",
    "    return r2_score(y_expected, y_pred)"
   ]
  },
  {
   "cell_type": "code",
   "execution_count": 16,
   "metadata": {},
   "outputs": [
    {
     "data": {
      "text/plain": [
       "0.6509455899286707"
      ]
     },
     "execution_count": 16,
     "metadata": {},
     "output_type": "execute_result"
    }
   ],
   "source": [
    "# После запуска будет подсчитана метрика r2 на всем тестовом наборе данных. \n",
    "# Ваша задача - выбить не меньше 0.35, подстраивая параметры vw\n",
    "\n",
    "\n",
    "calc_r2('predictions.txt', 'airlines_test.vw')"
   ]
  },
  {
   "cell_type": "code",
   "execution_count": null,
   "metadata": {},
   "outputs": [],
   "source": []
  }
 ],
 "metadata": {
  "coursera": {
   "schema_names": [
    "3-distributed-training-task-dff937"
   ]
  },
  "kernelspec": {
   "display_name": "Python 3",
   "language": "python",
   "name": "python3"
  },
  "language_info": {
   "codemirror_mode": {
    "name": "ipython",
    "version": 3
   },
   "file_extension": ".py",
   "mimetype": "text/x-python",
   "name": "python",
   "nbconvert_exporter": "python",
   "pygments_lexer": "ipython3",
   "version": "3.8.5"
  }
 },
 "nbformat": 4,
 "nbformat_minor": 4
}

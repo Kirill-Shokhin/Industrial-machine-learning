{
 "cells": [
  {
   "cell_type": "markdown",
   "metadata": {},
   "source": [
    "**Задание**\n",
    "\n",
    "А теперь домашнее задание! Нужно создать набор данных для классификации хотдогов!\n",
    "\n",
    "В Label Studio используйте шаблон Image classification\n",
    "\n",
    "Задайте два класса:\n",
    "\n",
    "1. Hot dog\n",
    "\n",
    "2. Not hot dog\n",
    "\n",
    "Пример интерфейса:"
   ]
  },
  {
   "cell_type": "code",
   "execution_count": 2,
   "metadata": {},
   "outputs": [
    {
     "name": "stdout",
     "output_type": "stream",
     "text": [
      "import json\r\n",
      "import re\r\n",
      "import requests\r\n",
      "\r\n",
      "# Proxied to www.coursera.org/api/workspaceSubmissions.v1 via gateway.\r\n",
      "COURSERA_SUBMISSION_URL = 'https://hub.coursera-apps.org/api/workspaceSubmissions.v1'\r\n",
      "BATCH_CREATE_ACTION = '?action=createBatch'\r\n",
      "\r\n",
      "def submit(submission_token, schema_name, schema_names):\r\n",
      "    try:\r\n",
      "        schema_names_list = json.loads(schema_names)\r\n",
      "        if not schema_names_list:\r\n",
      "            response = requests.post(\r\n",
      "                COURSERA_SUBMISSION_URL,\r\n",
      "                data=json.dumps({'token': submission_token, 'schemaName': schema_name}),\r\n",
      "                timeout=10,\r\n",
      "            )\r\n",
      "        else:\r\n",
      "            response = requests.post(\r\n",
      "                COURSERA_SUBMISSION_URL + BATCH_CREATE_ACTION,\r\n",
      "                data=json.dumps({'token': submission_token, 'schemaNames': schema_names_list}),\r\n",
      "                timeout=10,\r\n",
      "                )\r\n",
      "    except Exception as err:\r\n",
      "        return 'Failed to execute submission request: {}'.format(err)\r\n",
      "\r\n",
      "    if response.status_code == 201:\r\n",
      "        return response.json()['elements'][0]['message']\r\n",
      "    elif response.status_code == 200:\r\n",
      "        return response.json()['message']\r\n",
      "    elif response.status_code < 500:\r\n",
      "        return 'Bad request:\\n{}'.format(response.json())\r\n",
      "    else:\r\n",
      "        error_id, = re.findall(\r\n",
      "            'This exception has been logged with id <strong>(.+)</strong>',\r\n",
      "            response.text)\r\n",
      "        return 'Unexpected server error logged with id {}. '.format(error_id) + \\\r\n",
      "               'Please contact Coursera support.'\r\n"
     ]
    }
   ],
   "source": [
    "!cat /tmp/coursera/grading.py"
   ]
  },
  {
   "cell_type": "markdown",
   "metadata": {},
   "source": [
    "````XML\n",
    "<View>\n",
    "  <Image name=\"image\" value=\"$image\"/>\n",
    "  <Choices name=\"choice\" toName=\"image\" showInLine=\"true\">\n",
    "    <Choice value=\"Hot dog\" background=\"blue\"/>\n",
    "    <Choice value=\"Not hot dog\" background=\"green\" />\n",
    "  </Choices>\n",
    "</View>\n",
    "````"
   ]
  },
  {
   "cell_type": "markdown",
   "metadata": {},
   "source": [
    "Вам нужно разметить 10 изображений. Для вашего  удобства мы  уже сформировали  json файл с  заданиями,  вам достаточно только загрузить его  в   Label Studio\n",
    "\n",
    "NOTE: В этом окружении адрес может меняться, поэтому мы использует эту специальную ячейку, которая решил эту проблему. Запустите ее для получения сформированного JSON."
   ]
  },
  {
   "cell_type": "code",
   "execution_count": 1,
   "metadata": {},
   "outputs": [
    {
     "data": {
      "application/javascript": [
       "\n",
       "let picturesPath = [\n",
       "    \"/data/imgs/1.jpg\",\n",
       "    \"/data/imgs/2.jpg\",\n",
       "    \"/data/imgs/3.jpg\",\n",
       "    \"/data/imgs/4.jpg\",\n",
       "    \"/data/imgs/5.jpg\",\n",
       "    \"/data/imgs/6.jpg\",\n",
       "    \"/data/imgs/7.jpg\",\n",
       "    \"/data/imgs/8.jpg\",\n",
       "    \"/data/imgs/9.jpg\",\n",
       "    \"/data/imgs/10.jpg\"\n",
       "];\n",
       "\n",
       "let origin = window.location.origin;\n",
       "let markupData = [];\n",
       "\n",
       "for (let pic of picturesPath) {\n",
       "    markupData.push({\n",
       "        \"data\": {\n",
       "            \"image\": origin + pic\n",
       "        }\n",
       "    });\n",
       "}\n",
       "\n",
       "element.html(\"<code>\" + JSON.stringify(markupData, null, 2) + \"</code>\");"
      ],
      "text/plain": [
       "<IPython.core.display.Javascript object>"
      ]
     },
     "metadata": {},
     "output_type": "display_data"
    }
   ],
   "source": [
    "%%javascript\n",
    "\n",
    "let picturesPath = [\n",
    "    \"/data/imgs/1.jpg\",\n",
    "    \"/data/imgs/2.jpg\",\n",
    "    \"/data/imgs/3.jpg\",\n",
    "    \"/data/imgs/4.jpg\",\n",
    "    \"/data/imgs/5.jpg\",\n",
    "    \"/data/imgs/6.jpg\",\n",
    "    \"/data/imgs/7.jpg\",\n",
    "    \"/data/imgs/8.jpg\",\n",
    "    \"/data/imgs/9.jpg\",\n",
    "    \"/data/imgs/10.jpg\"\n",
    "];\n",
    "\n",
    "let origin = window.location.origin;\n",
    "let markupData = [];\n",
    "\n",
    "for (let pic of picturesPath) {\n",
    "    markupData.push({\n",
    "        \"data\": {\n",
    "            \"image\": origin + pic\n",
    "        }\n",
    "    });\n",
    "}\n",
    "\n",
    "element.html(\"<code>\" + JSON.stringify(markupData, null, 2) + \"</code>\");"
   ]
  },
  {
   "cell_type": "markdown",
   "metadata": {},
   "source": [
    "После разметки десяти изображений скачайте полученную разметку в формате JSON_MIN и положите результат в файл `result.json`."
   ]
  }
 ],
 "metadata": {
  "coursera": {
   "schema_names": [
    "2-label-studio-task-51da7e-aaa-bbb"
   ]
  },
  "kernelspec": {
   "display_name": "Python 3",
   "language": "python",
   "name": "python3"
  },
  "language_info": {
   "codemirror_mode": {
    "name": "ipython",
    "version": 3
   },
   "file_extension": ".py",
   "mimetype": "text/x-python",
   "name": "python",
   "nbconvert_exporter": "python",
   "pygments_lexer": "ipython3",
   "version": "3.6.5"
  }
 },
 "nbformat": 4,
 "nbformat_minor": 2
}

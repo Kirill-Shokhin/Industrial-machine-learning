{
 "cells": [
  {
   "cell_type": "markdown",
   "metadata": {},
   "source": [
    "# Задача\n",
    "\n",
    "В файлах `airlines.reviews.train.tsv` и `airlines.reviews.test.tsv` находятся данные о пользовательских оценках различных авиакомпаний. Полноценный набор данных доступен <a href=\"https://github.com/quankiquanki/skytrax-reviews-dataset\"> по ссылке </a>.\n",
    "\n",
    "В данных есть отзыв, который оставил пользователь и его оценка от 0 до 10. Задача - как можно лучше предсказывать оценку по текстовому описанию, используя различные подходы для работы с текстами.\n",
    "\n",
    "Ниже представлен код, который обучает базовую модель - линейная модель vw, где весь текст закодирован просто как Bag-of-words. Ваши изменения должны улучшить текущую модель за счет более качественного кодирования текстовых данных."
   ]
  },
  {
   "cell_type": "code",
   "execution_count": 1,
   "metadata": {},
   "outputs": [],
   "source": [
    "import pandas as pd\n",
    "import numpy as np\n",
    "\n",
    "import pandas as pd\n",
    "\n",
    "pd.set_option('display.max_columns', None)  \n",
    "pd.set_option('display.expand_frame_repr', False)\n",
    "pd.set_option('max_colwidth', 800)"
   ]
  },
  {
   "cell_type": "code",
   "execution_count": 2,
   "metadata": {},
   "outputs": [],
   "source": [
    "df_train = pd.read_csv('airlines.reviews.train.tsv', sep='\\t')\n",
    "df_test = pd.read_csv('airlines.reviews.test.tsv', sep='\\t')"
   ]
  },
  {
   "cell_type": "code",
   "execution_count": 3,
   "metadata": {},
   "outputs": [],
   "source": [
    "len_train = len(df_train)\n",
    "df = pd.concat([df_train, df_test], ignore_index=True)"
   ]
  },
  {
   "cell_type": "code",
   "execution_count": 4,
   "metadata": {},
   "outputs": [
    {
     "data": {
      "text/html": [
       "<div>\n",
       "<style scoped>\n",
       "    .dataframe tbody tr th:only-of-type {\n",
       "        vertical-align: middle;\n",
       "    }\n",
       "\n",
       "    .dataframe tbody tr th {\n",
       "        vertical-align: top;\n",
       "    }\n",
       "\n",
       "    .dataframe thead th {\n",
       "        text-align: right;\n",
       "    }\n",
       "</style>\n",
       "<table border=\"1\" class=\"dataframe\">\n",
       "  <thead>\n",
       "    <tr style=\"text-align: right;\">\n",
       "      <th></th>\n",
       "      <th>rating</th>\n",
       "      <th>content</th>\n",
       "    </tr>\n",
       "  </thead>\n",
       "  <tbody>\n",
       "    <tr>\n",
       "      <th>0</th>\n",
       "      <td>9.0</td>\n",
       "      <td>March 5th 2014 from Ottawa Canada to Cuba WG 630. They announced that the flight was going to be delayed 1 hour no explanation why. They started boarding and we took off only 1/2 hour late. There were 6 of us 2 were seated together and remaining 4 were put in aisle seats side by side. On the way back from Cuba on March 12th 2014 WG 631 we were slow going through immigration no fault of Sunwing. Finally arrived to our plane at 10.35am the doors immediately closed and the plane took off 5 minutes later 20 minutes earlier than expected. The 6 of us were pretty much split up by 2 each seating my 12 old daughter by herself behind us. Overall the staff were great very friendly and approachable. The food served was pretty good considering most airlines don't offer meal service for free. It wa...</td>\n",
       "    </tr>\n",
       "    <tr>\n",
       "      <th>1</th>\n",
       "      <td>7.0</td>\n",
       "      <td>SIN-FRA-BHX in Economy. First leg from Singapore on the A380 was great largely because I was fortunate enough to get an exit row seat with unlimited legroom (judging by fellow passengers one wouldn't be happy with normal seats as they had rather pathetic legroom). Nice modern AVOD system but the PTVs were rather small compared to other A380 airlines. Service was really friendly and warm but few frills (no amenity kit whatsoever no footrests). Meals were alright but again rather simple compared to Asian carriers. Second leg to Birmingham on an A320 was above average by intra-Europe standards with a decent snack/beverage service and friendly service again. All flights on time.</td>\n",
       "    </tr>\n",
       "    <tr>\n",
       "      <th>2</th>\n",
       "      <td>7.0</td>\n",
       "      <td>Spirit does what they state on their web site, they get you there - cheaply. For that I give them 5 stars because they did exactly what the said they would do. The plane was full and the seats were close together. I read all about that before I bought the ticket and it was as they said it would be, hence the low cost. Plan ahead and know what to expect and it will be a great experience. Its obvious that some of the people that gave 1 star reviews didn't understand about cost of bags or any extras and not done their homework - and are now very disappointed.</td>\n",
       "    </tr>\n",
       "    <tr>\n",
       "      <th>3</th>\n",
       "      <td>1.0</td>\n",
       "      <td>My fiancé and I were booked to fly to Cayo Santa Maria (CUBA) February 6-13 2014. Our flight was scheduled to leave at 6.10am. Upon arriving at the airport at 4.30am we quickly noticed that the line up was very long. When we finally got to the check-in desk they asked us where we were headed we replied Cayo Santa Maria. We advised her that we had checked in online already and we just needed to print our boarding passes. She took our baggage and weighed it. Right before she was about to send it off a rude manager from the back came and just yelled out \"gates to Santa Clara are closed\". We were so shocked because it was only 4.55am at that time. We told them the plane would just be sitting there we could still make it. The rep simply told us \"please step aside we need to assist other pas...</td>\n",
       "    </tr>\n",
       "    <tr>\n",
       "      <th>4</th>\n",
       "      <td>9.0</td>\n",
       "      <td>DXB-LHR B777-200ER BA0108 August 18 First Class. Transferred from an Emirates flight in DXB. BA DXB Galleries Lounge reception staff member excellent. Boarding reasonable with an on-time departure. Cabin crew outstanding and definitely lived up to the \"To Fly. To Serve\" BA slogan. Food tasty and well presented but not quite First Class and cost-cutting was evident. The New First seat is comfortable though the footrest is poorly designed and a storage area for small inflight items is missing. IFE monitor controls and selection very good but the screen could be more adjustable for reach. Lovely cabin ambience including colors textures mood lighting and window blinds. Toilets cramped and stocked with the cheapest liquid soaps and toilet paper. Overall an enjoyable flight but as a longstan...</td>\n",
       "    </tr>\n",
       "  </tbody>\n",
       "</table>\n",
       "</div>"
      ],
      "text/plain": [
       "   rating                                                                                                                                                                                                                                                                                                                                                                                                                                                                                                                                                                                                                                                                                                                                                                                                                          content\n",
       "0     9.0  March 5th 2014 from Ottawa Canada to Cuba WG 630. They announced that the flight was going to be delayed 1 hour no explanation why. They started boarding and we took off only 1/2 hour late. There were 6 of us 2 were seated together and remaining 4 were put in aisle seats side by side. On the way back from Cuba on March 12th 2014 WG 631 we were slow going through immigration no fault of Sunwing. Finally arrived to our plane at 10.35am the doors immediately closed and the plane took off 5 minutes later 20 minutes earlier than expected. The 6 of us were pretty much split up by 2 each seating my 12 old daughter by herself behind us. Overall the staff were great very friendly and approachable. The food served was pretty good considering most airlines don't offer meal service for free. It wa...\n",
       "1     7.0                                                                                                                      SIN-FRA-BHX in Economy. First leg from Singapore on the A380 was great largely because I was fortunate enough to get an exit row seat with unlimited legroom (judging by fellow passengers one wouldn't be happy with normal seats as they had rather pathetic legroom). Nice modern AVOD system but the PTVs were rather small compared to other A380 airlines. Service was really friendly and warm but few frills (no amenity kit whatsoever no footrests). Meals were alright but again rather simple compared to Asian carriers. Second leg to Birmingham on an A320 was above average by intra-Europe standards with a decent snack/beverage service and friendly service again. All flights on time.\n",
       "2     7.0                                                                                                                                                                                                                                               Spirit does what they state on their web site, they get you there - cheaply. For that I give them 5 stars because they did exactly what the said they would do. The plane was full and the seats were close together. I read all about that before I bought the ticket and it was as they said it would be, hence the low cost. Plan ahead and know what to expect and it will be a great experience. Its obvious that some of the people that gave 1 star reviews didn't understand about cost of bags or any extras and not done their homework - and are now very disappointed.\n",
       "3     1.0  My fiancé and I were booked to fly to Cayo Santa Maria (CUBA) February 6-13 2014. Our flight was scheduled to leave at 6.10am. Upon arriving at the airport at 4.30am we quickly noticed that the line up was very long. When we finally got to the check-in desk they asked us where we were headed we replied Cayo Santa Maria. We advised her that we had checked in online already and we just needed to print our boarding passes. She took our baggage and weighed it. Right before she was about to send it off a rude manager from the back came and just yelled out \"gates to Santa Clara are closed\". We were so shocked because it was only 4.55am at that time. We told them the plane would just be sitting there we could still make it. The rep simply told us \"please step aside we need to assist other pas...\n",
       "4     9.0  DXB-LHR B777-200ER BA0108 August 18 First Class. Transferred from an Emirates flight in DXB. BA DXB Galleries Lounge reception staff member excellent. Boarding reasonable with an on-time departure. Cabin crew outstanding and definitely lived up to the \"To Fly. To Serve\" BA slogan. Food tasty and well presented but not quite First Class and cost-cutting was evident. The New First seat is comfortable though the footrest is poorly designed and a storage area for small inflight items is missing. IFE monitor controls and selection very good but the screen could be more adjustable for reach. Lovely cabin ambience including colors textures mood lighting and window blinds. Toilets cramped and stocked with the cheapest liquid soaps and toilet paper. Overall an enjoyable flight but as a longstan..."
      ]
     },
     "execution_count": 4,
     "metadata": {},
     "output_type": "execute_result"
    }
   ],
   "source": [
    "df_train.head()"
   ]
  },
  {
   "cell_type": "code",
   "execution_count": 5,
   "metadata": {},
   "outputs": [
    {
     "data": {
      "text/html": [
       "<div>\n",
       "<style scoped>\n",
       "    .dataframe tbody tr th:only-of-type {\n",
       "        vertical-align: middle;\n",
       "    }\n",
       "\n",
       "    .dataframe tbody tr th {\n",
       "        vertical-align: top;\n",
       "    }\n",
       "\n",
       "    .dataframe thead th {\n",
       "        text-align: right;\n",
       "    }\n",
       "</style>\n",
       "<table border=\"1\" class=\"dataframe\">\n",
       "  <thead>\n",
       "    <tr style=\"text-align: right;\">\n",
       "      <th></th>\n",
       "      <th>rating</th>\n",
       "      <th>content</th>\n",
       "    </tr>\n",
       "  </thead>\n",
       "  <tbody>\n",
       "    <tr>\n",
       "      <th>0</th>\n",
       "      <td>8.0</td>\n",
       "      <td>JNB-LHR on the new airbus. Seats were roomy and comfy staff polite and friendly and inflight entertainment system outstanding. We had terrible turbulence throughout the flight but the captain was informative and reassuring and everyone remained calm. Food not great but otherwise excellent.</td>\n",
       "    </tr>\n",
       "    <tr>\n",
       "      <th>1</th>\n",
       "      <td>6.0</td>\n",
       "      <td>Flew Business Class DOH-BOM-DOH. Outbound: Used the Oryx lounge at Doha airport which was nice. Cabin was nearly empty. Seats are similar to those on Jet's domestic business class. Found it difficult to sleep with the recline provided. At 6'3\" legrests did not help as my legs overshot it. The light sandwich was passable. Service was attentive and cheerful. Inbound: Evening flight so looked forward to meal and wine. Same cheap French table wine. Indian non-veg meal was not great. Cabin crew were attentive and friendly. IFE was limited. One negative was that my bag was one of the last off both flights with a priority tag.</td>\n",
       "    </tr>\n",
       "    <tr>\n",
       "      <th>2</th>\n",
       "      <td>5.0</td>\n",
       "      <td>This is a rough review because we flew first business and coach. We usually fly coach but for a trip to Napa we used our points to go first class. The AA/United merger combined the worst two airlines in the Western world. Flew on 4/7 (260 / 193) - BAN-DFX-SAN. Service food seating excellent. Plane a little old and shaky but all in all a good flight. Returned 4/13 (193/5290) SAN-Charlotte-BNA. Although we had first class we were relegated to business with an accompanying drop in quality across the board. The trouble is the age of the planes - it's like something from a museum. The noise from the engine was so loud it was like sticking your head under the hood of a car. But for once all flights left on time without mechanical problems. We were closer to the real world of 95% of all trave...</td>\n",
       "    </tr>\n",
       "    <tr>\n",
       "      <th>3</th>\n",
       "      <td>1.0</td>\n",
       "      <td>Am thoroughly fed up with Flybe customer services. My wife and I checked into the Flybe desk at Faro on the 29th September for the return trip to Exeter. Despite the fact that we had pre-booked our seats paying the New Economy Flight tariff we were told the aircraft was too full to allow us to sit together. I complained to Flybe customer services yet I have not even received the courtesy of an acknowledgement. Both outbound and inbound flights were also an hour late on departure.</td>\n",
       "    </tr>\n",
       "    <tr>\n",
       "      <th>4</th>\n",
       "      <td>5.0</td>\n",
       "      <td>I have flown MIA-JFK on an old B767-300. Flight was full. Seat very old but comfortable and pitch was ok. Entertainment only through overhead screens. I was shocked that this aircraft had the new hatrack design only for premium cabins Economy cabin still had the 90's hatrack design which a) looks very old and b) does not have enough room for everyone. Only non-alcoholic drink service for this 2hr flight. Staff very unprofessional. There seems to be an inconsistency in their uniform. One female flight attendant was wearing - what seemed to be her personal apron that featured dozens of US flags next to each other. After landing in JFK we had to hold at a remote stand before our gate was available. As usual passengesr were standing up and retrieving their bags from the overhead bins despi...</td>\n",
       "    </tr>\n",
       "  </tbody>\n",
       "</table>\n",
       "</div>"
      ],
      "text/plain": [
       "   rating                                                                                                                                                                                                                                                                                                                                                                                                                                                                                                                                                                                                                                                                                                                                                                                                                          content\n",
       "0     8.0                                                                                                                                                                                                                                                                                                                                                                                                                                                                                                                               JNB-LHR on the new airbus. Seats were roomy and comfy staff polite and friendly and inflight entertainment system outstanding. We had terrible turbulence throughout the flight but the captain was informative and reassuring and everyone remained calm. Food not great but otherwise excellent.\n",
       "1     6.0                                                                                                                                                                              Flew Business Class DOH-BOM-DOH. Outbound: Used the Oryx lounge at Doha airport which was nice. Cabin was nearly empty. Seats are similar to those on Jet's domestic business class. Found it difficult to sleep with the recline provided. At 6'3\" legrests did not help as my legs overshot it. The light sandwich was passable. Service was attentive and cheerful. Inbound: Evening flight so looked forward to meal and wine. Same cheap French table wine. Indian non-veg meal was not great. Cabin crew were attentive and friendly. IFE was limited. One negative was that my bag was one of the last off both flights with a priority tag.\n",
       "2     5.0  This is a rough review because we flew first business and coach. We usually fly coach but for a trip to Napa we used our points to go first class. The AA/United merger combined the worst two airlines in the Western world. Flew on 4/7 (260 / 193) - BAN-DFX-SAN. Service food seating excellent. Plane a little old and shaky but all in all a good flight. Returned 4/13 (193/5290) SAN-Charlotte-BNA. Although we had first class we were relegated to business with an accompanying drop in quality across the board. The trouble is the age of the planes - it's like something from a museum. The noise from the engine was so loud it was like sticking your head under the hood of a car. But for once all flights left on time without mechanical problems. We were closer to the real world of 95% of all trave...\n",
       "3     1.0                                                                                                                                                                                                                                                                                                                             Am thoroughly fed up with Flybe customer services. My wife and I checked into the Flybe desk at Faro on the 29th September for the return trip to Exeter. Despite the fact that we had pre-booked our seats paying the New Economy Flight tariff we were told the aircraft was too full to allow us to sit together. I complained to Flybe customer services yet I have not even received the courtesy of an acknowledgement. Both outbound and inbound flights were also an hour late on departure.\n",
       "4     5.0  I have flown MIA-JFK on an old B767-300. Flight was full. Seat very old but comfortable and pitch was ok. Entertainment only through overhead screens. I was shocked that this aircraft had the new hatrack design only for premium cabins Economy cabin still had the 90's hatrack design which a) looks very old and b) does not have enough room for everyone. Only non-alcoholic drink service for this 2hr flight. Staff very unprofessional. There seems to be an inconsistency in their uniform. One female flight attendant was wearing - what seemed to be her personal apron that featured dozens of US flags next to each other. After landing in JFK we had to hold at a remote stand before our gate was available. As usual passengesr were standing up and retrieving their bags from the overhead bins despi..."
      ]
     },
     "execution_count": 5,
     "metadata": {},
     "output_type": "execute_result"
    }
   ],
   "source": [
    "df_test.head()"
   ]
  },
  {
   "cell_type": "code",
   "execution_count": 6,
   "metadata": {},
   "outputs": [],
   "source": [
    "X_train, Y_train = df_train['content'], df_train['rating']\n",
    "X_test, Y_test = df_test['content'], df_test['rating']"
   ]
  },
  {
   "cell_type": "code",
   "execution_count": 7,
   "metadata": {},
   "outputs": [],
   "source": [
    "from sklearn.metrics import r2_score\n",
    "import re\n",
    "\n",
    "\n",
    "def convert_to_vw(raw_text, target):\n",
    "    word_pattern = re.compile(r\"[a-zA-Z0-9_]+\")\n",
    "    words = []\n",
    "    for match in re.finditer(word_pattern, raw_text.lower()):\n",
    "        words.append(match.group(0))\n",
    "    \n",
    "    if not words: \n",
    "        return None\n",
    "    return \"{} |d {}\".format(float(target), \" \".join(words))\n",
    "\n",
    "def write_vw(X_data, Y_data, filename):\n",
    "    with open(filename, \"w\") as f:\n",
    "        for x, y in zip(X_data, Y_data):\n",
    "            vw_object = convert_to_vw(x, y)\n",
    "            if not vw_object:\n",
    "                continue\n",
    "            f.write(vw_object + '\\n')\n",
    "            \n",
    "def read_target_from_vw(vw_object):\n",
    "    return float(vw_object.split(' ')[0])\n",
    "\n",
    "def calc_r2(predictions_path, answers_path):\n",
    "    with open(predictions_path, 'r') as f:\n",
    "        y_pred = np.array([float(value) for value in f.readlines()])\n",
    "        \n",
    "    with open(answers_path, 'r') as f:\n",
    "        y_expected = np.array([read_target_from_vw(value) for value in f.readlines()])\n",
    "        \n",
    "    return r2_score(y_expected, y_pred)"
   ]
  },
  {
   "cell_type": "code",
   "execution_count": 8,
   "metadata": {},
   "outputs": [],
   "source": [
    "write_vw(X_train, Y_train, 'airlines.train.vw')\n",
    "write_vw(X_test, Y_test, 'airlines.test.vw')"
   ]
  },
  {
   "cell_type": "code",
   "execution_count": 9,
   "metadata": {},
   "outputs": [
    {
     "name": "stdout",
     "output_type": "stream",
     "text": [
      "9.0 |d march 5th 2014 from ottawa canada to cuba wg 630 they announced that the flight was going to be delayed 1 hour no explanation why they started boarding and we took off only 1 2 hour late there were 6 of us 2 were seated together and remaining 4 were put in aisle seats side by side on the way back from cuba on march 12th 2014 wg 631 we were slow going through immigration no fault of sunwing finally arrived to our plane at 10 35am the doors immediately closed and the plane took off 5 minutes later 20 minutes earlier than expected the 6 of us were pretty much split up by 2 each seating my 12 old daughter by herself behind us overall the staff were great very friendly and approachable the food served was pretty good considering most airlines don t offer meal service for free it was comparable to meals we ve had to purchase on other airlines\r\n"
     ]
    }
   ],
   "source": [
    "! head -n 1 airlines.train.vw"
   ]
  },
  {
   "cell_type": "markdown",
   "metadata": {},
   "source": [
    "## Byte Pair Encoding"
   ]
  },
  {
   "cell_type": "code",
   "execution_count": 10,
   "metadata": {},
   "outputs": [],
   "source": [
    "import sentencepiece as spm"
   ]
  },
  {
   "cell_type": "code",
   "execution_count": 11,
   "metadata": {},
   "outputs": [],
   "source": [
    "text = df.content\n",
    "sents = [t.split('.') for t in text]\n",
    "\n",
    "with open('airbnb_sents.txt', 'w') as f:\n",
    "    for t in sents:\n",
    "        for s in t:\n",
    "            f.write(s)\n",
    "            f.write('\\n')"
   ]
  },
  {
   "cell_type": "code",
   "execution_count": 12,
   "metadata": {
    "scrolled": true
   },
   "outputs": [
    {
     "name": "stdout",
     "output_type": "stream",
     "text": [
      "sentencepiece_trainer.cc(79) LOG(INFO) Starts training with : \n",
      "trainer_spec {\n",
      "  input: airbnb_sents.txt\n",
      "  input_format: \n",
      "  model_prefix: airlines.model1\n",
      "  model_type: UNIGRAM\n",
      "  vocab_size: 1000\n",
      "  self_test_sample_size: 0\n",
      "  character_coverage: 0.99\n",
      "  input_sentence_size: 0\n",
      "  shuffle_input_sentence: 1\n",
      "  seed_sentencepiece_size: 1000000\n",
      "  shrinking_factor: 0.75\n",
      "  max_sentence_length: 4192\n",
      "  num_threads: 16\n",
      "  num_sub_iterations: 2\n",
      "  max_sentencepiece_length: 16\n",
      "  split_by_unicode_script: 1\n",
      "  split_by_number: 1\n",
      "  split_by_whitespace: 1\n",
      "  split_digits: 0\n",
      "  treat_whitespace_as_suffix: 0\n",
      "  required_chars: \n",
      "  byte_fallback: 0\n",
      "  vocabulary_output_piece_score: 1\n",
      "  train_extremely_large_corpus: 0\n",
      "  hard_vocab_limit: 1\n",
      "  use_all_vocab: 0\n",
      "  unk_id: 0\n",
      "  bos_id: 1\n",
      "  eos_id: 2\n",
      "  pad_id: -1\n",
      "  unk_piece: <unk>\n",
      "  bos_piece: <s>\n",
      "  eos_piece: </s>\n",
      "  pad_piece: <pad>\n",
      "  unk_surface:  ⁇ \n",
      "}\n",
      "normalizer_spec {\n",
      "  name: nmt_nfkc\n",
      "  add_dummy_prefix: 1\n",
      "  remove_extra_whitespaces: 1\n",
      "  escape_whitespaces: 1\n",
      "  normalization_rule_tsv: \n",
      "}\n",
      "denormalizer_spec {}\n",
      "trainer_interface.cc(320) LOG(INFO) SentenceIterator is not specified. Using MultiFileSentenceIterator.\n",
      "trainer_interface.cc(175) LOG(INFO) Loading corpus: airbnb_sents.txt\n",
      "trainer_interface.cc(376) LOG(INFO) Loaded all 277045 sentences\n",
      "trainer_interface.cc(391) LOG(INFO) Adding meta_piece: <unk>\n",
      "trainer_interface.cc(391) LOG(INFO) Adding meta_piece: <s>\n",
      "trainer_interface.cc(391) LOG(INFO) Adding meta_piece: </s>\n",
      "trainer_interface.cc(396) LOG(INFO) Normalizing sentences...\n",
      "trainer_interface.cc(457) LOG(INFO) all chars count=21988453\n",
      "trainer_interface.cc(468) LOG(INFO) Done: 99.0704% characters are covered.\n",
      "trainer_interface.cc(478) LOG(INFO) Alphabet size=52\n",
      "trainer_interface.cc(479) LOG(INFO) Final character coverage=0.990704\n",
      "trainer_interface.cc(511) LOG(INFO) Done! preprocessed 276578 sentences.\n",
      "unigram_model_trainer.cc(138) LOG(INFO) Making suffix array...\n",
      "unigram_model_trainer.cc(142) LOG(INFO) Extracting frequent sub strings...\n",
      "unigram_model_trainer.cc(193) LOG(INFO) Initialized 66636 seed sentencepieces\n",
      "trainer_interface.cc(517) LOG(INFO) Tokenizing input sentences with whitespace: 276578\n",
      "trainer_interface.cc(527) LOG(INFO) Done! 73799\n",
      "unigram_model_trainer.cc(488) LOG(INFO) Using 73799 sentences for EM training\n",
      "unigram_model_trainer.cc(504) LOG(INFO) EM sub_iter=0 size=31176 obj=10.8536 num_tokens=229731 num_tokens/piece=7.36884\n",
      "unigram_model_trainer.cc(504) LOG(INFO) EM sub_iter=1 size=25586 obj=8.95907 num_tokens=231184 num_tokens/piece=9.03557\n",
      "unigram_model_trainer.cc(504) LOG(INFO) EM sub_iter=0 size=19188 obj=8.91822 num_tokens=237929 num_tokens/piece=12.3999\n",
      "unigram_model_trainer.cc(504) LOG(INFO) EM sub_iter=1 size=19180 obj=8.90702 num_tokens=238149 num_tokens/piece=12.4165\n",
      "unigram_model_trainer.cc(504) LOG(INFO) EM sub_iter=0 size=14385 obj=8.86751 num_tokens=250692 num_tokens/piece=17.4273\n",
      "unigram_model_trainer.cc(504) LOG(INFO) EM sub_iter=1 size=14385 obj=8.86116 num_tokens=250683 num_tokens/piece=17.4267\n",
      "unigram_model_trainer.cc(504) LOG(INFO) EM sub_iter=0 size=10788 obj=8.86377 num_tokens=266355 num_tokens/piece=24.6899\n",
      "unigram_model_trainer.cc(504) LOG(INFO) EM sub_iter=1 size=10788 obj=8.85399 num_tokens=266321 num_tokens/piece=24.6868\n",
      "unigram_model_trainer.cc(504) LOG(INFO) EM sub_iter=0 size=8091 obj=8.88134 num_tokens=283633 num_tokens/piece=35.0554\n",
      "unigram_model_trainer.cc(504) LOG(INFO) EM sub_iter=1 size=8091 obj=8.86678 num_tokens=283610 num_tokens/piece=35.0525\n",
      "unigram_model_trainer.cc(504) LOG(INFO) EM sub_iter=0 size=6068 obj=8.95561 num_tokens=302139 num_tokens/piece=49.7922\n",
      "unigram_model_trainer.cc(504) LOG(INFO) EM sub_iter=1 size=6068 obj=8.93448 num_tokens=302104 num_tokens/piece=49.7864\n",
      "unigram_model_trainer.cc(504) LOG(INFO) EM sub_iter=0 size=4551 obj=9.06786 num_tokens=320784 num_tokens/piece=70.4865\n",
      "unigram_model_trainer.cc(504) LOG(INFO) EM sub_iter=1 size=4551 obj=9.0395 num_tokens=320738 num_tokens/piece=70.4764\n",
      "unigram_model_trainer.cc(504) LOG(INFO) EM sub_iter=0 size=3413 obj=9.24859 num_tokens=341418 num_tokens/piece=100.035\n",
      "unigram_model_trainer.cc(504) LOG(INFO) EM sub_iter=1 size=3413 obj=9.21022 num_tokens=341394 num_tokens/piece=100.028\n",
      "unigram_model_trainer.cc(504) LOG(INFO) EM sub_iter=0 size=2559 obj=9.46971 num_tokens=360337 num_tokens/piece=140.812\n",
      "unigram_model_trainer.cc(504) LOG(INFO) EM sub_iter=1 size=2559 obj=9.42247 num_tokens=360353 num_tokens/piece=140.818\n",
      "unigram_model_trainer.cc(504) LOG(INFO) EM sub_iter=0 size=1919 obj=9.74584 num_tokens=381214 num_tokens/piece=198.652\n",
      "unigram_model_trainer.cc(504) LOG(INFO) EM sub_iter=1 size=1919 obj=9.68659 num_tokens=381248 num_tokens/piece=198.67\n",
      "unigram_model_trainer.cc(504) LOG(INFO) EM sub_iter=0 size=1439 obj=10.0899 num_tokens=399100 num_tokens/piece=277.345\n",
      "unigram_model_trainer.cc(504) LOG(INFO) EM sub_iter=1 size=1439 obj=10.0174 num_tokens=399105 num_tokens/piece=277.349\n",
      "unigram_model_trainer.cc(504) LOG(INFO) EM sub_iter=0 size=1100 obj=10.4507 num_tokens=417900 num_tokens/piece=379.909\n",
      "unigram_model_trainer.cc(504) LOG(INFO) EM sub_iter=1 size=1100 obj=10.373 num_tokens=417897 num_tokens/piece=379.906\n",
      "trainer_interface.cc(605) LOG(INFO) Saving model: airlines.model1.model\n",
      "trainer_interface.cc(616) LOG(INFO) Saving vocabs: airlines.model1.vocab\n",
      "CPU times: user 204 ms, sys: 56.2 ms, total: 261 ms\n",
      "Wall time: 19.5 s\n"
     ]
    }
   ],
   "source": [
    "%%time\n",
    "\n",
    "! spm_train --input=airbnb_sents.txt --model_prefix=airlines.model1 --vocab_size=1000 --character_coverage=0.99--model_type=bpe"
   ]
  },
  {
   "cell_type": "code",
   "execution_count": 13,
   "metadata": {},
   "outputs": [],
   "source": [
    "with open('aairlines.texts.txt', 'w') as f:\n",
    "    for t in text:\n",
    "        f.write(t)\n",
    "        f.write('\\n')"
   ]
  },
  {
   "cell_type": "code",
   "execution_count": 14,
   "metadata": {},
   "outputs": [
    {
     "name": "stdout",
     "output_type": "stream",
     "text": [
      "CPU times: user 33.2 ms, sys: 11.9 ms, total: 45.1 ms\n",
      "Wall time: 3.29 s\n"
     ]
    }
   ],
   "source": [
    "%%time\n",
    "\n",
    "!spm_encode --model=airlines.model1.model --output_format=id aairlines.texts.txt > aairlines.bpe.txt"
   ]
  },
  {
   "cell_type": "code",
   "execution_count": 15,
   "metadata": {},
   "outputs": [
    {
     "name": "stdout",
     "output_type": "stream",
     "text": [
      "940 235 99 620 44 290 8 242 40 21 613 7 75 410 21 208 0 3 0 128 115 0 304 94 303 152 45 12 46 5 20 9 588 7 59 263 140 190 67 934 754 0 304 581 12 248 6 49 428 258 125 140 0 114 190 281 0 454 26 3 0 19 149 101 26 79 12 826 6 76 30 21 41 16 257 26 574 14 720 85 3 440 137 3 440 0 157 5 237 150 44 75 410 21 15 940 140 114 99 620 208 0 3 0 128 138 49 26 834 588 403 976 67 763 19 63 152 40 16 0 162 41 287 314 7 116 103 48 402 0 128 200 135 5 196 69 4 3 260 30 12 24 245 32 745 18 6 5 103 428 258 235 264 571 441 264 906 148 412 12 0 31 3 0 19 149 26 634 262 354 166 8 146 137 101 617 573 68 140 114 250 3 18 21 465 47 187 137 580 585 858 149 0 455 5 108 26 221 51 179 6 3 368 191 21 90 136 0 31 87 280 9 634 70 729 16 370 309 369 34 8 438 229 64 22 398 0 355 9 589 136 7 450 49 34 169 56 7 791 15 159 309 0\r\n",
      "3 680 17 817 17 178 184 0 14 469 0 518 161 44 611 15 5 37 128 0 115 9 221 716 32 325 13 9 22 8 152 245 461 7 163 94 268 86 422 79 25 274 166 30 86 12 488 3 0 449 58 16 137 84 174 143 40 189 141 111 28 34 8 59 777 25 909 85 62 72 56 657 151 93 418 515 488 0 337 327 960 37 0 239 122 383 38 5 113 247 0 4 26 657 328 589 12 7 159 37 128 0 115 309 0 550 9 322 179 6 844 38 503 84 42 399 4 3 0 303 345 78 277 3 57 86 295 4 33 11 177 67 84 33 33 8 71 55 4 0 97 11 53 4 26 3 53 98 58 47 8 38 127 657 3 4 260 23 73 589 12 7 517 24 61 568 4 0 63 11 45 52 18 161 7 88 267 30 16 47 135 15 94 37 663 9 10 294 169 647 137 14 8 210 17 154 95 289 11 579 4 25 10 703 419 0 82 11 177 291 64 6 179 64 127 0 357 102 15 66 0\r\n"
     ]
    }
   ],
   "source": [
    "! head -n 2 aairlines.bpe.txt"
   ]
  },
  {
   "cell_type": "code",
   "execution_count": 16,
   "metadata": {},
   "outputs": [],
   "source": [
    "def convert_to_vw(raw_text, target):\n",
    "    return \"{} |d {}\".format(float(target), raw_text)\n",
    "        \n",
    "def write_vw(X_data, Y_data, filename):\n",
    "    with open(filename, \"w\") as f:\n",
    "        for x, y in zip(X_data, Y_data):\n",
    "            vw_object = convert_to_vw(x, y)\n",
    "            if not vw_object:\n",
    "                continue\n",
    "            f.write(vw_object)"
   ]
  },
  {
   "cell_type": "code",
   "execution_count": 17,
   "metadata": {},
   "outputs": [
    {
     "data": {
      "text/plain": [
       "34868"
      ]
     },
     "execution_count": 17,
     "metadata": {},
     "output_type": "execute_result"
    }
   ],
   "source": [
    "with open('aairlines.bpe.txt', 'r') as bpe:\n",
    "    bpe_texts = bpe.readlines()\n",
    "\n",
    "    \n",
    "len(bpe_texts)"
   ]
  },
  {
   "cell_type": "code",
   "execution_count": 18,
   "metadata": {},
   "outputs": [],
   "source": [
    "write_vw(bpe_texts[:len_train], df.rating[:len_train], 'airlines.train.vw')\n",
    "write_vw(bpe_texts[len_train:], df.rating[len_train:], 'airlines.test.vw')"
   ]
  },
  {
   "cell_type": "code",
   "execution_count": 19,
   "metadata": {},
   "outputs": [
    {
     "name": "stdout",
     "output_type": "stream",
     "text": [
      "9.0 |d 940 235 99 620 44 290 8 242 40 21 613 7 75 410 21 208 0 3 0 128 115 0 304 94 303 152 45 12 46 5 20 9 588 7 59 263 140 190 67 934 754 0 304 581 12 248 6 49 428 258 125 140 0 114 190 281 0 454 26 3 0 19 149 101 26 79 12 826 6 76 30 21 41 16 257 26 574 14 720 85 3 440 137 3 440 0 157 5 237 150 44 75 410 21 15 940 140 114 99 620 208 0 3 0 128 138 49 26 834 588 403 976 67 763 19 63 152 40 16 0 162 41 287 314 7 116 103 48 402 0 128 200 135 5 196 69 4 3 260 30 12 24 245 32 745 18 6 5 103 428 258 235 264 571 441 264 906 148 412 12 0 31 3 0 19 149 26 634 262 354 166 8 146 137 101 617 573 68 140 114 250 3 18 21 465 47 187 137 580 585 858 149 0 455 5 108 26 221 51 179 6 3 368 191 21 90 136 0 31 87 280 9 634 70 729 16 370 309 369 34 8 438 229 64 22 398 0 355 9 589 136 7 450 49 34 169 56 7 791 15 159 309 0\r\n"
     ]
    }
   ],
   "source": [
    "! head -n 1 'airlines.train.vw'"
   ]
  },
  {
   "cell_type": "markdown",
   "metadata": {},
   "source": [
    "## word2vec"
   ]
  },
  {
   "cell_type": "code",
   "execution_count": 20,
   "metadata": {},
   "outputs": [],
   "source": [
    "import re\n",
    "import nltk.data \n",
    "from nltk.corpus import stopwords\n",
    "\n",
    "stop_words = stopwords.words('english')\n",
    "\n",
    "words_only = re.compile('[a-z]+')\n",
    "\n",
    "def letters(s, regex = words_only):\n",
    "    if isinstance(s, str):\n",
    "        return words_only.findall(s.lower())\n",
    "    else:\n",
    "        return []\n",
    "\n",
    "# удаление стоп-слов\n",
    "def remove_stopwords(tokens, sw = stop_words):\n",
    "    return [t for t in tokens if not t in sw]\n",
    "\n",
    "def preprocess(s):\n",
    "    return remove_stopwords(letters(s))"
   ]
  },
  {
   "cell_type": "code",
   "execution_count": 21,
   "metadata": {},
   "outputs": [],
   "source": [
    "from nltk.stem.snowball import SnowballStemmer\n",
    "from functools import lru_cache\n",
    "\n",
    "\n",
    "snowball = SnowballStemmer(\"english\")\n",
    "\n",
    "def stemm_description(d):\n",
    "    @lru_cache(maxsize=128)\n",
    "    def stemm_token(token):\n",
    "        return snowball.stem(token)\n",
    "\n",
    "    return [stemm_token(t) for t in d if len(stemm_token(t)) >= 3]"
   ]
  },
  {
   "cell_type": "code",
   "execution_count": 22,
   "metadata": {},
   "outputs": [
    {
     "data": {
      "application/vnd.jupyter.widget-view+json": {
       "model_id": "3931ae5ca2af480ca6e4f04aca6cc0ac",
       "version_major": 2,
       "version_minor": 0
      },
      "text/plain": [
       "HBox(children=(FloatProgress(value=0.0, max=34809.0), HTML(value='')))"
      ]
     },
     "metadata": {},
     "output_type": "display_data"
    },
    {
     "name": "stdout",
     "output_type": "stream",
     "text": [
      "\n"
     ]
    },
    {
     "data": {
      "application/vnd.jupyter.widget-view+json": {
       "model_id": "5d15f46161a54f4bada184835cdae4be",
       "version_major": 2,
       "version_minor": 0
      },
      "text/plain": [
       "HBox(children=(FloatProgress(value=0.0, max=34809.0), HTML(value='')))"
      ]
     },
     "metadata": {},
     "output_type": "display_data"
    },
    {
     "name": "stdout",
     "output_type": "stream",
     "text": [
      "\n"
     ]
    },
    {
     "data": {
      "text/html": [
       "<div>\n",
       "<style scoped>\n",
       "    .dataframe tbody tr th:only-of-type {\n",
       "        vertical-align: middle;\n",
       "    }\n",
       "\n",
       "    .dataframe tbody tr th {\n",
       "        vertical-align: top;\n",
       "    }\n",
       "\n",
       "    .dataframe thead th {\n",
       "        text-align: right;\n",
       "    }\n",
       "</style>\n",
       "<table border=\"1\" class=\"dataframe\">\n",
       "  <thead>\n",
       "    <tr style=\"text-align: right;\">\n",
       "      <th></th>\n",
       "      <th>rating</th>\n",
       "      <th>content</th>\n",
       "      <th>clean_text</th>\n",
       "      <th>stems</th>\n",
       "    </tr>\n",
       "  </thead>\n",
       "  <tbody>\n",
       "    <tr>\n",
       "      <th>22046</th>\n",
       "      <td>9.0</td>\n",
       "      <td>I never had much of an issue with this airline. Ppolite staff food very reasonable a good selection of drinks and in-flight entertainment. On occasion the flights can be late but this is more due to the weather and the odd mechanical hiccup however this has improved. You may find this airline very expensive (Amsterdam to Atyrau) with 50% saving to be had via other routings. These comments relate to trips Amsterdam to Atyrau Atyrau to Aktau and Istanbul to Atyrau over the last 3 years.</td>\n",
       "      <td>[i, never, had, much, of, an, issue, with, this, airline, ppolite, staff, food, very, reasonable, a, good, selection, of, drinks, and, in, flight, entertainment, on, occasion, the, flights, can, be, late, but, this, is, more, due, to, the, weather, and, the, odd, mechanical, hiccup, however, this, has, improved, you, may, find, this, airline, very, expensive, amsterdam, to, atyrau, with, saving, to, be, had, via, other, routings, these, comments, relate, to, trips, amsterdam, to, atyrau, atyrau, to, aktau, and, istanbul, to, atyrau, over, the, last, years]</td>\n",
       "      <td>[never, had, much, issu, with, this, airlin, ppolit, staff, food, veri, reason, good, select, drink, and, flight, entertain, occas, the, flight, can, late, but, this, more, due, the, weather, and, the, odd, mechan, hiccup, howev, this, has, improv, you, may, find, this, airlin, veri, expens, amsterdam, atyrau, with, save, had, via, other, rout, these, comment, relat, trip, amsterdam, atyrau, atyrau, aktau, and, istanbul, atyrau, over, the, last, year]</td>\n",
       "    </tr>\n",
       "  </tbody>\n",
       "</table>\n",
       "</div>"
      ],
      "text/plain": [
       "       rating                                                                                                                                                                                                                                                                                                                                                                                                                                                                                                    content                                                                                                                                                                                                                                                                                                                                                                                                                                                                                                                                                                          clean_text                                                                                                                                                                                                                                                                                                                                                                                                                                                                    stems\n",
       "22046     9.0  I never had much of an issue with this airline. Ppolite staff food very reasonable a good selection of drinks and in-flight entertainment. On occasion the flights can be late but this is more due to the weather and the odd mechanical hiccup however this has improved. You may find this airline very expensive (Amsterdam to Atyrau) with 50% saving to be had via other routings. These comments relate to trips Amsterdam to Atyrau Atyrau to Aktau and Istanbul to Atyrau over the last 3 years.  [i, never, had, much, of, an, issue, with, this, airline, ppolite, staff, food, very, reasonable, a, good, selection, of, drinks, and, in, flight, entertainment, on, occasion, the, flights, can, be, late, but, this, is, more, due, to, the, weather, and, the, odd, mechanical, hiccup, however, this, has, improved, you, may, find, this, airline, very, expensive, amsterdam, to, atyrau, with, saving, to, be, had, via, other, routings, these, comments, relate, to, trips, amsterdam, to, atyrau, atyrau, to, aktau, and, istanbul, to, atyrau, over, the, last, years]  [never, had, much, issu, with, this, airlin, ppolit, staff, food, veri, reason, good, select, drink, and, flight, entertain, occas, the, flight, can, late, but, this, more, due, the, weather, and, the, odd, mechan, hiccup, howev, this, has, improv, you, may, find, this, airlin, veri, expens, amsterdam, atyrau, with, save, had, via, other, rout, these, comment, relat, trip, amsterdam, atyrau, atyrau, aktau, and, istanbul, atyrau, over, the, last, year]"
      ]
     },
     "execution_count": 22,
     "metadata": {},
     "output_type": "execute_result"
    }
   ],
   "source": [
    "from multiprocessing import Pool\n",
    "from tqdm import tqdm_notebook as tqdm\n",
    "\n",
    "with Pool(8) as p:\n",
    "    clean_text = list(tqdm(p.imap(letters, df.content), total=len(df)))\n",
    "    \n",
    "df['clean_text'] = clean_text\n",
    "    \n",
    "with Pool(8) as p:\n",
    "    stems = list(tqdm(p.imap(stemm_description, df.clean_text), total=len(df)))\n",
    "    \n",
    "df['stems'] = stems\n",
    "\n",
    "df.sample()"
   ]
  },
  {
   "cell_type": "code",
   "execution_count": 23,
   "metadata": {},
   "outputs": [],
   "source": [
    "with open('text_for_vector_models.txt', 'w') as f:\n",
    "    for s in df.stems:\n",
    "        f.write(' '.join(s))\n",
    "        f.write('\\n')"
   ]
  },
  {
   "cell_type": "code",
   "execution_count": 24,
   "metadata": {},
   "outputs": [],
   "source": [
    "from gensim.models import word2vec"
   ]
  },
  {
   "cell_type": "code",
   "execution_count": 25,
   "metadata": {},
   "outputs": [],
   "source": [
    "w2v_model = word2vec.Word2Vec(df.stems, workers=4, size=300, min_count=10, window=4, sample=1e-3)"
   ]
  },
  {
   "cell_type": "code",
   "execution_count": 26,
   "metadata": {},
   "outputs": [
    {
     "name": "stdout",
     "output_type": "stream",
     "text": [
      "[('land', 0.7369639277458191), ('reach', 0.6460075378417969), ('leav', 0.5718560218811035), ('depart', 0.5467904806137085), ('departur', 0.5097861289978027)]\n"
     ]
    }
   ],
   "source": [
    "print(w2v_model.wv.most_similar(positive=[\"arriv\"], topn=5))"
   ]
  },
  {
   "cell_type": "code",
   "execution_count": 27,
   "metadata": {},
   "outputs": [],
   "source": [
    "class MeanEmbeddingVectorizer(object):\n",
    "    def __init__(self, word2vec):\n",
    "        self.word2vec = word2vec\n",
    "        self.dim = len(list(word2vec.values())[0])\n",
    "\n",
    "    def fit(self, X, y):\n",
    "        return self\n",
    "\n",
    "    def transform(self, X):\n",
    "        return np.array([\n",
    "            np.mean([self.word2vec[w] for w in words if w in self.word2vec]\n",
    "                    or [np.zeros(self.dim)], axis=0)\n",
    "            for words in X\n",
    "        ])\n",
    "w2v = dict(zip(w2v_model.wv.index2word, w2v_model.wv.vectors))"
   ]
  },
  {
   "cell_type": "code",
   "execution_count": 28,
   "metadata": {},
   "outputs": [],
   "source": [
    "train_vec = MeanEmbeddingVectorizer(w2v).transform(df.stems[:len_train])\n",
    "test_vec = MeanEmbeddingVectorizer(w2v).transform(df.stems[len_train:])"
   ]
  },
  {
   "cell_type": "code",
   "execution_count": 29,
   "metadata": {},
   "outputs": [],
   "source": [
    "train_vec_list = []\n",
    "for vec in train_vec:\n",
    "    train_vec_list.append(\" \".join(vec.astype(str))+'\\n')\n",
    "\n",
    "test_vec_list = []\n",
    "for vec in test_vec:\n",
    "    test_vec_list.append(\" \".join(vec.astype(str))+'\\n')"
   ]
  },
  {
   "cell_type": "code",
   "execution_count": 30,
   "metadata": {},
   "outputs": [],
   "source": [
    "write_vw(train_vec_list, df.rating[:len_train], 'airlines.train.vw')\n",
    "write_vw(test_vec_list, df.rating[len_train:], 'airlines.test.vw')"
   ]
  },
  {
   "cell_type": "code",
   "execution_count": 31,
   "metadata": {
    "scrolled": true
   },
   "outputs": [
    {
     "name": "stdout",
     "output_type": "stream",
     "text": [
      "9.0 |d -0.533525 0.22157243 -0.079161815 0.06949304 -0.18635605 -0.26331526 0.27673662 -0.30878136 -0.050869215 -0.390512 -0.047729775 0.11917531 0.15479024 -0.05440995 0.578881 0.042289637 -0.2302667 -0.09609324 0.13519546 -0.005928808 0.07478955 0.33502516 0.20409022 0.007634786 0.23034781 0.037199657 0.089911 -0.0130975265 -0.12902294 0.21588038 0.04489422 0.4076767 0.012097265 -0.03573991 0.043163758 -0.17549662 -0.09406937 -0.17676057 -0.13911007 0.051370833 0.0036234178 0.09253819 -0.045813717 0.06842078 0.083209164 0.30235234 -0.023727683 -0.21897721 -0.014977982 -0.029575758 0.012575022 -0.16241282 -0.24299334 -0.12627102 -0.15009402 0.041331537 0.022551334 0.065563224 -0.13570751 -0.1952967 -0.1322302 0.025231747 0.017009635 0.23763262 -0.011145899 -0.09357851 0.04317278 -0.020360943 -0.18530348 -0.30971047 -0.15794027 -0.029386092 -0.015007634 -0.09153813 -0.14747308 -0.20038635 -0.07110803 -0.0098932 -0.09247125 0.112206034 0.039026182 0.06304746 -0.003676025 0.076778665 0.039648395 0.036696456 0.08602689 0.36102054 0.054932814 0.15955278 0.1988309 0.05092963 -0.0051953914 0.32841277 0.106606886 0.08477072 0.019969158 -0.21055548 0.093468025 -0.027947515 0.16163525 -0.08675862 0.053202953 0.13633093 -0.114470065 -0.20816883 -0.04746455 0.3894732 0.20573328 0.1772997 0.10219316 0.2781719 -0.010124671 -0.11618591 0.030711915 -0.04202918 0.33230975 0.23446874 -0.16495055 -0.023542942 0.25697702 -0.22257158 -0.01886844 0.04584945 0.40422836 0.40190667 0.12028019 -0.17933477 -0.06977522 -0.33572286 0.039299894 0.087585226 -0.1028492 0.098835595 -0.25924802 0.12774374 -0.0681954 -0.097254395 0.13290112 -0.16097507 -0.10095741 0.22342128 -0.20678315 0.17645204 -0.17680812 -0.23550512 -0.16671374 -0.089939594 0.11333841 0.117272146 -0.18717097 -0.25593087 -0.15888162 0.0053756726 -0.054301497 -0.10344696 -0.036813382 0.07369078 -0.21231006 -0.06961832 -0.22739615 0.11594639 0.18034318 0.12101872 -0.017688634 -0.0413612 -0.012405152 0.20693457 0.06304418 0.1638853 0.19178207 0.100432836 0.31647915 0.25469553 -0.0028856716 -0.1389319 -0.009122116 0.06834256 0.1717306 -0.24042921 -0.09937963 -0.09082746 0.011822457 0.28115898 -0.10246122 0.03219024 0.08526226 0.23554632 -0.13895704 -0.17277277 0.03479448 -0.37232974 -0.019022886 0.107216895 -0.25591615 0.18254644 -0.36103532 0.078626014 -0.25665823 -0.4414348 0.07689893 -0.06234019 0.24809606 0.058942605 -0.17977594 0.035329424 -0.02160272 -0.10744938 -0.21483535 0.1683498 -0.07850013 0.032446034 0.2537276 -0.008248962 0.42410737 -0.061194304 -0.22048162 -0.20560426 0.26946262 -0.31618887 -0.08324078 0.12349062 -0.122869976 0.07059074 -0.15169798 -0.21390219 0.30129743 -0.00840201 0.29428834 0.02033267 0.016135119 0.21610123 0.1410897 -0.16162996 0.011598053 -0.14957945 -0.25280237 0.13912447 0.15986057 0.051896706 -0.14074875 0.1485172 -0.045226324 0.13257515 0.28919053 0.087586105 0.12431906 0.39926398 -0.24520217 0.027083885 -0.062417068 0.106219575 0.12648924 0.27221698 0.08214306 0.16113709 0.0029057602 0.11376658 0.33033258 -0.101166815 0.03414057 0.119787954 -0.3214293 -0.020472022 0.11169086 0.12790062 -0.024052808 -0.02158068 0.089506425 -0.005950231 -0.1235989 0.1601398 0.21255481 -0.16301055 -0.016790103 -0.13986787 0.16192497 0.23077549 0.10954917 0.089604095 -0.2845933 -0.03497802 -0.04603477 0.24203297 -0.044544984 -0.110627614 0.2983574 0.060040172 -0.3748437 -0.0028374428 0.046941888 0.23773436 0.004746032 0.2235122 0.064690284 -0.053283397 0.060783777 -0.0593136 -0.16344991 -0.09685566\r\n"
     ]
    }
   ],
   "source": [
    "! head -n 1 airlines.train.vw"
   ]
  },
  {
   "cell_type": "markdown",
   "metadata": {},
   "source": [
    "## fasttext"
   ]
  },
  {
   "cell_type": "code",
   "execution_count": 32,
   "metadata": {},
   "outputs": [],
   "source": [
    "with open('sentences_w2v.txt', 'w') as f:\n",
    "    for s in df.stems:\n",
    "        f.write(' '.join(s)+'\\n')"
   ]
  },
  {
   "cell_type": "code",
   "execution_count": 33,
   "metadata": {},
   "outputs": [
    {
     "name": "stdout",
     "output_type": "stream",
     "text": [
      "CPU times: user 5min 52s, sys: 78.8 ms, total: 5min 52s\n",
      "Wall time: 2min 57s\n"
     ]
    }
   ],
   "source": [
    "import fasttext\n",
    "\n",
    "%time ft_model = fasttext.train_unsupervised('sentences_w2v.txt', minn=3, maxn=4, dim=300)"
   ]
  },
  {
   "cell_type": "code",
   "execution_count": 34,
   "metadata": {},
   "outputs": [
    {
     "data": {
      "text/plain": [
       "[(0.5578595399856567, 'three'),\n",
       " (0.4924752116203308, 'four'),\n",
       " (0.45771321654319763, 'twenti'),\n",
       " (0.44715416431427, 'one'),\n",
       " (0.4464314579963684, 'six'),\n",
       " (0.4384196102619171, 'lwo'),\n",
       " (0.4272649884223938, 'seven'),\n",
       " (0.42494577169418335, 'avml'),\n",
       " (0.41626739501953125, 'sever'),\n",
       " (0.4153198003768921, 'btv')]"
      ]
     },
     "execution_count": 34,
     "metadata": {},
     "output_type": "execute_result"
    }
   ],
   "source": [
    "ft_model.get_nearest_neighbors('two')"
   ]
  },
  {
   "cell_type": "code",
   "execution_count": 36,
   "metadata": {},
   "outputs": [],
   "source": [
    "class MeanFTEmbeddingVectorizer(object):\n",
    "    def __init__(self, ft_model):\n",
    "        self.ft_model = ft_model\n",
    "        self.dim = 300\n",
    "\n",
    "    def fit(self, X, y):\n",
    "        return self\n",
    "\n",
    "    def transform(self, X):\n",
    "        return np.array([\n",
    "            np.mean([self.ft_model[w] for w in words ]\n",
    "                    or [np.zeros(self.dim)], axis=0)\n",
    "            for words in X\n",
    "        ])"
   ]
  },
  {
   "cell_type": "code",
   "execution_count": 37,
   "metadata": {},
   "outputs": [],
   "source": [
    "from sklearn.pipeline import Pipeline\n",
    "from sklearn.linear_model import Ridge\n",
    "regressor = Ridge(solver='sparse_cg')\n",
    "\n",
    "ft_pipeline = Pipeline([\n",
    "    (\"fasttext vectorizer\", MeanFTEmbeddingVectorizer(ft_model)),\n",
    "    (\"regressor\", regressor)])"
   ]
  },
  {
   "cell_type": "code",
   "execution_count": 38,
   "metadata": {},
   "outputs": [
    {
     "name": "stdout",
     "output_type": "stream",
     "text": [
      "CPU times: user 16.9 s, sys: 1.87 s, total: 18.8 s\n",
      "Wall time: 17.2 s\n"
     ]
    },
    {
     "data": {
      "text/plain": [
       "Pipeline(steps=[('fasttext vectorizer',\n",
       "                 <__main__.MeanFTEmbeddingVectorizer object at 0x7fe412e53700>),\n",
       "                ('regressor', Ridge(solver='sparse_cg'))])"
      ]
     },
     "execution_count": 38,
     "metadata": {},
     "output_type": "execute_result"
    }
   ],
   "source": [
    "%%time \n",
    "ft_pipeline.fit(df.stems[:len_train], df.rating[:len_train])"
   ]
  },
  {
   "cell_type": "code",
   "execution_count": 39,
   "metadata": {},
   "outputs": [
    {
     "name": "stdout",
     "output_type": "stream",
     "text": [
      "0.6270737894348059\n"
     ]
    }
   ],
   "source": [
    "y_pred = ft_pipeline.predict(df.stems[len_train:])\n",
    "score = r2_score(df.rating[len_train:], y_pred)\n",
    "print(score)"
   ]
  },
  {
   "cell_type": "code",
   "execution_count": 40,
   "metadata": {},
   "outputs": [],
   "source": [
    "train_vec_ = MeanFTEmbeddingVectorizer(ft_model).transform(df.stems[:len_train])\n",
    "test_vec_ = MeanFTEmbeddingVectorizer(ft_model).transform(df.stems[len_train:])"
   ]
  },
  {
   "cell_type": "code",
   "execution_count": 41,
   "metadata": {},
   "outputs": [],
   "source": [
    "train_vec_list_ = []\n",
    "for vec in train_vec_:\n",
    "    train_vec_list_.append(\" \".join(vec.astype(str))+'\\n')\n",
    "\n",
    "test_vec_list_ = []\n",
    "for vec in test_vec_:\n",
    "    test_vec_list_.append(\" \".join(vec.astype(str))+'\\n')"
   ]
  },
  {
   "cell_type": "code",
   "execution_count": 42,
   "metadata": {},
   "outputs": [],
   "source": [
    "write_vw(train_vec_list_, df.rating[:len_train], 'airlines.train.vw')\n",
    "write_vw(test_vec_list_, df.rating[len_train:], 'airlines.test.vw')"
   ]
  },
  {
   "cell_type": "code",
   "execution_count": 43,
   "metadata": {
    "scrolled": true
   },
   "outputs": [
    {
     "name": "stdout",
     "output_type": "stream",
     "text": [
      "6.0 |d -0.056210034 0.12246174 0.008659998 -0.091258794 0.05676221 0.025556434 -0.01025939 0.05970572 -0.0029892186 0.007282945 0.063229434 -0.010545965 -0.033377443 0.011570189 0.040170886 0.00063148804 0.041947342 -0.026340084 0.025963942 -0.002189623 -0.012326189 -0.024820626 -0.0237386 -0.066191286 0.0034169997 -0.025406586 0.016302496 -0.0616548 0.07028285 0.0017741205 0.0290974 -0.029379597 0.04772751 0.029853476 -0.008407073 -0.061618462 -0.04064907 0.082222 0.045179326 0.08398146 0.03352416 0.009024294 -0.010396097 0.033919666 -0.10519761 -0.06565115 0.053353775 0.001979665 0.02526908 0.02047187 0.024780752 -0.0075714756 -0.20205498 -0.17929636 0.15614599 0.056763515 0.096764185 -0.081832394 0.005990319 -0.016435638 0.09416235 -0.01722016 -0.11328355 0.029640773 -0.073450774 -0.007783102 -0.13208783 0.032507986 -0.07274781 -0.0033256337 -0.09201386 0.07687179 0.13965818 0.14147465 0.059970718 0.05565129 -0.04969842 0.019261595 0.027872834 0.009260165 -0.031177362 0.051768526 -0.009678993 0.1724443 0.05864632 0.053191416 0.032507632 -0.05354045 -0.0029411735 -0.0545647 0.042980496 0.011537686 0.014039917 0.04223631 -0.08473328 -0.13429521 0.09403521 0.11858482 0.08010545 0.036234234 -0.07601978 -0.19199538 0.022931024 0.019996515 0.0071336273 -0.04180886 -0.0010421699 0.03916554 0.057302013 0.0008626531 0.050194442 0.020112528 -0.09706655 -0.055403035 0.04649115 -0.0359077 -0.073749416 -0.13406442 0.051830575 -0.018729933 0.03966307 0.009802547 0.023297306 0.07328504 -0.1098326 0.22043592 0.20347017 0.06293554 0.05002807 0.08839968 0.16845801 -0.051369186 0.06456698 -0.036708318 -0.022476142 0.0192209 -0.029128816 -0.17882326 -0.04264249 -0.097100005 -0.15966028 -0.002418223 -0.13312931 -0.03978613 0.048221458 -0.0035830636 -0.02723519 -0.18259074 -0.15335189 -0.0651101 0.092449084 -0.1814031 0.16739857 0.34028637 -0.15406469 0.2557349 -0.11695777 0.00413307 -0.006706738 0.05739492 0.008688276 -0.01614293 0.03799464 -0.102297366 -0.019851733 0.02204326 0.09924492 0.0050974647 -0.028537499 0.0045439247 -0.082103685 0.012634221 -0.13633592 -0.062851004 -0.004969804 0.10401697 0.030226469 -0.01026294 -0.045682486 -0.052271724 0.03416974 0.019237902 -0.047778606 0.13393681 0.04943615 0.18530929 0.08080553 0.08434275 0.036650427 0.05445796 -0.02656018 -0.05446534 -0.14306799 0.012845758 -0.022644881 -0.08417633 -0.041176096 0.1141932 -0.07015241 -0.078055255 -0.037634 -0.020955123 -0.02531456 -0.3012548 0.13396087 0.09622226 -0.07991341 -0.028313998 -0.046248537 0.011557955 -0.0021997935 0.037213612 -0.08879303 -0.1695121 -0.06520289 0.065615624 -0.0453923 0.085985675 -0.013104071 -0.04424731 -0.095516294 -0.096762046 0.038936067 -0.010357425 0.007130248 -0.16689652 0.048946552 0.062977165 0.017896324 0.093367 0.03540013 -0.023572437 -0.15804553 0.01625219 -0.0060671666 -0.0896388 -0.0081762895 -0.030806346 -0.02035388 0.03403786 -0.038372777 -0.11403039 -0.0020536624 0.12137103 -0.0012600662 0.0193864 -0.012504288 -0.0807336 -0.015847582 -0.02013311 -0.018650176 -0.015085931 -0.057513 0.07950762 -0.018074604 0.017396549 0.12024036 0.022341624 0.102562465 0.050713625 -0.09318129 -0.13580167 0.09646565 0.110707305 0.16567469 -0.0364904 0.039854534 -0.21462095 0.04244276 -0.07604681 0.00997384 -0.106873 0.14003102 0.14311875 0.07546378 0.06661461 0.12652318 -0.11908952 0.104586124 -0.0856968 0.12806797 -0.021259071 0.03296427 -0.050528686 -0.08337195 0.17963049 0.115777984 0.1731689 0.05642145 0.036133353 0.0841924 -0.08334741 0.029822644 0.044596065 -0.07019311 0.01282183 -0.043789107 -0.036537513 0.08844692 0.0100707\r\n"
     ]
    }
   ],
   "source": [
    "! tail -n 1 airlines.test.vw"
   ]
  },
  {
   "cell_type": "markdown",
   "metadata": {},
   "source": [
    "## Only stemming"
   ]
  },
  {
   "cell_type": "code",
   "execution_count": 44,
   "metadata": {},
   "outputs": [],
   "source": [
    "def convert_to_vw(raw_text, target):\n",
    "    return \"{} |d {}\".format(float(target), raw_text)\n",
    "        \n",
    "def write_vw(X_data, Y_data, filename):\n",
    "    with open(filename, \"w\") as f:\n",
    "        for x, y in zip(X_data, Y_data):\n",
    "            vw_object = convert_to_vw(x, y)\n",
    "            if not vw_object:\n",
    "                continue\n",
    "            f.write(vw_object)"
   ]
  },
  {
   "cell_type": "code",
   "execution_count": 45,
   "metadata": {},
   "outputs": [],
   "source": [
    "x_train = df.stems[:len_train].apply(lambda t: \" \".join(t)+'\\n')\n",
    "x_test = df.stems[len_train:].apply(lambda t: \" \".join(t)+'\\n')"
   ]
  },
  {
   "cell_type": "code",
   "execution_count": 46,
   "metadata": {},
   "outputs": [],
   "source": [
    "write_vw(x_train, df.rating[:len_train], 'airlines.train.vw')\n",
    "write_vw(x_test, df.rating[len_train:], 'airlines.test.vw')"
   ]
  },
  {
   "cell_type": "code",
   "execution_count": 47,
   "metadata": {},
   "outputs": [
    {
     "name": "stdout",
     "output_type": "stream",
     "text": [
      "9.0 |d march from ottawa canada cuba they announc that the flight was delay hour explan whi they start board and took off onli hour late there were were seat togeth and remain were put aisl seat side side the way back from cuba march were slow through immigr fault sunw final arriv our plane the door immedi close and the plane took off minut later minut earlier than expect the were pretti much split each seat old daughter herself behind overal the staff were great veri friend and approach the food serv was pretti good consid most airlin don offer meal servic for free was compar meal had purchas other airlin\r\n",
      "7.0 |d sin fra bhx economi first leg from singapor the was great larg becaus was fortun enough get exit row seat with unlimit legroom judg fellow passeng one wouldn happi with normal seat they had rather pathet legroom nice modern avod system but the ptvs were rather small compar other airlin servic was realli friend and warm but few frill amen kit whatsoev footrest meal were alright but again rather simpl compar asian carrier second leg birmingham was abov averag intra europ standard with decent snack beverag servic and friend servic again all flight time\r\n"
     ]
    }
   ],
   "source": [
    "! head -n 2 airlines.train.vw"
   ]
  },
  {
   "cell_type": "markdown",
   "metadata": {},
   "source": [
    "## обучение"
   ]
  },
  {
   "cell_type": "code",
   "execution_count": 48,
   "metadata": {},
   "outputs": [
    {
     "name": "stdout",
     "output_type": "stream",
     "text": [
      "final_regressor = result.model.vw\n",
      "Num weight bits = 18\n",
      "learning rate = 5\n",
      "initial_t = 0\n",
      "power_t = 0.5\n",
      "decay_learning_rate = 1\n",
      "creating cache_file = airlines.train.vw.cache\n",
      "Reading datafile = airlines.train.vw\n",
      "num sources = 1\n",
      "average  since         example        example  current  current  current\n",
      "loss     last          counter         weight    label  predict features\n",
      "81.000000 81.000000            1            1.0   9.0000   0.0000      111\n",
      "45.582334 10.164668            2            2.0   7.0000   3.8118       95\n",
      "39.327467 33.072601            4            4.0   1.0000   9.0000      183\n",
      "42.267739 45.208011            8            8.0   1.0000  10.0000      212\n",
      "27.301089 12.334438           16           16.0   8.0000   3.9412       52\n",
      "23.931698 20.562308           32           32.0   1.0000   8.4146      124\n",
      "16.819548 9.707398           64           64.0  10.0000  10.0000      164\n",
      "13.836894 10.854240          128          128.0   8.0000   6.8688      106\n",
      "12.438965 11.041037          256          256.0  10.0000   8.9314      108\n",
      "10.515562 8.592159          512          512.0  10.0000  10.0000       45\n",
      "8.677898 6.840234         1024         1024.0   6.0000   7.4468      107\n",
      "7.975994 7.274090         2048         2048.0   9.0000   8.6690       38\n",
      "7.060995 6.145996         4096         4096.0   8.0000  10.0000       97\n",
      "6.111174 5.161352         8192         8192.0  10.0000  10.0000      139\n",
      "5.424263 4.737352        16384        16384.0   8.0000   9.9637      107\n",
      "4.967106 4.967106        32768        32768.0   7.0000   7.2528       66 h\n",
      "4.725363 4.483687        65536        65536.0   2.0000   2.7734      100 h\n",
      "\n",
      "finished run\n",
      "number of examples per pass = 20990\n",
      "passes used = 5\n",
      "weighted example sum = 104950.000000\n",
      "weighted label sum = 647010.000000\n",
      "average loss = 4.408811 h\n",
      "best constant = 6.164936\n",
      "total feature number = 9620745\n"
     ]
    }
   ],
   "source": [
    "! vw --final_regressor result.model.vw airlines.train.vw --learning_rate 5 --bit_precision 18 --passes 20 -c -k"
   ]
  },
  {
   "cell_type": "code",
   "execution_count": 49,
   "metadata": {},
   "outputs": [
    {
     "name": "stdout",
     "output_type": "stream",
     "text": [
      "only testing\n",
      "predictions = predictions.txt\n",
      "Num weight bits = 18\n",
      "learning rate = 0.5\n",
      "initial_t = 0\n",
      "power_t = 0.5\n",
      "using no cache\n",
      "Reading datafile = airlines.test.vw\n",
      "num sources = 1\n",
      "average  since         example        example  current  current  current\n",
      "loss     last          counter         weight    label  predict features\n",
      "2.024555 2.024555            1            1.0   8.0000   9.4229       43\n",
      "1.079673 0.134791            2            2.0   6.0000   6.3671       96\n",
      "9.942823 18.805973            4            4.0   1.0000   4.5513       69\n",
      "5.763292 1.583761            8            8.0   8.0000   6.1873      127\n",
      "3.924885 2.086479           16           16.0   8.0000   6.5185       39\n",
      "3.637553 3.350221           32           32.0   8.0000   5.4999       45\n",
      "3.979342 4.321132           64           64.0   8.0000   7.7984       26\n",
      "4.706120 5.432898          128          128.0   8.0000   5.3631      145\n",
      "4.857834 5.009548          256          256.0   2.0000   3.5602       77\n",
      "4.750883 4.643932          512          512.0   2.0000   2.5882      194\n",
      "4.834831 4.918780         1024         1024.0   7.0000   8.9964       81\n",
      "4.609895 4.384959         2048         2048.0   8.0000   6.1949       22\n",
      "4.592554 4.575213         4096         4096.0   9.0000   3.6788       90\n",
      "4.537702 4.482850         8192         8192.0   1.0000   5.9811       46\n",
      "\n",
      "finished run\n",
      "number of examples = 11487\n",
      "weighted example sum = 11487.000000\n",
      "weighted label sum = 70128.000000\n",
      "average loss = 4.459452\n",
      "best constant = 6.104988\n",
      "total feature number = 1056125\n"
     ]
    }
   ],
   "source": [
    "! vw --initial_regressor result.model.vw --testonly --predictions predictions.txt airlines.test.vw"
   ]
  },
  {
   "cell_type": "code",
   "execution_count": 50,
   "metadata": {},
   "outputs": [
    {
     "data": {
      "text/plain": [
       "0.5623280639048646"
      ]
     },
     "execution_count": 50,
     "metadata": {},
     "output_type": "execute_result"
    }
   ],
   "source": [
    "calc_r2('predictions.txt', 'airlines.test.vw')"
   ]
  },
  {
   "cell_type": "markdown",
   "metadata": {},
   "source": [
    "Базовая модель выдает **0.55**. Решения, которые выбили не менее **0.56** будут оценены в 100 баллов. Все решения с меньшим качеством - соразмерно тому, какое качество получено.\n",
    "\n",
    "В качестве ответа необходимо прислать Zip архив с названием `result.zip`, в котором будут два файла - `airlines.train.vw` и `airlines.test.vw` (названия должны быть именно такими!) с вашими закодированными признаками. Важно никаким образом не менять порядок и набор объектов в каждом из файлов. Решения, в которых будут обнаружены изменения порядка или набора будут оцениваться в 0 баллов.\n",
    "\n",
    "На этих двух файлах будет вначале запущен процесс обучения vw с параметрами, как в базовой модели. То есть `vw --final_regressor result.model.vw airlines.train.vw --learning_rate 5 --bit_precision 18 --passes 20 -c -k`. После этого будет подсчитана метрика r2 на файле `airlines.test.vw` запуском соответствующей команды (последовательность в точности совпадает с базовым решением выше).\n",
    "\n",
    "Так, если бы вы хотели сдать базовое решение в качестве своего, вам необходимо было бы сделать следующее."
   ]
  },
  {
   "cell_type": "code",
   "execution_count": 53,
   "metadata": {},
   "outputs": [
    {
     "name": "stdout",
     "output_type": "stream",
     "text": [
      "updating: airlines.train.vw (deflated 66%)\n",
      "updating: airlines.test.vw (deflated 66%)\n"
     ]
    }
   ],
   "source": [
    "! zip result.zip airlines.train.vw airlines.test.vw"
   ]
  },
  {
   "cell_type": "code",
   "execution_count": 54,
   "metadata": {},
   "outputs": [
    {
     "name": "stdout",
     "output_type": "stream",
     "text": [
      "PK\u0003\u0004\u0014\u0000\u0000\u0000\b\u0000�5\u001bSmq�оB>\u0000\u001a�\u0000\u0011\u0000\u001c",
      "\u0000airlines.train.vwUT\t\u0000\u0003F�(aF�(aux\u000b",
      "\u0000\u0001\u0004�\u0003\u0000\u0000\u0004d\u0000\u0000\u0000��k����$\b��V\u0011+\u0018�����Z\u000eH�$"
     ]
    }
   ],
   "source": [
    "! head -c 100 result.zip"
   ]
  }
 ],
 "metadata": {
  "coursera": {
   "schema_names": [
    "2-embeddings-task-00457c"
   ]
  },
  "kernelspec": {
   "display_name": "Python 3",
   "language": "python",
   "name": "python3"
  },
  "language_info": {
   "codemirror_mode": {
    "name": "ipython",
    "version": 3
   },
   "file_extension": ".py",
   "mimetype": "text/x-python",
   "name": "python",
   "nbconvert_exporter": "python",
   "pygments_lexer": "ipython3",
   "version": "3.8.5"
  }
 },
 "nbformat": 4,
 "nbformat_minor": 4
}

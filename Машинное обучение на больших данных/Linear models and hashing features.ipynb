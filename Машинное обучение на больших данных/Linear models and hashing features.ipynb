{
 "cells": [
  {
   "cell_type": "markdown",
   "metadata": {},
   "source": [
    "# Задача\n",
    "\n",
    "В файлах `airlines.train.tsv` и `airlines.test.tsv` находятся данные о пользовательских оценках различных авиакомпаний. Полноценный набор данных доступен <a href=\"https://github.com/quankiquanki/skytrax-reviews-dataset\"> по ссылке </a>.\n",
    "\n",
    "В данных есть информация про название авиакомпании, страну того, кто оставляет отзыв, класс, которым он летел, текстовое сообщение и итоговая оценка от 0 до 10.\n",
    "\n",
    "Задача - по первым 4 параметрам (авиакомпания, страна, класс, текстовое сообщение) предсказать оценку, которую поставил пользователь. Для этого необходимо дополнительно превратить данные в формат vw. Про формат, в котором нужно предоставить решения будет написано ниже.\n",
    "\n",
    "В качестве ответа необходимо сдать обученные веса модели vowpal wabbit. Для оценки решения на тестовых данных будет запущен vw с этими весами и будет подсчитана метрика R2. Решения, которые получили качество больше `0.35` будут оцениваться в 100%. Решения с меньшим качеством будут оценены ниже в соответствии с полученных качеством. Саму модель (веса) необходимо сохранить в файл `result.vw`.\n",
    "\n",
    "Формат vw:\n",
    "* Целевая переменная - пользовательская оценка\n",
    "* 4 неймспейса - name, country, cabin, review\n",
    "* Значения в name, country, cabin приведены в монолитный формат - все символы, не являющиеся буквой или цифрой (то есть подходящие под регулярное выражение `\\W`) заменены на `_`, а также вся строка приведена к нижнему регистру.\n",
    "* В review оставлены только корректные элементы (то есть подходящие под регулярное выражение `[a-zA-Z0-9_]+`).\n",
    "\n",
    "Для демонстрации того, как выглядит этот формат, в файле `airlines.test.sample.vw` лежат 10 первых элементов из тестовой выборки, которые закодированны соответствующим образом.\n"
   ]
  },
  {
   "cell_type": "code",
   "execution_count": 1,
   "metadata": {},
   "outputs": [],
   "source": [
    "import pandas as pd\n",
    "import numpy as np"
   ]
  },
  {
   "cell_type": "code",
   "execution_count": 2,
   "metadata": {},
   "outputs": [],
   "source": [
    "columns=['name', 'country', 'cabin', 'review', 'rating']\n",
    "df_train = pd.read_csv('airlines.train.tsv', sep='\\t')\n",
    "df_test = pd.read_csv('airlines.test.tsv', sep='\\t')\n",
    "df_train.columns = columns\n",
    "df_test.columns = columns"
   ]
  },
  {
   "cell_type": "code",
   "execution_count": 3,
   "metadata": {},
   "outputs": [
    {
     "data": {
      "text/html": [
       "<div>\n",
       "<style scoped>\n",
       "    .dataframe tbody tr th:only-of-type {\n",
       "        vertical-align: middle;\n",
       "    }\n",
       "\n",
       "    .dataframe tbody tr th {\n",
       "        vertical-align: top;\n",
       "    }\n",
       "\n",
       "    .dataframe thead th {\n",
       "        text-align: right;\n",
       "    }\n",
       "</style>\n",
       "<table border=\"1\" class=\"dataframe\">\n",
       "  <thead>\n",
       "    <tr style=\"text-align: right;\">\n",
       "      <th></th>\n",
       "      <th>name</th>\n",
       "      <th>country</th>\n",
       "      <th>cabin</th>\n",
       "      <th>review</th>\n",
       "      <th>rating</th>\n",
       "    </tr>\n",
       "  </thead>\n",
       "  <tbody>\n",
       "    <tr>\n",
       "      <th>0</th>\n",
       "      <td>sunwing-airlines</td>\n",
       "      <td>Canada</td>\n",
       "      <td>Economy</td>\n",
       "      <td>March 5th 2014 from Ottawa Canada to Cuba WG 6...</td>\n",
       "      <td>9.0</td>\n",
       "    </tr>\n",
       "    <tr>\n",
       "      <th>1</th>\n",
       "      <td>lufthansa</td>\n",
       "      <td>United Kingdom</td>\n",
       "      <td>Economy</td>\n",
       "      <td>SIN-FRA-BHX in Economy. First leg from Singapo...</td>\n",
       "      <td>7.0</td>\n",
       "    </tr>\n",
       "    <tr>\n",
       "      <th>2</th>\n",
       "      <td>spirit-airlines</td>\n",
       "      <td>United States</td>\n",
       "      <td>Economy</td>\n",
       "      <td>Spirit does what they state on their web site,...</td>\n",
       "      <td>7.0</td>\n",
       "    </tr>\n",
       "    <tr>\n",
       "      <th>3</th>\n",
       "      <td>sunwing-airlines</td>\n",
       "      <td>Canada</td>\n",
       "      <td>Premium Economy</td>\n",
       "      <td>My fiancé and I were booked to fly to Cayo San...</td>\n",
       "      <td>1.0</td>\n",
       "    </tr>\n",
       "    <tr>\n",
       "      <th>4</th>\n",
       "      <td>british-airways</td>\n",
       "      <td>United States</td>\n",
       "      <td>First Class</td>\n",
       "      <td>DXB-LHR B777-200ER BA0108 August 18 First Clas...</td>\n",
       "      <td>9.0</td>\n",
       "    </tr>\n",
       "  </tbody>\n",
       "</table>\n",
       "</div>"
      ],
      "text/plain": [
       "               name         country            cabin  \\\n",
       "0  sunwing-airlines          Canada          Economy   \n",
       "1         lufthansa  United Kingdom          Economy   \n",
       "2   spirit-airlines   United States          Economy   \n",
       "3  sunwing-airlines          Canada  Premium Economy   \n",
       "4   british-airways   United States      First Class   \n",
       "\n",
       "                                              review  rating  \n",
       "0  March 5th 2014 from Ottawa Canada to Cuba WG 6...     9.0  \n",
       "1  SIN-FRA-BHX in Economy. First leg from Singapo...     7.0  \n",
       "2  Spirit does what they state on their web site,...     7.0  \n",
       "3  My fiancé and I were booked to fly to Cayo San...     1.0  \n",
       "4  DXB-LHR B777-200ER BA0108 August 18 First Clas...     9.0  "
      ]
     },
     "execution_count": 3,
     "metadata": {},
     "output_type": "execute_result"
    }
   ],
   "source": [
    "df_train.head()"
   ]
  },
  {
   "cell_type": "code",
   "execution_count": 4,
   "metadata": {},
   "outputs": [
    {
     "data": {
      "text/html": [
       "<div>\n",
       "<style scoped>\n",
       "    .dataframe tbody tr th:only-of-type {\n",
       "        vertical-align: middle;\n",
       "    }\n",
       "\n",
       "    .dataframe tbody tr th {\n",
       "        vertical-align: top;\n",
       "    }\n",
       "\n",
       "    .dataframe thead th {\n",
       "        text-align: right;\n",
       "    }\n",
       "</style>\n",
       "<table border=\"1\" class=\"dataframe\">\n",
       "  <thead>\n",
       "    <tr style=\"text-align: right;\">\n",
       "      <th></th>\n",
       "      <th>name</th>\n",
       "      <th>country</th>\n",
       "      <th>cabin</th>\n",
       "      <th>review</th>\n",
       "      <th>rating</th>\n",
       "    </tr>\n",
       "  </thead>\n",
       "  <tbody>\n",
       "    <tr>\n",
       "      <th>0</th>\n",
       "      <td>south-african-airways</td>\n",
       "      <td>United Kingdom</td>\n",
       "      <td>Economy</td>\n",
       "      <td>JNB-LHR on the new airbus. Seats were roomy an...</td>\n",
       "      <td>8.0</td>\n",
       "    </tr>\n",
       "    <tr>\n",
       "      <th>1</th>\n",
       "      <td>jet-airways</td>\n",
       "      <td>Qatar</td>\n",
       "      <td>Business Class</td>\n",
       "      <td>Flew Business Class DOH-BOM-DOH. Outbound: Use...</td>\n",
       "      <td>6.0</td>\n",
       "    </tr>\n",
       "    <tr>\n",
       "      <th>2</th>\n",
       "      <td>american-airlines</td>\n",
       "      <td>United States</td>\n",
       "      <td>First Class</td>\n",
       "      <td>This is a rough review because we flew first b...</td>\n",
       "      <td>5.0</td>\n",
       "    </tr>\n",
       "    <tr>\n",
       "      <th>3</th>\n",
       "      <td>flybe</td>\n",
       "      <td>United Kingdom</td>\n",
       "      <td>Economy</td>\n",
       "      <td>Am thoroughly fed up with Flybe customer servi...</td>\n",
       "      <td>1.0</td>\n",
       "    </tr>\n",
       "    <tr>\n",
       "      <th>4</th>\n",
       "      <td>american-airlines</td>\n",
       "      <td>United Arab Emirates</td>\n",
       "      <td>Economy</td>\n",
       "      <td>I have flown MIA-JFK on an old B767-300. Fligh...</td>\n",
       "      <td>5.0</td>\n",
       "    </tr>\n",
       "  </tbody>\n",
       "</table>\n",
       "</div>"
      ],
      "text/plain": [
       "                    name               country           cabin  \\\n",
       "0  south-african-airways        United Kingdom         Economy   \n",
       "1            jet-airways                 Qatar  Business Class   \n",
       "2      american-airlines         United States     First Class   \n",
       "3                  flybe        United Kingdom         Economy   \n",
       "4      american-airlines  United Arab Emirates         Economy   \n",
       "\n",
       "                                              review  rating  \n",
       "0  JNB-LHR on the new airbus. Seats were roomy an...     8.0  \n",
       "1  Flew Business Class DOH-BOM-DOH. Outbound: Use...     6.0  \n",
       "2  This is a rough review because we flew first b...     5.0  \n",
       "3  Am thoroughly fed up with Flybe customer servi...     1.0  \n",
       "4  I have flown MIA-JFK on an old B767-300. Fligh...     5.0  "
      ]
     },
     "execution_count": 4,
     "metadata": {},
     "output_type": "execute_result"
    }
   ],
   "source": [
    "df_test.head()"
   ]
  },
  {
   "cell_type": "code",
   "execution_count": 5,
   "metadata": {},
   "outputs": [
    {
     "data": {
      "text/plain": [
       "'united_kingdom'"
      ]
     },
     "execution_count": 5,
     "metadata": {},
     "output_type": "execute_result"
    }
   ],
   "source": [
    "import re\n",
    "def formating(text):\n",
    "    return re.sub('\\W', '_', text).lower()\n",
    "formating('United Kingdom')"
   ]
  },
  {
   "cell_type": "code",
   "execution_count": 6,
   "metadata": {},
   "outputs": [],
   "source": [
    "def cleaning(text):\n",
    "    word_pattern = re.compile(r\"[a-zA-Z0-9_]+\")\n",
    "    words = []\n",
    "    for match in re.finditer(word_pattern, text.lower()):\n",
    "        words.append(match.group(0))\n",
    "    \n",
    "    if not words: \n",
    "        return None\n",
    "    return \" \".join(words)"
   ]
  },
  {
   "cell_type": "code",
   "execution_count": 7,
   "metadata": {},
   "outputs": [],
   "source": [
    "def df_format(df):\n",
    "    for column in df.columns[:3]:\n",
    "        df[column] = df[column].apply(formating)\n",
    "    \n",
    "    df[df.columns[3]] = df[df.columns[3]].apply(cleaning)\n",
    "    return df"
   ]
  },
  {
   "cell_type": "code",
   "execution_count": 8,
   "metadata": {},
   "outputs": [],
   "source": [
    "def write_vw(df, filename):\n",
    "    with open(filename, \"w\") as f:\n",
    "        for name, country, cabin, review, rating in df.values:\n",
    "            vw_object = \"{} |name {} |country {} |cabin {} |review {}\".format(rating, name, country, cabin, review)\n",
    "            if not vw_object:\n",
    "                continue\n",
    "            f.write(vw_object + '\\n')"
   ]
  },
  {
   "cell_type": "code",
   "execution_count": 9,
   "metadata": {},
   "outputs": [],
   "source": [
    "write_vw(df_format(df_train), \"airlines_train.vw\")\n",
    "write_vw(df_format(df_test), \"airlines_test.vw\")"
   ]
  },
  {
   "cell_type": "code",
   "execution_count": 10,
   "metadata": {},
   "outputs": [
    {
     "name": "stdout",
     "output_type": "stream",
     "text": [
      "8.0 |name south_african_airways |country united_kingdom |cabin economy |review jnb lhr on the new airbus seats were roomy and comfy staff polite and friendly and inflight entertainment system outstanding we had terrible turbulence throughout the flight but the captain was informative and reassuring and everyone remained calm food not great but otherwise excellent\r\n",
      "6.0 |name jet_airways |country qatar |cabin business_class |review flew business class doh bom doh outbound used the oryx lounge at doha airport which was nice cabin was nearly empty seats are similar to those on jet s domestic business class found it difficult to sleep with the recline provided at 6 3 legrests did not help as my legs overshot it the light sandwich was passable service was attentive and cheerful inbound evening flight so looked forward to meal and wine same cheap french table wine indian non veg meal was not great cabin crew were attentive and friendly ife was limited one negative was that my bag was one of the last off both flights with a priority tag\r\n"
     ]
    }
   ],
   "source": [
    "! head -n 2 airlines_test.vw"
   ]
  },
  {
   "cell_type": "code",
   "execution_count": 11,
   "metadata": {},
   "outputs": [
    {
     "name": "stdout",
     "output_type": "stream",
     "text": [
      "8.0 |name south_african_airways |country united_kingdom |cabin economy |review jnb lhr on the new airbus seats were roomy and comfy staff polite and friendly and inflight entertainment system outstanding we had terrible turbulence throughout the flight but the captain was informative and reassuring and everyone remained calm food not great but otherwise excellent\r\n",
      "6.0 |name jet_airways |country qatar |cabin business_class |review flew business class doh bom doh outbound used the oryx lounge at doha airport which was nice cabin was nearly empty seats are similar to those on jet s domestic business class found it difficult to sleep with the recline provided at 6 3 legrests did not help as my legs overshot it the light sandwich was passable service was attentive and cheerful inbound evening flight so looked forward to meal and wine same cheap french table wine indian non veg meal was not great cabin crew were attentive and friendly ife was limited one negative was that my bag was one of the last off both flights with a priority tag\r\n"
     ]
    }
   ],
   "source": [
    "! head -n 2 airlines.test.sample.vw"
   ]
  },
  {
   "cell_type": "markdown",
   "metadata": {},
   "source": [
    "Ваши полученные коэффициенты будут проверятся примерно следующим образом"
   ]
  },
  {
   "cell_type": "code",
   "execution_count": 12,
   "metadata": {
    "scrolled": true
   },
   "outputs": [
    {
     "name": "stdout",
     "output_type": "stream",
     "text": [
      "final_regressor = result.vw\n",
      "Num weight bits = 22\n",
      "learning rate = 0.1\n",
      "initial_t = 0\n",
      "power_t = 0.5\n",
      "decay_learning_rate = 1\n",
      "creating cache_file = vw.cache\n",
      "Reading datafile = airlines_train.vw\n",
      "num sources = 1\n",
      "Enabled reductions: gd, scorer\n",
      "average  since         example        example  current  current  current\n",
      "loss     last          counter         weight    label  predict features\n",
      "81.000000 81.000000            1            1.0   9.0000   0.0000      167\n",
      "62.006304 43.012608            2            2.0   7.0000   0.4416      120\n",
      "41.398979 20.791654            4            4.0   1.0000   2.4589      253\n",
      "40.406127 39.413274            8            8.0   1.0000   3.7094      301\n",
      "30.456728 20.507330           16           16.0   8.0000   0.9863       67\n",
      "31.211055 31.965382           32           32.0   1.0000   3.0708      160\n",
      "31.972794 32.734532           64           64.0  10.0000   7.6112      217\n",
      "25.612868 19.252943          128          128.0   8.0000   5.6953      130\n",
      "23.906521 22.200175          256          256.0  10.0000   5.4893      144\n",
      "21.852128 19.797734          512          512.0  10.0000   3.4329       55\n",
      "18.635745 15.419362         1024         1024.0   6.0000   6.4232      152\n",
      "16.355248 14.074750         2048         2048.0   9.0000   4.1071       51\n",
      "14.395583 12.435919         4096         4096.0   8.0000   6.6133      135\n",
      "12.259245 10.122907         8192         8192.0  10.0000  10.0000      190\n",
      "10.291560 8.323874        16384        16384.0   8.0000  10.0000      138\n",
      "8.484109 8.484109        32768        32768.0   7.0000   4.0103       89 h\n",
      "7.325498 6.167204        65536        65536.0   2.0000   4.0980      125 h\n",
      "6.188639 5.051780       131072       131072.0   2.0000   2.7204      161 h\n",
      "5.283203 4.377767       262144       262144.0  10.0000  10.0000      309 h\n",
      "4.623476 3.963749       524288       524288.0   9.0000   7.8657       39 h\n",
      "4.158330 3.693192      1048576      1048576.0   2.0000   3.4127      115 h\n",
      "3.864978 3.571626      2097152      2097152.0   8.0000  10.0000      122 h\n",
      "\n",
      "finished run\n",
      "number of examples per pass = 20990\n",
      "passes used = 129\n",
      "weighted example sum = 2707710.000000\n",
      "weighted label sum = 16692858.000000\n",
      "average loss = 3.542921 h\n",
      "best constant = 6.164936\n",
      "total feature number = 327172767\n",
      "CPU times: user 138 ms, sys: 59.1 ms, total: 197 ms\n",
      "Wall time: 17.8 s\n"
     ]
    }
   ],
   "source": [
    "%%time\n",
    "! (rm vw.cache || exit 0)\n",
    "! vw --final_regressor result.vw airlines_train.vw --bit_precision 22 --learning_rate 0.1 --passes 1000 --cache_file vw.cache"
   ]
  },
  {
   "cell_type": "code",
   "execution_count": 15,
   "metadata": {
    "scrolled": true
   },
   "outputs": [
    {
     "name": "stdout",
     "output_type": "stream",
     "text": [
      "only testing\n",
      "predictions = predictions.txt\n",
      "Num weight bits = 22\n",
      "learning rate = 0.5\n",
      "initial_t = 0\n",
      "power_t = 0.5\n",
      "using no cache\n",
      "Reading datafile = airlines_test.vw\n",
      "num sources = 1\n",
      "Enabled reductions: gd, scorer\n",
      "average  since         example        example  current  current  current\n",
      "loss     last          counter         weight    label  predict features\n",
      "2.932962 2.932962            1            1.0   8.0000   9.7126       48\n",
      "2.327584 1.722206            2            2.0   6.0000   7.3123      116\n",
      "9.546790 16.765996            4            4.0   1.0000   4.1912       92\n",
      "5.849053 2.151316            8            8.0   8.0000   6.4084      152\n",
      "4.395241 2.941429           16           16.0   8.0000   5.8056       53\n",
      "3.587803 2.780364           32           32.0   8.0000   7.1935       56\n",
      "3.389135 3.190468           64           64.0   8.0000   6.8690       37\n",
      "3.145809 2.902482          128          128.0   8.0000   9.7600      200\n",
      "3.566722 3.987635          256          256.0   2.0000   4.1443      107\n",
      "3.622891 3.679060          512          512.0   2.0000   2.6497      259\n",
      "3.492946 3.363002         1024         1024.0   7.0000   8.5290      115\n",
      "3.519352 3.545758         2048         2048.0   8.0000   6.1598       34\n",
      "3.562063 3.604774         4096         4096.0   9.0000   5.6612      129\n",
      "3.559629 3.557195         8192         8192.0   1.0000   6.8675       62\n",
      "\n",
      "finished run\n",
      "number of examples = 11487\n",
      "weighted example sum = 11487.000000\n",
      "weighted label sum = 70128.000000\n",
      "average loss = 3.524856\n",
      "best constant = 6.104988\n",
      "total feature number = 1392670\n"
     ]
    },
    {
     "data": {
      "text/plain": [
       "0.6540537678643386"
      ]
     },
     "execution_count": 15,
     "metadata": {},
     "output_type": "execute_result"
    }
   ],
   "source": [
    "! vw --testonly --initial_regressor result.vw --predictions predictions.txt airlines_test.vw\n",
    "calc_r2('predictions.txt', 'airlines_test.vw')"
   ]
  },
  {
   "cell_type": "code",
   "execution_count": 14,
   "metadata": {},
   "outputs": [],
   "source": [
    "from sklearn.metrics import r2_score\n",
    "\n",
    "def read_target_from_vw(vw_object):\n",
    "    return float(vw_object.split(' ')[0])\n",
    "\n",
    "\n",
    "def calc_r2(predictions_path, answers_path):\n",
    "    with open(predictions_path, 'r') as f:\n",
    "        y_pred = np.array([float(value) for value in f.readlines()])\n",
    "        \n",
    "    with open(answers_path, 'r') as f:\n",
    "        y_expected = np.array([read_target_from_vw(value) for value in f.readlines()])\n",
    "        \n",
    "    return r2_score(y_expected, y_pred)"
   ]
  },
  {
   "cell_type": "code",
   "execution_count": 16,
   "metadata": {},
   "outputs": [
    {
     "data": {
      "text/plain": [
       "0.6540537678643386"
      ]
     },
     "execution_count": 16,
     "metadata": {},
     "output_type": "execute_result"
    }
   ],
   "source": [
    "# После запуска будет подсчитана метрика r2 на всем тестовом наборе данных. \n",
    "# Ваша задача - выбить не меньше 0.35, подстраивая параметры vw\n",
    "\n",
    "\n",
    "calc_r2('predictions.txt', 'airlines_test.vw')"
   ]
  }
 ],
 "metadata": {
  "coursera": {
   "schema_names": [
    "2-vw-task-85a7f4"
   ]
  },
  "kernelspec": {
   "display_name": "Python 3",
   "language": "python",
   "name": "python3"
  },
  "language_info": {
   "codemirror_mode": {
    "name": "ipython",
    "version": 3
   },
   "file_extension": ".py",
   "mimetype": "text/x-python",
   "name": "python",
   "nbconvert_exporter": "python",
   "pygments_lexer": "ipython3",
   "version": "3.8.5"
  }
 },
 "nbformat": 4,
 "nbformat_minor": 4
}

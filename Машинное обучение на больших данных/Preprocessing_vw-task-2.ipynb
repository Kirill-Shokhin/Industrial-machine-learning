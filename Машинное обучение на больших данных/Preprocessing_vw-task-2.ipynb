{
 "cells": [
  {
   "cell_type": "markdown",
   "metadata": {},
   "source": [
    "# Задача\n",
    "\n",
    "В файлах `airlines.reviews.train.tsv` и `airlines.reviews.test.tsv` находятся данные о пользовательских оценках различных авиакомпаний. Полноценный набор данных доступен <a href=\"https://github.com/quankiquanki/skytrax-reviews-dataset\"> по ссылке </a>.\n",
    "\n",
    "В данных есть отзыв, который оставил пользователь, и его оценка от 0 до 10. Пока мы будем работать __только с текстами отзыва train выборки__ (файл \"airlines.reviews.train.tsv\").\n",
    "\n",
    "__Примечание:__ Задания 1-3 надо выполнять последовательно, так как в каждом следующем используются результаты предыдущего."
   ]
  },
  {
   "cell_type": "code",
   "execution_count": 10,
   "metadata": {},
   "outputs": [],
   "source": [
    "import pandas as pd\n",
    "import numpy as np\n",
    "from tqdm import tqdm_notebook as tqdm\n",
    "\n",
    "import pandas as pd\n",
    "\n",
    "pd.set_option('display.max_columns', None)  \n",
    "pd.set_option('display.expand_frame_repr', False)\n",
    "pd.set_option('max_colwidth', 800)"
   ]
  },
  {
   "cell_type": "code",
   "execution_count": 2,
   "metadata": {},
   "outputs": [],
   "source": [
    "df = pd.read_csv('airlines.reviews.train.tsv', sep='\\t', usecols=['content'])"
   ]
  },
  {
   "cell_type": "code",
   "execution_count": 4,
   "metadata": {},
   "outputs": [],
   "source": [
    "import re\n",
    "words_only = re.compile('[a-z]+')\n",
    "def letters(s, regex = words_only):\n",
    "    if isinstance(s, str):\n",
    "        return words_only.findall(s.lower())\n",
    "    else:\n",
    "        return []\n",
    "df['clean_content'] = df.content.apply(letters)"
   ]
  },
  {
   "cell_type": "code",
   "execution_count": 5,
   "metadata": {},
   "outputs": [
    {
     "data": {
      "text/html": [
       "<div>\n",
       "<style scoped>\n",
       "    .dataframe tbody tr th:only-of-type {\n",
       "        vertical-align: middle;\n",
       "    }\n",
       "\n",
       "    .dataframe tbody tr th {\n",
       "        vertical-align: top;\n",
       "    }\n",
       "\n",
       "    .dataframe thead th {\n",
       "        text-align: right;\n",
       "    }\n",
       "</style>\n",
       "<table border=\"1\" class=\"dataframe\">\n",
       "  <thead>\n",
       "    <tr style=\"text-align: right;\">\n",
       "      <th></th>\n",
       "      <th>content</th>\n",
       "      <th>clean_content</th>\n",
       "    </tr>\n",
       "  </thead>\n",
       "  <tbody>\n",
       "    <tr>\n",
       "      <th>0</th>\n",
       "      <td>March 5th 2014 from Ottawa Canada to Cuba WG 630. They announced that the flight was going to be delayed 1 hour no explanation why. They started boarding and we took off only 1/2 hour late. There were 6 of us 2 were seated together and remaining 4 were put in aisle seats side by side. On the way back from Cuba on March 12th 2014 WG 631 we were slow going through immigration no fault of Sunwing. Finally arrived to our plane at 10.35am the doors immediately closed and the plane took off 5 minutes later 20 minutes earlier than expected. The 6 of us were pretty much split up by 2 each seating my 12 old daughter by herself behind us. Overall the staff were great very friendly and approachable. The food served was pretty good considering most airlines don't offer meal service for free. It wa...</td>\n",
       "      <td>[march, th, from, ottawa, canada, to, cuba, wg, they, announced, that, the, flight, was, going, to, be, delayed, hour, no, explanation, why, they, started, boarding, and, we, took, off, only, hour, late, there, were, of, us, were, seated, together, and, remaining, were, put, in, aisle, seats, side, by, side, on, the, way, back, from, cuba, on, march, th, wg, we, were, slow, going, through, immigration, no, fault, of, sunwing, finally, arrived, to, our, plane, at, am, the, doors, immediately, closed, and, the, plane, took, off, minutes, later, minutes, earlier, than, expected, the, of, us, were, pretty, much, split, up, by, ...]</td>\n",
       "    </tr>\n",
       "    <tr>\n",
       "      <th>1</th>\n",
       "      <td>SIN-FRA-BHX in Economy. First leg from Singapore on the A380 was great largely because I was fortunate enough to get an exit row seat with unlimited legroom (judging by fellow passengers one wouldn't be happy with normal seats as they had rather pathetic legroom). Nice modern AVOD system but the PTVs were rather small compared to other A380 airlines. Service was really friendly and warm but few frills (no amenity kit whatsoever no footrests). Meals were alright but again rather simple compared to Asian carriers. Second leg to Birmingham on an A320 was above average by intra-Europe standards with a decent snack/beverage service and friendly service again. All flights on time.</td>\n",
       "      <td>[sin, fra, bhx, in, economy, first, leg, from, singapore, on, the, a, was, great, largely, because, i, was, fortunate, enough, to, get, an, exit, row, seat, with, unlimited, legroom, judging, by, fellow, passengers, one, wouldn, t, be, happy, with, normal, seats, as, they, had, rather, pathetic, legroom, nice, modern, avod, system, but, the, ptvs, were, rather, small, compared, to, other, a, airlines, service, was, really, friendly, and, warm, but, few, frills, no, amenity, kit, whatsoever, no, footrests, meals, were, alright, but, again, rather, simple, compared, to, asian, carriers, second, leg, to, birmingham, on, an, a, was, above, average, by, intra, ...]</td>\n",
       "    </tr>\n",
       "  </tbody>\n",
       "</table>\n",
       "</div>"
      ],
      "text/plain": [
       "                                                                                                                                                                                                                                                                                                                                                                                                                                                                                                                                                                                                                                                                                                                                                                                                                           content                                                                                                                                                                                                                                                                                                                                                                                                                                                                                                                                                                                                                                                                                 clean_content\n",
       "0  March 5th 2014 from Ottawa Canada to Cuba WG 630. They announced that the flight was going to be delayed 1 hour no explanation why. They started boarding and we took off only 1/2 hour late. There were 6 of us 2 were seated together and remaining 4 were put in aisle seats side by side. On the way back from Cuba on March 12th 2014 WG 631 we were slow going through immigration no fault of Sunwing. Finally arrived to our plane at 10.35am the doors immediately closed and the plane took off 5 minutes later 20 minutes earlier than expected. The 6 of us were pretty much split up by 2 each seating my 12 old daughter by herself behind us. Overall the staff were great very friendly and approachable. The food served was pretty good considering most airlines don't offer meal service for free. It wa...                                   [march, th, from, ottawa, canada, to, cuba, wg, they, announced, that, the, flight, was, going, to, be, delayed, hour, no, explanation, why, they, started, boarding, and, we, took, off, only, hour, late, there, were, of, us, were, seated, together, and, remaining, were, put, in, aisle, seats, side, by, side, on, the, way, back, from, cuba, on, march, th, wg, we, were, slow, going, through, immigration, no, fault, of, sunwing, finally, arrived, to, our, plane, at, am, the, doors, immediately, closed, and, the, plane, took, off, minutes, later, minutes, earlier, than, expected, the, of, us, were, pretty, much, split, up, by, ...]\n",
       "1                                                                                                                      SIN-FRA-BHX in Economy. First leg from Singapore on the A380 was great largely because I was fortunate enough to get an exit row seat with unlimited legroom (judging by fellow passengers one wouldn't be happy with normal seats as they had rather pathetic legroom). Nice modern AVOD system but the PTVs were rather small compared to other A380 airlines. Service was really friendly and warm but few frills (no amenity kit whatsoever no footrests). Meals were alright but again rather simple compared to Asian carriers. Second leg to Birmingham on an A320 was above average by intra-Europe standards with a decent snack/beverage service and friendly service again. All flights on time.  [sin, fra, bhx, in, economy, first, leg, from, singapore, on, the, a, was, great, largely, because, i, was, fortunate, enough, to, get, an, exit, row, seat, with, unlimited, legroom, judging, by, fellow, passengers, one, wouldn, t, be, happy, with, normal, seats, as, they, had, rather, pathetic, legroom, nice, modern, avod, system, but, the, ptvs, were, rather, small, compared, to, other, a, airlines, service, was, really, friendly, and, warm, but, few, frills, no, amenity, kit, whatsoever, no, footrests, meals, were, alright, but, again, rather, simple, compared, to, asian, carriers, second, leg, to, birmingham, on, an, a, was, above, average, by, intra, ...]"
      ]
     },
     "execution_count": 5,
     "metadata": {},
     "output_type": "execute_result"
    }
   ],
   "source": [
    "df.head(2)"
   ]
  },
  {
   "cell_type": "markdown",
   "metadata": {},
   "source": [
    "### Задание 2 (10 баллов)\n",
    "\n",
    "Работайте с текстом, полученным в задании 1.\n",
    "\n",
    "Проведите стемминг с помощью SnowballStemmer из библиотеки NLTK. После этого удалите все стоп-слова (стоп-слова возьмите из библиотеки NLTK). Найдите топ-20 самых частотных стемм среди оставшихся после удаления стоп-слов и запишите в порядке убывания их частоты (аналогично заданию 1) в файл __popular_stems.txt__\n",
    "\n",
    "Полученные тексты (стеммы с удаленными стоп-словами) сохраните для задания 3."
   ]
  },
  {
   "cell_type": "code",
   "execution_count": 5,
   "metadata": {},
   "outputs": [],
   "source": [
    "### Ваше решение задания 2"
   ]
  },
  {
   "cell_type": "code",
   "execution_count": 6,
   "metadata": {},
   "outputs": [],
   "source": [
    "from nltk.stem.snowball import SnowballStemmer\n",
    "from functools import lru_cache\n",
    "from tqdm import tqdm\n",
    "\n",
    "snowball = SnowballStemmer(\"english\")"
   ]
  },
  {
   "cell_type": "code",
   "execution_count": 20,
   "metadata": {},
   "outputs": [],
   "source": [
    "def stemm_description(d):\n",
    "    @lru_cache(maxsize=128)\n",
    "    def stemm_token(token):\n",
    "        return snowball.stem(token)\n",
    "\n",
    "    return [stemm_token(t) for t in d]"
   ]
  },
  {
   "cell_type": "code",
   "execution_count": 15,
   "metadata": {},
   "outputs": [
    {
     "name": "stderr",
     "output_type": "stream",
     "text": [
      "100%|██████████| 23322/23322 [00:14<00:00, 1651.77it/s]\n"
     ]
    }
   ],
   "source": [
    "from multiprocessing import Pool\n",
    "\n",
    "with Pool(2) as p:\n",
    "    stems = list(tqdm(p.imap(stemm_description, df.clean_content), total=len(df.clean_content)))\n",
    "    \n",
    "df['stems'] = stems"
   ]
  },
  {
   "cell_type": "code",
   "execution_count": 22,
   "metadata": {},
   "outputs": [],
   "source": [
    "from nltk.corpus import stopwords\n",
    "stop_words = stopwords.words('english')"
   ]
  },
  {
   "cell_type": "code",
   "execution_count": 23,
   "metadata": {},
   "outputs": [],
   "source": [
    "def remove_stopwords(tokens, sw = stop_words):\n",
    "    return [t for t in tokens if not t in sw]\n",
    "df['stems_out_stop'] = df.stems.apply(remove_stopwords)"
   ]
  },
  {
   "cell_type": "code",
   "execution_count": 6,
   "metadata": {},
   "outputs": [],
   "source": [
    "import re\n",
    "import nltk.data \n",
    "from nltk.corpus import stopwords\n",
    "\n",
    "stop_words = stopwords.words('english')\n",
    "stop_words[:10]\n",
    "\n",
    "# токенизация \n",
    "words_only = re.compile('[a-z]+')\n",
    "\n",
    "def letters(s, regex = words_only):\n",
    "    if isinstance(s, str):\n",
    "        return words_only.findall(s.lower())\n",
    "    else:\n",
    "        return []\n",
    "\n",
    "# удаление стоп-слов\n",
    "def remove_stopwords(tokens, sw = stop_words):\n",
    "    return [t for t in tokens if not t in sw]\n",
    "\n",
    "def preprocess(s):\n",
    "    return remove_stopwords(letters(s))"
   ]
  },
  {
   "cell_type": "code",
   "execution_count": 7,
   "metadata": {},
   "outputs": [],
   "source": [
    "df['clean_description'] = df.content.map(preprocess)"
   ]
  },
  {
   "cell_type": "code",
   "execution_count": 8,
   "metadata": {},
   "outputs": [],
   "source": [
    "from functools import lru_cache\n",
    "def stemm_description(d):\n",
    "    @lru_cache(maxsize=128)\n",
    "    def stemm_token(token):\n",
    "        return snowball.stem(token)\n",
    "\n",
    "    return [stemm_token(t) for t in d if len(stemm_token(t)) >= 3]"
   ]
  },
  {
   "cell_type": "code",
   "execution_count": 13,
   "metadata": {},
   "outputs": [
    {
     "data": {
      "application/vnd.jupyter.widget-view+json": {
       "model_id": "5d1752ac4bb14cffad3e7752d12fa101",
       "version_major": 2,
       "version_minor": 0
      },
      "text/plain": [
       "HBox(children=(FloatProgress(value=0.0, max=23322.0), HTML(value='')))"
      ]
     },
     "metadata": {},
     "output_type": "display_data"
    },
    {
     "name": "stdout",
     "output_type": "stream",
     "text": [
      "\n"
     ]
    }
   ],
   "source": [
    "from multiprocessing import Pool\n",
    "from nltk.stem.snowball import SnowballStemmer\n",
    "snowball = SnowballStemmer(\"english\")\n",
    "snowball.stem('apartment')\n",
    "\n",
    "with Pool(2) as p:\n",
    "    stems = list(tqdm(p.imap(stemm_description, df.clean_description), total=len(df)))\n",
    "    \n",
    "df['stems'] = stems"
   ]
  },
  {
   "cell_type": "code",
   "execution_count": 14,
   "metadata": {},
   "outputs": [],
   "source": [
    "from collections import Counter\n",
    "words = np.concatenate(df['stems'].values).tolist()\n",
    "answer = sorted(Counter(words), key=Counter(words).get, reverse=True)[:20]"
   ]
  },
  {
   "cell_type": "code",
   "execution_count": 16,
   "metadata": {},
   "outputs": [],
   "source": [
    "with open('popular_stems.txt', 'w') as f:\n",
    "    f.write('\\n'.join(answer))"
   ]
  },
  {
   "cell_type": "code",
   "execution_count": 15,
   "metadata": {},
   "outputs": [
    {
     "data": {
      "text/plain": [
       "[('flight', 47092),\n",
       " ('seat', 23530),\n",
       " ('time', 14828),\n",
       " ('servic', 14326),\n",
       " ('good', 13337),\n",
       " ('food', 12481),\n",
       " ('airlin', 11004),\n",
       " ('hour', 10313),\n",
       " ('crew', 10160),\n",
       " ('staff', 8934),\n",
       " ('plane', 8671),\n",
       " ('check', 8551),\n",
       " ('return', 8270),\n",
       " ('cabin', 8109),\n",
       " ('class', 8095),\n",
       " ('fli', 7976),\n",
       " ('board', 7770),\n",
       " ('would', 7728),\n",
       " ('one', 7437),\n",
       " ('busi', 6956)]"
      ]
     },
     "execution_count": 15,
     "metadata": {},
     "output_type": "execute_result"
    }
   ],
   "source": [
    "Counter(words).most_common(20)"
   ]
  }
 ],
 "metadata": {
  "coursera": {
   "schema_names": [
    "1-preprocessing-vw-task-2-ab11b2"
   ]
  },
  "kernelspec": {
   "display_name": "Python 3",
   "language": "python",
   "name": "python3"
  },
  "language_info": {
   "codemirror_mode": {
    "name": "ipython",
    "version": 3
   },
   "file_extension": ".py",
   "mimetype": "text/x-python",
   "name": "python",
   "nbconvert_exporter": "python",
   "pygments_lexer": "ipython3",
   "version": "3.8.5"
  }
 },
 "nbformat": 4,
 "nbformat_minor": 4
}

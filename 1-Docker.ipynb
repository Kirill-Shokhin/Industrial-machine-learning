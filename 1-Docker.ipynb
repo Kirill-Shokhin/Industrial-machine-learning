{
 "cells": [
  {
   "cell_type": "markdown",
   "metadata": {},
   "source": [
    "# Задача\n",
    "\n",
    "В файле `secret.txt` зашифрован текст. Существует публичный образ `adkosmos/decryptor:latest` - он может расшифровать этот файл. Необходимо используя этот образ расшифровать файл `secret.txt`. Декодированный текст необходимо записать в `result.txt`.\n",
    "\n",
    "Сам образ работает следущим образом - в качестве аргументов командной строки он принимает путь до файла, который нужно декодировать. Декодированную информацию он печатает на экран. Необходимо пробросить файл `secret.txt` внутрь этого контейнера, декодировать содержимое, скопировать и здесь вставить его в `result.txt`."
   ]
  },
  {
   "cell_type": "code",
   "execution_count": 1,
   "metadata": {},
   "outputs": [
    {
     "name": "stdout",
     "output_type": "stream",
     "text": [
      "gAAAAABfP9sWsseqRuN7fTxgiUcpBHJFaQIQ7AYTrvnKJCNwxOHJ9DkOesRYjvFH8HOn_yR-wBoNjSduJteSeSEJqX8XF28zzOq8_ogrX6jfnXOPcHlc3rhSu871DYb2h5MFs3wkGIoGDkywmSI4_PCIMSimpmWLDJH__VDTpk8Y9sq35R2dLhKcyo5Z7h5st6CwzJkpPRe3"
     ]
    }
   ],
   "source": [
    "! cat secret.txt"
   ]
  },
  {
   "cell_type": "code",
   "execution_count": 2,
   "metadata": {},
   "outputs": [
    {
     "name": "stdout",
     "output_type": "stream",
     "text": [
      "Writing result.txt\n"
     ]
    }
   ],
   "source": [
    "%%writefile result.txt\n",
    "Somebody once told me the world is gonna roll me, I ain't the sharpest tool in the shed."
   ]
  },
  {
   "cell_type": "code",
   "execution_count": 3,
   "metadata": {},
   "outputs": [
    {
     "name": "stdout",
     "output_type": "stream",
     "text": [
      "Somebody once told me the world is gonna roll me, I ain't the sharpest tool in the shed."
     ]
    }
   ],
   "source": [
    "!cat result.txt"
   ]
  }
 ],
 "metadata": {
  "coursera": {
   "schema_names": [
    "1-docker-task-e8eca4"
   ]
  },
  "kernelspec": {
   "display_name": "Python 3",
   "language": "python",
   "name": "python3"
  },
  "language_info": {
   "codemirror_mode": {
    "name": "ipython",
    "version": 3
   },
   "file_extension": ".py",
   "mimetype": "text/x-python",
   "name": "python",
   "nbconvert_exporter": "python",
   "pygments_lexer": "ipython3",
   "version": "3.6.5"
  }
 },
 "nbformat": 4,
 "nbformat_minor": 2
}
